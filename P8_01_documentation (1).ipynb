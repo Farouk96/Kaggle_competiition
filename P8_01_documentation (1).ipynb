{
  "cells": [
    {
      "cell_type": "code",
      "execution_count": null,
      "metadata": {
        "id": "jDJ2-KqNxpHV"
      },
      "outputs": [],
      "source": [
        "#IMPORT REQUIRED LIBRARIEs\n",
        "from time import time\n",
        "import numpy as np\n",
        "import pandas as pd\n",
        "import os\n",
        "from re import search\n",
        "import shutil\n",
        "from PIL import Image\n",
        "import matplotlib.pyplot as plt\n",
        "import seaborn as sns\n",
        "from tqdm import tqdm\n",
        "import cv2\n",
        "\n",
        "import tensorflow as tf\n",
        "from tensorflow import keras\n",
        "from tensorflow.keras.models import Sequential\n",
        "from tensorflow.keras.callbacks import ModelCheckpoint,EarlyStopping\n",
        "from tensorflow.keras.preprocessing.image import ImageDataGenerator\n",
        "from tensorflow.keras.layers import Dense,Activation,Flatten, Conv2D, MaxPooling2D,Dropout"
      ]
    },
    {
      "cell_type": "code",
      "source": [
        "!pip install tensorflow_addons\n",
        "import tensorflow_addons as tfa"
      ],
      "metadata": {
        "colab": {
          "base_uri": "https://localhost:8080/"
        },
        "id": "1yRMaKSrsHGg",
        "outputId": "d8695832-8d16-4a53-c7b6-beeba7241eed"
      },
      "execution_count": null,
      "outputs": [
        {
          "output_type": "stream",
          "name": "stdout",
          "text": [
            "Collecting tensorflow_addons\n",
            "  Downloading tensorflow_addons-0.15.0-cp37-cp37m-manylinux_2_12_x86_64.manylinux2010_x86_64.whl (1.1 MB)\n",
            "\u001b[?25l\r\u001b[K     |▎                               | 10 kB 22.2 MB/s eta 0:00:01\r\u001b[K     |▋                               | 20 kB 27.9 MB/s eta 0:00:01\r\u001b[K     |▉                               | 30 kB 21.3 MB/s eta 0:00:01\r\u001b[K     |█▏                              | 40 kB 17.3 MB/s eta 0:00:01\r\u001b[K     |█▌                              | 51 kB 14.0 MB/s eta 0:00:01\r\u001b[K     |█▊                              | 61 kB 13.1 MB/s eta 0:00:01\r\u001b[K     |██                              | 71 kB 10.4 MB/s eta 0:00:01\r\u001b[K     |██▍                             | 81 kB 11.6 MB/s eta 0:00:01\r\u001b[K     |██▋                             | 92 kB 10.7 MB/s eta 0:00:01\r\u001b[K     |███                             | 102 kB 11.6 MB/s eta 0:00:01\r\u001b[K     |███▎                            | 112 kB 11.6 MB/s eta 0:00:01\r\u001b[K     |███▌                            | 122 kB 11.6 MB/s eta 0:00:01\r\u001b[K     |███▉                            | 133 kB 11.6 MB/s eta 0:00:01\r\u001b[K     |████▏                           | 143 kB 11.6 MB/s eta 0:00:01\r\u001b[K     |████▍                           | 153 kB 11.6 MB/s eta 0:00:01\r\u001b[K     |████▊                           | 163 kB 11.6 MB/s eta 0:00:01\r\u001b[K     |█████                           | 174 kB 11.6 MB/s eta 0:00:01\r\u001b[K     |█████▎                          | 184 kB 11.6 MB/s eta 0:00:01\r\u001b[K     |█████▋                          | 194 kB 11.6 MB/s eta 0:00:01\r\u001b[K     |█████▉                          | 204 kB 11.6 MB/s eta 0:00:01\r\u001b[K     |██████▏                         | 215 kB 11.6 MB/s eta 0:00:01\r\u001b[K     |██████▌                         | 225 kB 11.6 MB/s eta 0:00:01\r\u001b[K     |██████▊                         | 235 kB 11.6 MB/s eta 0:00:01\r\u001b[K     |███████                         | 245 kB 11.6 MB/s eta 0:00:01\r\u001b[K     |███████▍                        | 256 kB 11.6 MB/s eta 0:00:01\r\u001b[K     |███████▋                        | 266 kB 11.6 MB/s eta 0:00:01\r\u001b[K     |████████                        | 276 kB 11.6 MB/s eta 0:00:01\r\u001b[K     |████████▎                       | 286 kB 11.6 MB/s eta 0:00:01\r\u001b[K     |████████▌                       | 296 kB 11.6 MB/s eta 0:00:01\r\u001b[K     |████████▉                       | 307 kB 11.6 MB/s eta 0:00:01\r\u001b[K     |█████████                       | 317 kB 11.6 MB/s eta 0:00:01\r\u001b[K     |█████████▍                      | 327 kB 11.6 MB/s eta 0:00:01\r\u001b[K     |█████████▊                      | 337 kB 11.6 MB/s eta 0:00:01\r\u001b[K     |██████████                      | 348 kB 11.6 MB/s eta 0:00:01\r\u001b[K     |██████████▎                     | 358 kB 11.6 MB/s eta 0:00:01\r\u001b[K     |██████████▋                     | 368 kB 11.6 MB/s eta 0:00:01\r\u001b[K     |██████████▉                     | 378 kB 11.6 MB/s eta 0:00:01\r\u001b[K     |███████████▏                    | 389 kB 11.6 MB/s eta 0:00:01\r\u001b[K     |███████████▌                    | 399 kB 11.6 MB/s eta 0:00:01\r\u001b[K     |███████████▊                    | 409 kB 11.6 MB/s eta 0:00:01\r\u001b[K     |████████████                    | 419 kB 11.6 MB/s eta 0:00:01\r\u001b[K     |████████████▍                   | 430 kB 11.6 MB/s eta 0:00:01\r\u001b[K     |████████████▋                   | 440 kB 11.6 MB/s eta 0:00:01\r\u001b[K     |█████████████                   | 450 kB 11.6 MB/s eta 0:00:01\r\u001b[K     |█████████████▎                  | 460 kB 11.6 MB/s eta 0:00:01\r\u001b[K     |█████████████▌                  | 471 kB 11.6 MB/s eta 0:00:01\r\u001b[K     |█████████████▉                  | 481 kB 11.6 MB/s eta 0:00:01\r\u001b[K     |██████████████                  | 491 kB 11.6 MB/s eta 0:00:01\r\u001b[K     |██████████████▍                 | 501 kB 11.6 MB/s eta 0:00:01\r\u001b[K     |██████████████▊                 | 512 kB 11.6 MB/s eta 0:00:01\r\u001b[K     |███████████████                 | 522 kB 11.6 MB/s eta 0:00:01\r\u001b[K     |███████████████▎                | 532 kB 11.6 MB/s eta 0:00:01\r\u001b[K     |███████████████▋                | 542 kB 11.6 MB/s eta 0:00:01\r\u001b[K     |███████████████▉                | 552 kB 11.6 MB/s eta 0:00:01\r\u001b[K     |████████████████▏               | 563 kB 11.6 MB/s eta 0:00:01\r\u001b[K     |████████████████▌               | 573 kB 11.6 MB/s eta 0:00:01\r\u001b[K     |████████████████▊               | 583 kB 11.6 MB/s eta 0:00:01\r\u001b[K     |█████████████████               | 593 kB 11.6 MB/s eta 0:00:01\r\u001b[K     |█████████████████▍              | 604 kB 11.6 MB/s eta 0:00:01\r\u001b[K     |█████████████████▋              | 614 kB 11.6 MB/s eta 0:00:01\r\u001b[K     |██████████████████              | 624 kB 11.6 MB/s eta 0:00:01\r\u001b[K     |██████████████████▏             | 634 kB 11.6 MB/s eta 0:00:01\r\u001b[K     |██████████████████▌             | 645 kB 11.6 MB/s eta 0:00:01\r\u001b[K     |██████████████████▉             | 655 kB 11.6 MB/s eta 0:00:01\r\u001b[K     |███████████████████             | 665 kB 11.6 MB/s eta 0:00:01\r\u001b[K     |███████████████████▍            | 675 kB 11.6 MB/s eta 0:00:01\r\u001b[K     |███████████████████▊            | 686 kB 11.6 MB/s eta 0:00:01\r\u001b[K     |████████████████████            | 696 kB 11.6 MB/s eta 0:00:01\r\u001b[K     |████████████████████▎           | 706 kB 11.6 MB/s eta 0:00:01\r\u001b[K     |████████████████████▋           | 716 kB 11.6 MB/s eta 0:00:01\r\u001b[K     |████████████████████▉           | 727 kB 11.6 MB/s eta 0:00:01\r\u001b[K     |█████████████████████▏          | 737 kB 11.6 MB/s eta 0:00:01\r\u001b[K     |█████████████████████▌          | 747 kB 11.6 MB/s eta 0:00:01\r\u001b[K     |█████████████████████▊          | 757 kB 11.6 MB/s eta 0:00:01\r\u001b[K     |██████████████████████          | 768 kB 11.6 MB/s eta 0:00:01\r\u001b[K     |██████████████████████▎         | 778 kB 11.6 MB/s eta 0:00:01\r\u001b[K     |██████████████████████▋         | 788 kB 11.6 MB/s eta 0:00:01\r\u001b[K     |███████████████████████         | 798 kB 11.6 MB/s eta 0:00:01\r\u001b[K     |███████████████████████▏        | 808 kB 11.6 MB/s eta 0:00:01\r\u001b[K     |███████████████████████▌        | 819 kB 11.6 MB/s eta 0:00:01\r\u001b[K     |███████████████████████▉        | 829 kB 11.6 MB/s eta 0:00:01\r\u001b[K     |████████████████████████        | 839 kB 11.6 MB/s eta 0:00:01\r\u001b[K     |████████████████████████▍       | 849 kB 11.6 MB/s eta 0:00:01\r\u001b[K     |████████████████████████▊       | 860 kB 11.6 MB/s eta 0:00:01\r\u001b[K     |█████████████████████████       | 870 kB 11.6 MB/s eta 0:00:01\r\u001b[K     |█████████████████████████▎      | 880 kB 11.6 MB/s eta 0:00:01\r\u001b[K     |█████████████████████████▋      | 890 kB 11.6 MB/s eta 0:00:01\r\u001b[K     |█████████████████████████▉      | 901 kB 11.6 MB/s eta 0:00:01\r\u001b[K     |██████████████████████████▏     | 911 kB 11.6 MB/s eta 0:00:01\r\u001b[K     |██████████████████████████▌     | 921 kB 11.6 MB/s eta 0:00:01\r\u001b[K     |██████████████████████████▊     | 931 kB 11.6 MB/s eta 0:00:01\r\u001b[K     |███████████████████████████     | 942 kB 11.6 MB/s eta 0:00:01\r\u001b[K     |███████████████████████████▎    | 952 kB 11.6 MB/s eta 0:00:01\r\u001b[K     |███████████████████████████▋    | 962 kB 11.6 MB/s eta 0:00:01\r\u001b[K     |████████████████████████████    | 972 kB 11.6 MB/s eta 0:00:01\r\u001b[K     |████████████████████████████▏   | 983 kB 11.6 MB/s eta 0:00:01\r\u001b[K     |████████████████████████████▌   | 993 kB 11.6 MB/s eta 0:00:01\r\u001b[K     |████████████████████████████▉   | 1.0 MB 11.6 MB/s eta 0:00:01\r\u001b[K     |█████████████████████████████   | 1.0 MB 11.6 MB/s eta 0:00:01\r\u001b[K     |█████████████████████████████▍  | 1.0 MB 11.6 MB/s eta 0:00:01\r\u001b[K     |█████████████████████████████▊  | 1.0 MB 11.6 MB/s eta 0:00:01\r\u001b[K     |██████████████████████████████  | 1.0 MB 11.6 MB/s eta 0:00:01\r\u001b[K     |██████████████████████████████▎ | 1.1 MB 11.6 MB/s eta 0:00:01\r\u001b[K     |██████████████████████████████▋ | 1.1 MB 11.6 MB/s eta 0:00:01\r\u001b[K     |██████████████████████████████▉ | 1.1 MB 11.6 MB/s eta 0:00:01\r\u001b[K     |███████████████████████████████▏| 1.1 MB 11.6 MB/s eta 0:00:01\r\u001b[K     |███████████████████████████████▍| 1.1 MB 11.6 MB/s eta 0:00:01\r\u001b[K     |███████████████████████████████▊| 1.1 MB 11.6 MB/s eta 0:00:01\r\u001b[K     |████████████████████████████████| 1.1 MB 11.6 MB/s \n",
            "\u001b[?25hRequirement already satisfied: typeguard>=2.7 in /usr/local/lib/python3.7/dist-packages (from tensorflow_addons) (2.7.1)\n",
            "Installing collected packages: tensorflow-addons\n",
            "Successfully installed tensorflow-addons-0.15.0\n"
          ]
        }
      ]
    },
    {
      "cell_type": "markdown",
      "source": [
        "#Data preparation"
      ],
      "metadata": {
        "id": "026VmWhf0IKr"
      }
    },
    {
      "cell_type": "code",
      "execution_count": null,
      "metadata": {
        "colab": {
          "base_uri": "https://localhost:8080/",
          "height": 424
        },
        "id": "_LMOFDyK716h",
        "outputId": "5bbb26a9-178f-4102-ae5f-3de97b288a10"
      },
      "outputs": [
        {
          "output_type": "execute_result",
          "data": {
            "text/html": [
              "\n",
              "  <div id=\"df-e75d07ce-4866-4745-8ade-d016df4a7073\">\n",
              "    <div class=\"colab-df-container\">\n",
              "      <div>\n",
              "<style scoped>\n",
              "    .dataframe tbody tr th:only-of-type {\n",
              "        vertical-align: middle;\n",
              "    }\n",
              "\n",
              "    .dataframe tbody tr th {\n",
              "        vertical-align: top;\n",
              "    }\n",
              "\n",
              "    .dataframe thead th {\n",
              "        text-align: right;\n",
              "    }\n",
              "</style>\n",
              "<table border=\"1\" class=\"dataframe\">\n",
              "  <thead>\n",
              "    <tr style=\"text-align: right;\">\n",
              "      <th></th>\n",
              "      <th>image</th>\n",
              "      <th>labels</th>\n",
              "    </tr>\n",
              "  </thead>\n",
              "  <tbody>\n",
              "    <tr>\n",
              "      <th>0</th>\n",
              "      <td>800113bb65efe69e.jpg</td>\n",
              "      <td>healthy</td>\n",
              "    </tr>\n",
              "    <tr>\n",
              "      <th>1</th>\n",
              "      <td>8002cb321f8bfcdf.jpg</td>\n",
              "      <td>scab frog_eye_leaf_spot complex</td>\n",
              "    </tr>\n",
              "    <tr>\n",
              "      <th>2</th>\n",
              "      <td>80070f7fb5e2ccaa.jpg</td>\n",
              "      <td>scab</td>\n",
              "    </tr>\n",
              "    <tr>\n",
              "      <th>3</th>\n",
              "      <td>80077517781fb94f.jpg</td>\n",
              "      <td>scab</td>\n",
              "    </tr>\n",
              "    <tr>\n",
              "      <th>4</th>\n",
              "      <td>800cbf0ff87721f8.jpg</td>\n",
              "      <td>complex</td>\n",
              "    </tr>\n",
              "    <tr>\n",
              "      <th>...</th>\n",
              "      <td>...</td>\n",
              "      <td>...</td>\n",
              "    </tr>\n",
              "    <tr>\n",
              "      <th>18627</th>\n",
              "      <td>fffb900a92289a33.jpg</td>\n",
              "      <td>healthy</td>\n",
              "    </tr>\n",
              "    <tr>\n",
              "      <th>18628</th>\n",
              "      <td>fffc488fa4c0e80c.jpg</td>\n",
              "      <td>scab</td>\n",
              "    </tr>\n",
              "    <tr>\n",
              "      <th>18629</th>\n",
              "      <td>fffc94e092a59086.jpg</td>\n",
              "      <td>rust</td>\n",
              "    </tr>\n",
              "    <tr>\n",
              "      <th>18630</th>\n",
              "      <td>fffe105cf6808292.jpg</td>\n",
              "      <td>scab frog_eye_leaf_spot</td>\n",
              "    </tr>\n",
              "    <tr>\n",
              "      <th>18631</th>\n",
              "      <td>fffe472a0001bd25.jpg</td>\n",
              "      <td>healthy</td>\n",
              "    </tr>\n",
              "  </tbody>\n",
              "</table>\n",
              "<p>18632 rows × 2 columns</p>\n",
              "</div>\n",
              "      <button class=\"colab-df-convert\" onclick=\"convertToInteractive('df-e75d07ce-4866-4745-8ade-d016df4a7073')\"\n",
              "              title=\"Convert this dataframe to an interactive table.\"\n",
              "              style=\"display:none;\">\n",
              "        \n",
              "  <svg xmlns=\"http://www.w3.org/2000/svg\" height=\"24px\"viewBox=\"0 0 24 24\"\n",
              "       width=\"24px\">\n",
              "    <path d=\"M0 0h24v24H0V0z\" fill=\"none\"/>\n",
              "    <path d=\"M18.56 5.44l.94 2.06.94-2.06 2.06-.94-2.06-.94-.94-2.06-.94 2.06-2.06.94zm-11 1L8.5 8.5l.94-2.06 2.06-.94-2.06-.94L8.5 2.5l-.94 2.06-2.06.94zm10 10l.94 2.06.94-2.06 2.06-.94-2.06-.94-.94-2.06-.94 2.06-2.06.94z\"/><path d=\"M17.41 7.96l-1.37-1.37c-.4-.4-.92-.59-1.43-.59-.52 0-1.04.2-1.43.59L10.3 9.45l-7.72 7.72c-.78.78-.78 2.05 0 2.83L4 21.41c.39.39.9.59 1.41.59.51 0 1.02-.2 1.41-.59l7.78-7.78 2.81-2.81c.8-.78.8-2.07 0-2.86zM5.41 20L4 18.59l7.72-7.72 1.47 1.35L5.41 20z\"/>\n",
              "  </svg>\n",
              "      </button>\n",
              "      \n",
              "  <style>\n",
              "    .colab-df-container {\n",
              "      display:flex;\n",
              "      flex-wrap:wrap;\n",
              "      gap: 12px;\n",
              "    }\n",
              "\n",
              "    .colab-df-convert {\n",
              "      background-color: #E8F0FE;\n",
              "      border: none;\n",
              "      border-radius: 50%;\n",
              "      cursor: pointer;\n",
              "      display: none;\n",
              "      fill: #1967D2;\n",
              "      height: 32px;\n",
              "      padding: 0 0 0 0;\n",
              "      width: 32px;\n",
              "    }\n",
              "\n",
              "    .colab-df-convert:hover {\n",
              "      background-color: #E2EBFA;\n",
              "      box-shadow: 0px 1px 2px rgba(60, 64, 67, 0.3), 0px 1px 3px 1px rgba(60, 64, 67, 0.15);\n",
              "      fill: #174EA6;\n",
              "    }\n",
              "\n",
              "    [theme=dark] .colab-df-convert {\n",
              "      background-color: #3B4455;\n",
              "      fill: #D2E3FC;\n",
              "    }\n",
              "\n",
              "    [theme=dark] .colab-df-convert:hover {\n",
              "      background-color: #434B5C;\n",
              "      box-shadow: 0px 1px 3px 1px rgba(0, 0, 0, 0.15);\n",
              "      filter: drop-shadow(0px 1px 2px rgba(0, 0, 0, 0.3));\n",
              "      fill: #FFFFFF;\n",
              "    }\n",
              "  </style>\n",
              "\n",
              "      <script>\n",
              "        const buttonEl =\n",
              "          document.querySelector('#df-e75d07ce-4866-4745-8ade-d016df4a7073 button.colab-df-convert');\n",
              "        buttonEl.style.display =\n",
              "          google.colab.kernel.accessAllowed ? 'block' : 'none';\n",
              "\n",
              "        async function convertToInteractive(key) {\n",
              "          const element = document.querySelector('#df-e75d07ce-4866-4745-8ade-d016df4a7073');\n",
              "          const dataTable =\n",
              "            await google.colab.kernel.invokeFunction('convertToInteractive',\n",
              "                                                     [key], {});\n",
              "          if (!dataTable) return;\n",
              "\n",
              "          const docLinkHtml = 'Like what you see? Visit the ' +\n",
              "            '<a target=\"_blank\" href=https://colab.research.google.com/notebooks/data_table.ipynb>data table notebook</a>'\n",
              "            + ' to learn more about interactive tables.';\n",
              "          element.innerHTML = '';\n",
              "          dataTable['output_type'] = 'display_data';\n",
              "          await google.colab.output.renderOutput(dataTable, element);\n",
              "          const docLink = document.createElement('div');\n",
              "          docLink.innerHTML = docLinkHtml;\n",
              "          element.appendChild(docLink);\n",
              "        }\n",
              "      </script>\n",
              "    </div>\n",
              "  </div>\n",
              "  "
            ],
            "text/plain": [
              "                      image                           labels\n",
              "0      800113bb65efe69e.jpg                          healthy\n",
              "1      8002cb321f8bfcdf.jpg  scab frog_eye_leaf_spot complex\n",
              "2      80070f7fb5e2ccaa.jpg                             scab\n",
              "3      80077517781fb94f.jpg                             scab\n",
              "4      800cbf0ff87721f8.jpg                          complex\n",
              "...                     ...                              ...\n",
              "18627  fffb900a92289a33.jpg                          healthy\n",
              "18628  fffc488fa4c0e80c.jpg                             scab\n",
              "18629  fffc94e092a59086.jpg                             rust\n",
              "18630  fffe105cf6808292.jpg          scab frog_eye_leaf_spot\n",
              "18631  fffe472a0001bd25.jpg                          healthy\n",
              "\n",
              "[18632 rows x 2 columns]"
            ]
          },
          "metadata": {},
          "execution_count": 4
        }
      ],
      "source": [
        "#IMAGE PATH & DATAFRAME:\n",
        "TRAIN_PATH = \"/content/drive/MyDrive/ P8_kaggle_competition/train_images\"\n",
        "train_df = pd.read_csv(\"/content/drive/MyDrive/ P8_kaggle_competition/train.csv\",sep=',')\n",
        "train_df"
      ]
    },
    {
      "cell_type": "code",
      "source": [
        "#Labels distribution\n",
        "plt.figure(figsize=(15,10))\n",
        "sns.countplot(data=train_df,x='labels')\n",
        "plt.xticks(rotation=90)\n",
        "plt.title('Labels distribution')\n",
        "plt.show()"
      ],
      "metadata": {
        "colab": {
          "base_uri": "https://localhost:8080/",
          "height": 776
        },
        "id": "9vovHmbVLAa_",
        "outputId": "54ada5f0-6bf3-40a8-8871-156b6192648a"
      },
      "execution_count": null,
      "outputs": [
        {
          "output_type": "display_data",
          "data": {
            "image/png": "[encoded data removed]",
            "text/plain": [
              "<Figure size 1080x720 with 1 Axes>"
            ]
          },
          "metadata": {
            "needs_background": "light"
          }
        }
      ]
    },
    {
      "cell_type": "code",
      "execution_count": null,
      "metadata": {
        "colab": {
          "base_uri": "https://localhost:8080/"
        },
        "id": "tRRbjCyj6Ooj",
        "outputId": "d3f45ac0-e822-4a89-b0a3-409ccdc61b97"
      },
      "outputs": [
        {
          "output_type": "execute_result",
          "data": {
            "text/plain": [
              "['c04632b533bba33d.jpg',\n",
              " 'c03e65db32f086cd.jpg',\n",
              " 'c0377614f870c35f.jpg',\n",
              " 'c05a3720fd610edf.jpg',\n",
              " 'c0702f17c4f8fb45.jpg',\n",
              " 'c06d02d4ca4af5df.jpg',\n",
              " 'c06c7a60b360b77e.jpg',\n",
              " 'c08552de599f1c2f.jpg',\n",
              " 'c08364e6716477fa.jpg',\n",
              " 'c0816a962dceb76b.jpg',\n",
              " 'c0853d6535f2d43e.jpg',\n",
              " 'c08eb5c5b7953c98.jpg',\n",
              " 'c0883b8e6e2ddf29.jpg',\n",
              " 'c08e2b86b5bf70a3.jpg',\n",
              " 'c09798cb9eb16639.jpg',\n",
              " 'c09f21a433bf3758.jpg',\n",
              " 'c09e35c7d027fa16.jpg',\n",
              " 'c09927d183363cdf.jpg',\n",
              " 'c0983fc02e27facb.jpg',\n",
              " 'c09a3f8d684f1579.jpg',\n",
              " 'c0a42dfd195dd331.jpg',\n",
              " 'c0c063eb2afc3ab5.jpg',\n",
              " 'c0c2202b0f7f7fe4.jpg',\n",
              " 'c0bc431f5396b0f5.jpg',\n",
              " 'c0bd68dad79507a2.jpg',\n",
              " 'c0c73614ce4ee4ed.jpg',\n",
              " 'c0cb3f1b38f8e0d4.jpg',\n",
              " 'c0c8679f29e519bc.jpg',\n",
              " 'c0cf8b9899d591b3.jpg',\n",
              " 'c0c66a37fdf58061.jpg',\n",
              " 'c0df29ce91d73950.jpg',\n",
              " 'c0e027301fd757ad.jpg',\n",
              " 'c0d91da6b3b891cd.jpg',\n",
              " 'c0df0336b4707e65.jpg',\n",
              " 'c0e00e1cff8f429f.jpg',\n",
              " 'c0e6e21b32cde8f4.jpg',\n",
              " 'c0e1616f4d439b9b.jpg',\n",
              " 'c0e18cf07d1b2de9.jpg',\n",
              " 'c0f1155cba5c13fc.jpg',\n",
              " 'c0ef90ea018ffb1c.jpg',\n",
              " 'c0f82f0ec6e6ba8a.jpg',\n",
              " 'c0feb19f5595d204.jpg',\n",
              " 'c0f896d7dbad05a0.jpg',\n",
              " 'c0fc90877d04fc5e.jpg',\n",
              " 'c13977cb1d2708e3.jpg',\n",
              " 'c112607fde049f6d.jpg',\n",
              " 'c1313b58da19bde1.jpg',\n",
              " 'c11d1e8fdc1dd09c.jpg',\n",
              " 'c13330f952396b3d.jpg',\n",
              " 'c13a1f375c3e4456.jpg',\n",
              " 'c13f6903bef06f20.jpg',\n",
              " 'c142172a7f9bd42b.jpg',\n",
              " 'c14ac7db692a26d9.jpg',\n",
              " 'c13c536a5de1a0db.jpg',\n",
              " 'c15d3d3ae123c547.jpg',\n",
              " 'c1870ebc7db0303f.jpg',\n",
              " 'c1642e733803bf97.jpg',\n",
              " 'c16f9bd00b960bf2.jpg',\n",
              " 'c1976d8b1f713930.jpg',\n",
              " 'c19ae1ce9f2a3562.jpg',\n",
              " 'c19327bf409a1f0f.jpg',\n",
              " 'c19a7aca95e54c35.jpg',\n",
              " 'c1b0c5d526cc6aed.jpg',\n",
              " 'c1b87f90f03a3ab8.jpg',\n",
              " 'c1b70bf0ff01806f.jpg',\n",
              " 'c1b3257c5ab6b096.jpg',\n",
              " 'c1c34ac9b9557393.jpg',\n",
              " 'c1d58317fa8ccd0d.jpg',\n",
              " 'c1cd9ac4a877a2dc.jpg',\n",
              " 'c1cc8f836c9239eb.jpg',\n",
              " 'c1d67e6365393492.jpg',\n",
              " 'c1dc61d4815b5c7b.jpg',\n",
              " 'c1e068e15f4fb18d.jpg',\n",
              " 'c1e23fd761222b39.jpg',\n",
              " 'c1deb0915a61be5a.jpg',\n",
              " 'c1e096ac9ab361db.jpg',\n",
              " 'c1e065c95bb43e6c.jpg',\n",
              " 'c1df1a3d30bc9398.jpg',\n",
              " 'c1e792921b613fa5.jpg',\n",
              " 'c1f374d78f40c827.jpg',\n",
              " 'c1e7799ce06e0e1c.jpg',\n",
              " 'c1fc2e657b4a05b4.jpg',\n",
              " 'c20039be91fa94fb.jpg',\n",
              " 'c20f1f383de0f187.jpg',\n",
              " 'c1fa2e8ab2d53a0e.jpg',\n",
              " 'c238eb9aab388f68.jpg',\n",
              " 'c2249ada9d6cc59e.jpg',\n",
              " 'c2403f37309979fc.jpg',\n",
              " 'c23066d02fc17deb.jpg',\n",
              " 'c21f396847e31ba3.jpg',\n",
              " 'c225cf8aba4eb952.jpg',\n",
              " 'c278179dc3964b96.jpg',\n",
              " 'c2651a17c319f759.jpg',\n",
              " 'c252b1ce3353ad4d.jpg',\n",
              " 'c26d93f4c2c3aaca.jpg',\n",
              " 'c2883f3c52b2e29f.jpg',\n",
              " 'c2933ec14cd7e01f.jpg',\n",
              " 'c292bc3e8758ee61.jpg',\n",
              " 'c285d82f2ab65ada.jpg',\n",
              " 'c28b3f2520f79f03.jpg',\n",
              " 'c2906eb694eb39cc.jpg',\n",
              " 'c2af619cb9093acd.jpg',\n",
              " 'c299ba99f17f1424.jpg',\n",
              " 'c2b83af1d8b5e834.jpg',\n",
              " 'c2cdd3847bb2c136.jpg',\n",
              " 'c2e7974c98925ed8.jpg',\n",
              " 'c2dc312fed08623f.jpg',\n",
              " 'c2db68bcd7969a80.jpg',\n",
              " 'c2ed348632ab759c.jpg',\n",
              " 'c30c3f1f3cc07875.jpg',\n",
              " 'c3436f773d06228e.jpg',\n",
              " 'c341e1c71db9f071.jpg',\n",
              " 'c372309fce61de30.jpg',\n",
              " 'c3684a87b81f2dda.jpg',\n",
              " 'c3897fdde0e8e0c0.jpg',\n",
              " 'c388333f050f1cfb.jpg',\n",
              " 'c386c3c7eba90d43.jpg',\n",
              " 'c39bacec48e8b8d4.jpg',\n",
              " 'c3a3bcc20364e6cf.jpg',\n",
              " 'c3a9349f134c8fc9.jpg',\n",
              " 'c39d39fb81c3c2c2.jpg',\n",
              " 'c3a8ce9bb12d2785.jpg',\n",
              " 'c3b261d742bba0d5.jpg',\n",
              " 'c3c2adc330d753d1.jpg',\n",
              " 'c3bfc018c2adf06e.jpg',\n",
              " 'c3c8e29ccce80f2f.jpg',\n",
              " 'c3bb09357832f0f2.jpg',\n",
              " 'c3ef2b93558520b9.jpg',\n",
              " 'c3eac5fdc8343a11.jpg',\n",
              " 'c4163a4b696b963b.jpg',\n",
              " 'c40a6334177eafc3.jpg',\n",
              " 'c4310f623b1cbcaf.jpg',\n",
              " 'c44bdb39929363ac.jpg',\n",
              " 'c4254e93960fda9e.jpg',\n",
              " 'c4212c57fe4273ec.jpg',\n",
              " 'c43c6851c354bfd6.jpg',\n",
              " 'c420e7723cb359d5.jpg',\n",
              " 'c47bc0a107973f5c.jpg',\n",
              " 'c4507b2a790f959d.jpg',\n",
              " 'c49ef0625f1eaca8.jpg',\n",
              " 'c4aaa98c6b8df315.jpg',\n",
              " 'c493255adbb658c3.jpg',\n",
              " 'c4b3978a58cdd9c8.jpg',\n",
              " 'c4bf629ca7a8817a.jpg',\n",
              " 'c4b02738acfff0e0.jpg',\n",
              " 'c4ab3f9dbe205512.jpg',\n",
              " 'c4b33c8070dee8db.jpg',\n",
              " 'c4c6682fbf124da9.jpg',\n",
              " 'c4d0d0f9711f6137.jpg',\n",
              " 'c4e1376523b66971.jpg',\n",
              " 'c4ea4ccfa3d1113b.jpg',\n",
              " 'c512bce3d458bf50.jpg',\n",
              " 'c54a8b7cd5754760.jpg',\n",
              " 'c52d4456a52a7b73.jpg',\n",
              " 'c53c9f62380fe0cd.jpg',\n",
              " 'c537c2cd2d92b549.jpg',\n",
              " 'c5433ed6deda404a.jpg',\n",
              " 'c54b2fb53ed6300a.jpg',\n",
              " 'c58039da54edd6a5.jpg',\n",
              " 'c5625237abe8dc58.jpg',\n",
              " 'c56943d8a983fa96.jpg',\n",
              " 'c5805a8b4574bbaf.jpg',\n",
              " 'c5816bdaa2765cd1.jpg',\n",
              " 'c56170c02bdf57b1.jpg',\n",
              " 'c5691ba1c2975b3a.jpg',\n",
              " 'c59c22caba4e59f4.jpg',\n",
              " 'c58717e8256d2a76.jpg',\n",
              " 'c595cf8172676562.jpg',\n",
              " 'c5b536160e6f20ed.jpg',\n",
              " 'c5bc36714749c8cd.jpg',\n",
              " 'c5bd75916890af98.jpg',\n",
              " 'c5cfa16193c3993c.jpg',\n",
              " 'c5c29587a48e0f7e.jpg',\n",
              " 'c5c162b2d3759713.jpg',\n",
              " 'c5c012c6dbedd0ec.jpg',\n",
              " 'c5c67a169719696c.jpg',\n",
              " 'c5df20c07bc15bc9.jpg',\n",
              " 'c5e1af4bc07439d4.jpg',\n",
              " 'c5e23f973c3530b0.jpg',\n",
              " 'c5e02495af73b4d1.jpg',\n",
              " 'c5fa3e29f0f0e105.jpg',\n",
              " 'c6211e96687bf662.jpg',\n",
              " 'c5fd3e99703ad110.jpg',\n",
              " 'c5f93d941a0f1e13.jpg',\n",
              " 'c66ce7a4c03d3356.jpg',\n",
              " 'c64730bc11fc31de.jpg',\n",
              " 'c689807c959ef1b6.jpg',\n",
              " 'c6b214c2ac455f3f.jpg',\n",
              " 'c6a634cbb08a6dcb.jpg',\n",
              " 'c69394a0fe75aa54.jpg',\n",
              " 'c6d343ab8119ab75.jpg',\n",
              " 'c6bc9352f4466627.jpg',\n",
              " 'c6d037f5c4c5650b.jpg',\n",
              " 'c7023cb0f07ad3f1.jpg',\n",
              " 'c70083f0cdddecd8.jpg',\n",
              " 'c738d13e7146798c.jpg',\n",
              " 'c7173c3e39703970.jpg',\n",
              " 'c73f27908e418ce7.jpg',\n",
              " 'c73662f7024ef388.jpg',\n",
              " 'c72767948bd31859.jpg',\n",
              " 'c738d13e73467988.jpg',\n",
              " 'c73c37991ae35c05.jpg',\n",
              " 'c7588750b57eb02e.jpg',\n",
              " 'c76328952d9e7d90.jpg',\n",
              " 'c7616f317c793c20.jpg',\n",
              " 'c7703ddc214d0bce.jpg',\n",
              " 'c75a25d0cbcde630.jpg',\n",
              " 'c78e37e386c98989.jpg',\n",
              " 'c788966fa82589f6.jpg',\n",
              " 'c78d747c60323e63.jpg',\n",
              " 'c79230f2a207ff86.jpg',\n",
              " 'c78903f11fe905f2.jpg',\n",
              " 'c793b59c90e64e0e.jpg',\n",
              " 'c7c3683c3c4e9955.jpg',\n",
              " 'c7cb27d582c10d9e.jpg',\n",
              " 'c7c7272d70983a4e.jpg',\n",
              " 'c7cfa39fc8081a59.jpg',\n",
              " 'c7e003decc013f5e.jpg',\n",
              " 'c7d5199a657b900b.jpg',\n",
              " 'c82321c5cddd1d7c.jpg',\n",
              " 'c80ac0fe2f74bdb0.jpg',\n",
              " 'c82125afbd61e3e8.jpg',\n",
              " 'c8619db972479936.jpg',\n",
              " 'c83b2dd123f827a9.jpg',\n",
              " 'c8297ba99f098bcc.jpg',\n",
              " 'c88ef30df4f087c4.jpg',\n",
              " 'c88ca09ea69597d7.jpg',\n",
              " 'c89a36342ee0ff98.jpg',\n",
              " 'c89a4c8d729b945f.jpg',\n",
              " 'c8a63eeb680f215e.jpg',\n",
              " 'c8c5d76fc4e81742.jpg',\n",
              " 'c8b228f6ee131ecc.jpg',\n",
              " 'c8db70c393366ee0.jpg',\n",
              " 'c8e271b852b88fae.jpg',\n",
              " 'c8ce8d2f1de23dc0.jpg',\n",
              " 'c8d544ddaa682bd5.jpg',\n",
              " 'c8e822eb7e127536.jpg',\n",
              " 'c8fc3a6a45273754.jpg',\n",
              " 'c90a70a7cb5c9d4e.jpg',\n",
              " 'c8f207c8931e21ff.jpg',\n",
              " 'c8e63ea96cc7218e.jpg',\n",
              " 'c8f34a9e5a6835cc.jpg',\n",
              " 'c8e63fc07b497158.jpg',\n",
              " 'c8fa8e8b9ab0b685.jpg',\n",
              " 'c9524b3cbf99ca0c.jpg',\n",
              " 'c92ed177c236c4d1.jpg',\n",
              " 'c93b29566a5394d6.jpg',\n",
              " 'c93d81b5178117db.jpg',\n",
              " 'c932366bee62341d.jpg',\n",
              " 'c938d578cbc119cd.jpg',\n",
              " 'c96cc5d28d346c9b.jpg',\n",
              " 'c9938c1d3ae6b3a1.jpg',\n",
              " 'c9813f82f2df1c89.jpg',\n",
              " 'c960793f80b64ce7.jpg',\n",
              " 'c97935761e150397.jpg',\n",
              " 'c9853ff5d0c147a4.jpg',\n",
              " 'c99b5c46303633db.jpg',\n",
              " 'c9ab7990a048fe6e.jpg',\n",
              " 'c9a5345ec78b4ac5.jpg',\n",
              " 'c9a4ab78d6fc8429.jpg',\n",
              " 'c9981dd1c0af7b4c.jpg',\n",
              " 'c99d01f11f0636bb.jpg',\n",
              " 'c9b3f2434c8c3e3c.jpg',\n",
              " 'c9d232342de1eacd.jpg',\n",
              " 'c9bd71c3229e271c.jpg',\n",
              " 'c9ef7e5082bc6606.jpg',\n",
              " 'c9f524f0fec141c6.jpg',\n",
              " 'c9d421cc72ed77a0.jpg',\n",
              " 'c9e1a9f5d5d41702.jpg',\n",
              " 'ca026d3e2de66770.jpg',\n",
              " 'ca00eb62b81fd8af.jpg',\n",
              " 'ca1ca74f8917e07c.jpg',\n",
              " 'ca11aa188e47e777.jpg',\n",
              " 'ca2f2637d00dc576.jpg',\n",
              " 'ca62f80f2f42dcf0.jpg',\n",
              " 'ca6e6a2510de6b59.jpg',\n",
              " 'ca7d3cd0951eca16.jpg',\n",
              " 'ca6a50c5d2adb8ae.jpg',\n",
              " 'ca829db8885575db.jpg',\n",
              " 'ca9e36d874eb1245.jpg',\n",
              " 'ca8b186de9ad91b8.jpg',\n",
              " 'ca86cedcce38847a.jpg',\n",
              " 'caa63498933bee85.jpg',\n",
              " 'caad24d0fcf2ac91.jpg',\n",
              " 'cab5cab54598b2d4.jpg',\n",
              " 'cabf260d909690fe.jpg',\n",
              " 'cad12b68f5a70cc6.jpg',\n",
              " 'cad4d0dada8aca2b.jpg',\n",
              " 'cad115983a3a7567.jpg',\n",
              " 'cad871996e4b78a2.jpg',\n",
              " 'cad457ba344c9a74.jpg',\n",
              " 'cad4aef68af20652.jpg',\n",
              " 'cafe25b4aeb0a8a1.jpg',\n",
              " 'caedc0c08afba4e9.jpg',\n",
              " 'cae9ed81baab014e.jpg',\n",
              " 'cb5f3b6099dc1423.jpg',\n",
              " 'cb6d353a9a42ebc0.jpg',\n",
              " 'cb7845c00fb57bc4.jpg',\n",
              " 'cb907557600beccb.jpg',\n",
              " 'cba5b5c84fd7c0a0.jpg',\n",
              " 'cba838c9c96db331.jpg',\n",
              " 'cbb4efc81a2ca04f.jpg',\n",
              " 'cbc421fa22fb1399.jpg',\n",
              " 'cbbb8bc0361ff110.jpg',\n",
              " 'cbb66bad98910e32.jpg',\n",
              " 'cc448768ff40fe07.jpg',\n",
              " 'cc31c6cb2e25eb19.jpg',\n",
              " 'cc61e398752faac4.jpg',\n",
              " 'cc830b6959a3baab.jpg',\n",
              " 'cc85f50c7f18d68c.jpg',\n",
              " 'cc73e025cc36d31e.jpg',\n",
              " 'cc73e005cc36f31e.jpg',\n",
              " 'cc7ab3c418929abd.jpg',\n",
              " 'cc9f44613fe130c7.jpg',\n",
              " 'cc97390b6d627561.jpg',\n",
              " 'ccb8ddd19023f706.jpg',\n",
              " 'ccbf3e4341d4a1ca.jpg',\n",
              " 'ccc61a8c63bd97d0.jpg',\n",
              " 'ccbb367c5a6091cc.jpg',\n",
              " 'ccf32d99e6a50349.jpg',\n",
              " 'cd0bce16308f732d.jpg',\n",
              " 'ccfff005da03e9c0.jpg',\n",
              " 'ccd52ecf00ebd164.jpg',\n",
              " 'ccec54723ff91860.jpg',\n",
              " 'cd3a1d64e6806eb5.jpg',\n",
              " 'cd406ac787c6eab8.jpg',\n",
              " 'cd303b79927fc205.jpg',\n",
              " 'cd18a7b9792c1b4c.jpg',\n",
              " 'cd4a65822bd9de89.jpg',\n",
              " 'cd3f349dc066c439.jpg',\n",
              " 'cd24bffc080b76c1.jpg',\n",
              " 'cd8b4ada5c36341d.jpg',\n",
              " 'cd8075c399bee06c.jpg',\n",
              " 'cd8e56150de83e56.jpg',\n",
              " 'cd73219686dfb40c.jpg',\n",
              " 'cd633c6f1138393c.jpg',\n",
              " 'cd5827b1f0733632.jpg',\n",
              " 'cd8663d9c344aeaa.jpg',\n",
              " 'cd8d3235726223f5.jpg',\n",
              " 'cd9f9c90d9c861a9.jpg',\n",
              " 'cd9eb2a68e14662d.jpg',\n",
              " 'cd9fc2a9994fe810.jpg',\n",
              " 'cd9f7801fc03c71c.jpg',\n",
              " 'cdc13d9515b7082f.jpg',\n",
              " 'cdcd1608fe6a3d48.jpg',\n",
              " 'cdce451ea2996e25.jpg',\n",
              " 'cdaec9c4adb884d4.jpg',\n",
              " 'cde12319eea806ee.jpg',\n",
              " 'cde0a32e8eb1495b.jpg',\n",
              " 'cdd4b812709761f3.jpg',\n",
              " 'cddd20c43963ce2e.jpg',\n",
              " 'cdebc89999519469.jpg',\n",
              " 'cdfd5c912881eaca.jpg',\n",
              " 'ce2186d5ce759e90.jpg',\n",
              " 'ce6132c865db299d.jpg',\n",
              " 'ce87b2d1bf5a810c.jpg',\n",
              " 'cea8cd6830b4bd1d.jpg',\n",
              " 'cea2313e3753c5c2.jpg',\n",
              " 'cea4b5c20b839f0f.jpg',\n",
              " 'cec1e0abcaa57ca8.jpg',\n",
              " 'cec0dcc258b5435f.jpg',\n",
              " 'cf0b283930b2bb5b.jpg',\n",
              " 'cef59750decf00c0.jpg',\n",
              " 'cefd69868c4c9e81.jpg',\n",
              " 'cef01d9f13380a3d.jpg',\n",
              " 'cf0ec556d852a29e.jpg',\n",
              " 'cf3d6310af4405be.jpg',\n",
              " 'cf7065c1868b82df.jpg',\n",
              " 'cf600f10fb8d709e.jpg',\n",
              " 'cf703fda70e228a4.jpg',\n",
              " 'cf5263f340b9a4b4.jpg',\n",
              " 'cf61b53c018e70db.jpg',\n",
              " 'cf4ebb99510b0aa9.jpg',\n",
              " 'cf8cd55ad26b98c0.jpg',\n",
              " 'cf9f700326c43e71.jpg',\n",
              " 'cfac66c5346638d1.jpg',\n",
              " 'cfb200ff17816f48.jpg',\n",
              " 'cfe1e484b526d833.jpg',\n",
              " 'cfe1c6c3e882703e.jpg',\n",
              " 'cfc92c78b0b1a1cb.jpg',\n",
              " 'd007233d89f3eaf0.jpg',\n",
              " 'd007b2b489cf8bba.jpg',\n",
              " 'd02267967c57259d.jpg',\n",
              " 'd01e6b6226cc9cf5.jpg',\n",
              " 'd03180ff1ff63906.jpg',\n",
              " 'd034b416d6373f29.jpg',\n",
              " 'd07a5cb07c83e29e.jpg',\n",
              " 'd078ababdffa0201.jpg',\n",
              " 'd072bd97589f029a.jpg',\n",
              " 'd0702f857a1ae5ce.jpg',\n",
              " 'd08fc33fe44a57c0.jpg',\n",
              " 'd09f012b7971e1c7.jpg',\n",
              " 'd09e0ff72c607325.jpg',\n",
              " 'd09bc3f08f846e99.jpg',\n",
              " 'd0a630d66786e51f.jpg',\n",
              " 'd0add66ccc236e0d.jpg',\n",
              " 'd0a724df9d42f3c0.jpg',\n",
              " 'd0ab21bc9b39b712.jpg',\n",
              " 'd0a9d9c4ad7c3531.jpg',\n",
              " 'd0a98e4bfe61c3e0.jpg',\n",
              " 'd0a92f3dd2d21656.jpg',\n",
              " 'd0b4c1d21f3d2d8d.jpg',\n",
              " 'd0bc607d2d72f341.jpg',\n",
              " 'd0b911952bbe2735.jpg',\n",
              " 'd0c4389cc7a8efaa.jpg',\n",
              " 'd0bdf064db1ec831.jpg',\n",
              " 'd0dd7a8470d5b09d.jpg',\n",
              " 'd0ded7a58d837540.jpg',\n",
              " 'd0d6039f8bb594e1.jpg',\n",
              " 'd0de2d16c3f1c81d.jpg',\n",
              " 'd0db33e0b2a51e74.jpg',\n",
              " 'd0ccac49435565f7.jpg',\n",
              " 'd0e73fe532842b8a.jpg',\n",
              " 'd0e4c3de2a8e34d3.jpg',\n",
              " 'd0e491f459626cbb.jpg',\n",
              " 'd0f01af67c6e6498.jpg',\n",
              " 'd10eb1ea1e4ff089.jpg',\n",
              " 'd0fc54da438dcdc1.jpg',\n",
              " 'd10f693164819ff5.jpg',\n",
              " 'd17b9166229d33b1.jpg',\n",
              " 'd1403d7382ab1fb6.jpg',\n",
              " 'd14a42cf8c3537e9.jpg',\n",
              " 'd1996e659bc04765.jpg',\n",
              " 'd1c23a95469d2dbc.jpg',\n",
              " 'd1ba4e03df07f812.jpg',\n",
              " 'd1d7d56a2512d964.jpg',\n",
              " 'd1b93c588d1f3307.jpg',\n",
              " 'd1b99c346134bccd.jpg',\n",
              " 'd1da92ca9e74da82.jpg',\n",
              " 'd1dd12a22d8de62e.jpg',\n",
              " 'd1daaf4da8169529.jpg',\n",
              " 'd22ce0979e948dd9.jpg',\n",
              " 'd23e02d0def2a5e4.jpg',\n",
              " 'd21e3f7984b087a5.jpg',\n",
              " 'd21f921bc23d4d2d.jpg',\n",
              " 'd2369656daca8aca.jpg',\n",
              " 'd26f0ab36dd832e0.jpg',\n",
              " 'd24e3ad73ea0073a.jpg',\n",
              " 'd269b2ad70962f92.jpg',\n",
              " 'd258959b78e324e3.jpg',\n",
              " 'd252f81a32dbc715.jpg',\n",
              " 'd28f6360b6986b69.jpg',\n",
              " 'd283694dcd91b5a5.jpg',\n",
              " 'd281d27f4f2929c6.jpg',\n",
              " 'd2b867c032eadb64.jpg',\n",
              " 'd2ce7fb309b84894.jpg',\n",
              " 'd2e043ca872dca7e.jpg',\n",
              " 'd2f64d5827aa3a91.jpg',\n",
              " 'd2e43d92e0ef8661.jpg',\n",
              " 'd2e1930c1bf238f3.jpg',\n",
              " 'd2dc7fa03d141ec2.jpg',\n",
              " 'd326aaaa964f164b.jpg',\n",
              " 'd3496356815ea1de.jpg',\n",
              " 'd2fe2c88249f309f.jpg',\n",
              " 'd33c94dee0947d0c.jpg',\n",
              " 'd375275f98c88d42.jpg',\n",
              " 'd382ef2d8332e6c4.jpg',\n",
              " 'd36d368832c31c7b.jpg',\n",
              " 'd3c96892b78e4674.jpg',\n",
              " 'd3d237e0c3ca3465.jpg',\n",
              " 'd3c66ac935d183a6.jpg',\n",
              " 'd3bc5ae5a4c4642d.jpg',\n",
              " 'd3e3c1f018783e35.jpg',\n",
              " 'd3ed4bac0c211bd3.jpg',\n",
              " 'd424e6d741958de3.jpg',\n",
              " 'd46f7e4a73c00996.jpg',\n",
              " 'd49c30f31fa12f68.jpg',\n",
              " 'd4913d2569cf7c0c.jpg',\n",
              " 'd4953d781b0a4ea7.jpg',\n",
              " 'd4906ad169d705d7.jpg',\n",
              " 'd49a63bce881d8c7.jpg',\n",
              " 'd495a683d8abe90b.jpg',\n",
              " 'd491d05f0fade194.jpg',\n",
              " 'd4a437e742ba8d58.jpg',\n",
              " 'd4a29729161b673b.jpg',\n",
              " 'd4a328631d27786f.jpg',\n",
              " 'd4a325cf58473ca6.jpg',\n",
              " 'd4ab4a936b9b8398.jpg',\n",
              " 'd4c030ff9712139f.jpg',\n",
              " 'd4b09efd7c98cc20.jpg',\n",
              " 'd4bb3c3598ecb148.jpg',\n",
              " 'd4c5208f476e5ee2.jpg',\n",
              " 'd4f28a2f5f1e2909.jpg',\n",
              " 'd4df2f93901b1f20.jpg',\n",
              " 'd4fe7cb468491989.jpg',\n",
              " 'd5017e9fc074311f.jpg',\n",
              " 'd4f3a1ac85d8d9c8.jpg',\n",
              " 'd5183f837846ef60.jpg',\n",
              " 'd51d24818a4f5f5e.jpg',\n",
              " 'd52997d22a342de6.jpg',\n",
              " 'd51782721d9f1c9a.jpg',\n",
              " 'd56822e52bceb45c.jpg',\n",
              " 'd562e0cd2d3ed432.jpg',\n",
              " 'd56223830f7703cf.jpg',\n",
              " 'd55a38c9e61dd628.jpg',\n",
              " 'd595259516fbc02d.jpg',\n",
              " 'd58ad09e28df7825.jpg',\n",
              " 'd59737ed053066a1.jpg',\n",
              " 'd59f72426e2613c3.jpg',\n",
              " 'd5a174a573292177.jpg',\n",
              " 'd5ac27526895478f.jpg',\n",
              " 'd5c83e9692ce0e1e.jpg',\n",
              " 'd5c328d3439e83a7.jpg',\n",
              " 'd5bd3f18c2398c23.jpg',\n",
              " 'd5e6b780a94921d7.jpg',\n",
              " 'd5d7830e89421c7f.jpg',\n",
              " 'd5f23e9006c8e7e1.jpg',\n",
              " 'd5e81fc564653833.jpg',\n",
              " 'd5e89b7c031b9652.jpg',\n",
              " 'd5f0c2feb3942590.jpg',\n",
              " 'd5fd2180c1c1fda3.jpg',\n",
              " 'd5f4ca0a199a399d.jpg',\n",
              " 'd613bdc58cc622da.jpg',\n",
              " 'd67825d0f7d60155.jpg',\n",
              " 'd65aa18e45f43716.jpg',\n",
              " 'd67096507875e9b8.jpg',\n",
              " 'd6870090fd929f9d.jpg',\n",
              " 'd6842f96f23e0b2c.jpg',\n",
              " 'd689c0dfcf0a023f.jpg',\n",
              " 'd69ca9cac9c5944d.jpg',\n",
              " 'd6a497ac9e4d424d.jpg',\n",
              " 'd6be28cb3604e70e.jpg',\n",
              " 'd6c9931e28d31b66.jpg',\n",
              " 'd6b8c9c8fac6a0c5.jpg',\n",
              " 'd6e22683f092f05f.jpg',\n",
              " 'd6f008cd65163b2f.jpg',\n",
              " 'd6e0955da2566a4e.jpg',\n",
              " 'd6e2ce215d9a05f2.jpg',\n",
              " 'd736643a467296a5.jpg',\n",
              " 'd710eb3087f21f85.jpg',\n",
              " 'd70f2230fb5a093d.jpg',\n",
              " 'd7206fc730bf82c8.jpg',\n",
              " 'd76a39826033bcce.jpg',\n",
              " 'd7826acca9bcb862.jpg',\n",
              " 'd748d269c7610d75.jpg',\n",
              " 'd770b13291f3710b.jpg',\n",
              " 'd7978340027aebf1.jpg',\n",
              " 'd798342bf391c8c6.jpg',\n",
              " 'd7ded09919346945.jpg',\n",
              " 'd7c0b73427bc31c8.jpg',\n",
              " 'd7c07894c2bd1f25.jpg',\n",
              " 'd8242ec36f9678ac.jpg',\n",
              " 'd80e32d8e7698f68.jpg',\n",
              " 'd7edebd40042c2ab.jpg',\n",
              " 'd84995ff0211c7ba.jpg',\n",
              " 'd870e18f97bc8899.jpg',\n",
              " 'd88f66e083ed0de8.jpg',\n",
              " 'd89d9ede82743229.jpg',\n",
              " 'd8957a1f34b221d6.jpg',\n",
              " 'd89c9cda9274322f.jpg',\n",
              " 'd8a020e2e7fffe00.jpg',\n",
              " 'd8c63a98cf26956a.jpg',\n",
              " 'd8d1399b211a7b1b.jpg',\n",
              " 'd8eeca049f688ed4.jpg',\n",
              " 'd8e47368301ee6cb.jpg',\n",
              " 'd8fe6cb40363dd04.jpg',\n",
              " 'd8f03a23f2813f0f.jpg',\n",
              " 'd8f13d8048f72d1e.jpg',\n",
              " 'd919d79a42d83b98.jpg',\n",
              " 'd92248c86fdd30de.jpg',\n",
              " 'd924bb90ce61389f.jpg',\n",
              " 'd92531d6887973c6.jpg',\n",
              " 'd93c29966626f29a.jpg',\n",
              " 'd94e3ad8ae3ac870.jpg',\n",
              " 'd95f30a5c05f0fc2.jpg',\n",
              " 'd9760ec07bce7109.jpg',\n",
              " 'd9873876fce2422c.jpg',\n",
              " 'd96720fc36c10f8b.jpg',\n",
              " 'd99898db266ba865.jpg',\n",
              " 'd9a3c996b2b16532.jpg',\n",
              " 'd9b27ef2f66010a4.jpg',\n",
              " 'd9c53e98c0a49e3d.jpg',\n",
              " 'd9bf40d48372b6a1.jpg',\n",
              " 'd9cac80457f59b31.jpg',\n",
              " 'd9c9f99c8e994a44.jpg',\n",
              " 'd9ca4dc27645ce15.jpg',\n",
              " 'da0279d62ab7129d.jpg',\n",
              " 'd9e0323233c70f3e.jpg',\n",
              " 'da0775fd870855b0.jpg',\n",
              " 'd9ec3cc0c83503df.jpg',\n",
              " 'da2115bd3736b071.jpg',\n",
              " 'da2f40dc5db0257a.jpg',\n",
              " 'da0ff22d550d5523.jpg',\n",
              " 'da0dc56cea2ace54.jpg',\n",
              " 'da2a0b820bcf759d.jpg',\n",
              " 'da611e3fc2c8a18f.jpg',\n",
              " 'da51a8593de5466c.jpg',\n",
              " 'da8770e819d2696d.jpg',\n",
              " 'da882dcd946bc374.jpg',\n",
              " 'da915f88e03fb24c.jpg',\n",
              " 'da923aef61898dc8.jpg',\n",
              " 'daa87a93b8de1588.jpg',\n",
              " 'daad25fa07c0b64a.jpg',\n",
              " 'dab7694b1a1e1ca8.jpg',\n",
              " 'daa64d9336ed6046.jpg',\n",
              " 'dab12d89c67dc151.jpg',\n",
              " 'dab57a4bc314a551.jpg',\n",
              " 'dad43dead41f2214.jpg',\n",
              " 'dac97436a8d5e291.jpg',\n",
              " 'dad53cd2da6942a1.jpg',\n",
              " 'daca2d309662bb99.jpg',\n",
              " 'daec7180c12f4b9e.jpg',\n",
              " 'daeb2fc49405972a.jpg',\n",
              " 'daf34a33150db54c.jpg',\n",
              " 'db00e983bc71e395.jpg',\n",
              " 'db3972d3a7278244.jpg',\n",
              " 'db42e0b5dea4a2c5.jpg',\n",
              " 'db4372c742c9c39c.jpg',\n",
              " 'dba1e0e5a025aadb.jpg',\n",
              " 'dba1a0c1dfd8caa2.jpg',\n",
              " 'db838bc1d8432be3.jpg',\n",
              " 'dbc07f3f8020d4b3.jpg',\n",
              " 'dbba615b96d032c8.jpg',\n",
              " 'dbb719dab03808d3.jpg',\n",
              " 'dbbc81f40f4a2a5a.jpg',\n",
              " 'dbf3e0b226450a9d.jpg',\n",
              " 'dbe1b3846e06b86a.jpg',\n",
              " 'dc3524d8876d4f07.jpg',\n",
              " 'dbf6740f89911d21.jpg',\n",
              " 'dbfba01ec682c658.jpg',\n",
              " 'dc34c9e074f7a249.jpg',\n",
              " 'dc75921d9bcb1c0a.jpg',\n",
              " 'dc6e7b942a9a2d90.jpg',\n",
              " 'dc7185cc1ea72c87.jpg',\n",
              " 'dc5d14097ff1d013.jpg',\n",
              " 'dc8abcd05fc8c80f.jpg',\n",
              " 'dcac40666556793d.jpg',\n",
              " 'dc9bc0201ff07ef0.jpg',\n",
              " 'dca4c59705fc9ad0.jpg',\n",
              " 'dcca6a2b254ca4f6.jpg',\n",
              " 'dcc33e12f8e2036b.jpg',\n",
              " 'dcb140dad09edf0a.jpg',\n",
              " 'dccc2772e44e2762.jpg',\n",
              " 'dcb1e7938748362c.jpg',\n",
              " 'dcb3ec83848bace8.jpg',\n",
              " 'dcdae8b072b1ce30.jpg',\n",
              " 'dccdcbcd039c4a0d.jpg',\n",
              " 'dcdf3c3166d22524.jpg',\n",
              " 'dcff3a34f43a0061.jpg',\n",
              " 'dcfc3c9e3a1b08c1.jpg',\n",
              " 'dcf88a9264b663a5.jpg',\n",
              " 'dd3b0a638c787316.jpg',\n",
              " 'dd1330c8e33e3c87.jpg',\n",
              " 'dd13ded28a042dec.jpg',\n",
              " 'dd318529cd498eb5.jpg',\n",
              " 'dd19c598e90d69ac.jpg',\n",
              " 'dd449004b20ffedd.jpg',\n",
              " 'dd6ac9d79931023c.jpg',\n",
              " 'dd7037814d609dce.jpg',\n",
              " 'dd49395b9489663c.jpg',\n",
              " 'dd81d8c781272f27.jpg',\n",
              " 'dd4b32bd8634529c.jpg',\n",
              " 'dd6c3e9e9308cb48.jpg',\n",
              " 'dda168a1738722cf.jpg',\n",
              " 'dd9535ea0f35a809.jpg',\n",
              " 'dd9b1bd851f03033.jpg',\n",
              " 'ddb4bca0c9be6824.jpg',\n",
              " 'ddd8d0c20f073c73.jpg',\n",
              " 'ddd51cd069b8130f.jpg',\n",
              " 'dde793d8e601c432.jpg',\n",
              " 'dde6609c8ae7c170.jpg',\n",
              " 'ddef7398c420e198.jpg',\n",
              " 'dde71c02645ed2b2.jpg',\n",
              " 'ddec1e9cc21c270d.jpg',\n",
              " 'ddff4bc0a5a45818.jpg',\n",
              " 'de0b34699235a9e3.jpg',\n",
              " 'de304c8da87dc353.jpg',\n",
              " 'de953624919e8277.jpg',\n",
              " 'deb6000a27eb75d8.jpg',\n",
              " 'dec0e09fc38e858d.jpg',\n",
              " 'deb90397d308caa3.jpg',\n",
              " 'dec97832a9e2d246.jpg',\n",
              " 'dec8fae8f88f00e0.jpg',\n",
              " 'ded328aa53ac63d0.jpg',\n",
              " 'ded57ce32063350a.jpg',\n",
              " 'dedc61319ed86621.jpg',\n",
              " 'dedd202ec7f07218.jpg',\n",
              " 'dee2bd94d74a1441.jpg',\n",
              " 'defe7e9568880138.jpg',\n",
              " 'deef9a7818684187.jpg',\n",
              " 'df0f2ac26509656d.jpg',\n",
              " 'df4a6ca527073e06.jpg',\n",
              " 'df241594bbd2649a.jpg',\n",
              " 'df429cc4609dc9e3.jpg',\n",
              " 'df3f021ca2ea82ad.jpg',\n",
              " 'df824b2f8cc27f40.jpg',\n",
              " 'df9490df98492cb1.jpg',\n",
              " 'df8d975806fd4111.jpg',\n",
              " 'df7ce0e1041f1e86.jpg',\n",
              " 'df9b4fe733201302.jpg',\n",
              " 'dfc5d34f41456423.jpg',\n",
              " 'df9d6d24106f046b.jpg',\n",
              " 'dfc86b180e3ac8f8.jpg',\n",
              " 'dfcc6b28063a88fc.jpg',\n",
              " 'dfc883689f01cf31.jpg',\n",
              " 'dfc6621a8d273139.jpg',\n",
              " 'dfca603b4ca4aaa3.jpg',\n",
              " 'dfd32a5a09cec5c0.jpg',\n",
              " 'dfeb21c7c0520667.jpg',\n",
              " 'dfe17887030b5d1a.jpg',\n",
              " 'e00f759d65d52887.jpg',\n",
              " 'dfffc21494b8b090.jpg',\n",
              " 'e01112939f783fec.jpg',\n",
              " 'e01dc39ccb2b4ccb.jpg',\n",
              " 'e01ae16d4a759cb5.jpg',\n",
              " 'e02f87d268b402ff.jpg',\n",
              " 'e032458d17e5bab5.jpg',\n",
              " 'e03795d3f908a31d.jpg',\n",
              " 'e03ac18c8e99c3fd.jpg',\n",
              " 'e068d465d4756d1e.jpg',\n",
              " 'e04f97a0da3649d6.jpg',\n",
              " 'e047d2894ae334ef.jpg',\n",
              " 'e07caad4a3402fcf.jpg',\n",
              " 'e08799ce343e9de0.jpg',\n",
              " 'e0a14bd6f4e1278e.jpg',\n",
              " 'e0af1fbcb1404d9a.jpg',\n",
              " 'e0bae1b8ca2a58e7.jpg',\n",
              " 'e0bec0d0efc1815f.jpg',\n",
              " 'e0c3fec9e5361232.jpg',\n",
              " 'e0cb3f081fbe65a0.jpg',\n",
              " 'e0d29a952dab7561.jpg',\n",
              " 'e0cd4b382df53474.jpg',\n",
              " 'e0db6703687fc928.jpg',\n",
              " 'e0fac7c00ec2f8c7.jpg',\n",
              " 'e0fb308abbbb7108.jpg',\n",
              " 'e0ff08e05ea0d39d.jpg',\n",
              " 'e112d5f2c561169f.jpg',\n",
              " 'e13dd2594b49ad85.jpg',\n",
              " 'e13dc681d6c251de.jpg',\n",
              " 'e1699301cfa99f85.jpg',\n",
              " 'e1640ec0b78fe437.jpg',\n",
              " 'e143438d836bd51f.jpg',\n",
              " 'e1889dcf98f0873a.jpg',\n",
              " 'e18f855851e0f8e7.jpg',\n",
              " 'e18ae3830ce33d3e.jpg',\n",
              " 'e181f99f84663353.jpg',\n",
              " 'e1925457a0fe9a27.jpg',\n",
              " 'e19137d68ed68c38.jpg',\n",
              " 'e19e50da3d350ae9.jpg',\n",
              " 'e1a61cf6e982628f.jpg',\n",
              " 'e1b1f1f2de1c022e.jpg',\n",
              " 'e1b11f231ccfc07c.jpg',\n",
              " 'e1a781c31ec0dbcb.jpg',\n",
              " 'e1a64386c9d6295f.jpg',\n",
              " 'e1b830dec2c7078f.jpg',\n",
              " 'e1c5c59d9d30e172.jpg',\n",
              " 'e1e11785cf2a2f43.jpg',\n",
              " 'e1e422dd525277ac.jpg',\n",
              " 'e22b86d278fef180.jpg',\n",
              " 'e24a52973b3e70aa.jpg',\n",
              " 'e27ce0d4c6851ed6.jpg',\n",
              " 'e28e3df0a91d153a.jpg',\n",
              " 'e290daf89d49b81e.jpg',\n",
              " 'e2d2543ad6e9a156.jpg',\n",
              " 'e2e3f6c006ba825f.jpg',\n",
              " 'e2ec96a69cb6c813.jpg',\n",
              " 'e31c83999fcf04ac.jpg',\n",
              " 'e308eb9479a5545b.jpg',\n",
              " 'e383fb1a912b590b.jpg',\n",
              " 'e36f1368c0613be9.jpg',\n",
              " 'e38b8323da1e8fc2.jpg',\n",
              " 'e3789a85710b3976.jpg',\n",
              " 'e3ac9770136279cc.jpg',\n",
              " 'e3a90f126055e73e.jpg',\n",
              " 'e3f91cc3c3941b94.jpg',\n",
              " 'e3e2869f9cb03259.jpg',\n",
              " 'e46ac6563d5a30e5.jpg',\n",
              " 'e49dc5bdcd040c76.jpg',\n",
              " 'e490d1cc1adff8c8.jpg',\n",
              " 'e4ba93c9c15d5724.jpg',\n",
              " 'e4e81a68cb56e3b4.jpg',\n",
              " 'e4ead58e0dd0f930.jpg',\n",
              " 'e517bc1ec0b80dae.jpg',\n",
              " 'e50d1e683aab90dd.jpg',\n",
              " 'e51b7187619e24dc.jpg',\n",
              " 'e51bd4d12d9de070.jpg',\n",
              " 'e52aca58c89f35c5.jpg',\n",
              " 'e573c213ab413dcc.jpg',\n",
              " 'e54b34ad63c253a5.jpg',\n",
              " 'e589c21cebe634c6.jpg',\n",
              " 'e58ac3949f81d39c.jpg',\n",
              " 'e58b9719d938d035.jpg',\n",
              " 'e58b34c955c9da34.jpg',\n",
              " 'e5a38f7318254b8e.jpg',\n",
              " 'e59598871a625fd2.jpg',\n",
              " 'e5a7356a807a7730.jpg',\n",
              " 'e59eda894a255336.jpg',\n",
              " 'e59ed2dc91b002bb.jpg',\n",
              " 'e59398e692385fb0.jpg',\n",
              " 'e5b4da872d968b22.jpg',\n",
              " 'e5bdc24a10d65e78.jpg',\n",
              " 'e5c361c39f151e38.jpg',\n",
              " 'e5c9d28f8a15ac99.jpg',\n",
              " 'e5c222c7c6979d29.jpg',\n",
              " 'e5e01592f030eebb.jpg',\n",
              " 'e5e4319dc82d06d7.jpg',\n",
              " 'e5d8925aa521fc0f.jpg',\n",
              " 'e5df78c00ee1882f.jpg',\n",
              " 'e5ee33f5c4a01631.jpg',\n",
              " 'e5f71db861a4c609.jpg',\n",
              " 'e5f02fd3a051a05f.jpg',\n",
              " 'e5f4d3e960ae5086.jpg',\n",
              " 'e6e010339af7c3a3.jpg',\n",
              " 'e721a5c014f4f2f9.jpg',\n",
              " 'e6fcc4e08e8b449d.jpg',\n",
              " 'e712b70ce21d4a1f.jpg',\n",
              " 'e6f260b7b415d434.jpg',\n",
              " 'e761b89e928a4fc8.jpg',\n",
              " 'e795d2c8480cbcf6.jpg',\n",
              " 'e7a782e08b0f1f54.jpg',\n",
              " 'e7c33238184177de.jpg',\n",
              " 'e812856784bc7bec.jpg',\n",
              " 'e8829f1360cff634.jpg',\n",
              " 'e855d0a2eea447b6.jpg',\n",
              " 'e871c3ced550aaaa.jpg',\n",
              " 'e88c3550fbaec22d.jpg',\n",
              " 'e88f11b3c3439cad.jpg',\n",
              " 'e8941d8de87e27b0.jpg',\n",
              " 'e895d470eae348ab.jpg',\n",
              " 'e899d44d97092b6d.jpg',\n",
              " 'e89a5f6a10c72b47.jpg',\n",
              " 'e895f530c2a9d72a.jpg',\n",
              " 'e8b1e6549fc41fc0.jpg',\n",
              " 'e8ae85c4874d5fe0.jpg',\n",
              " 'e8b385855ed87299.jpg',\n",
              " 'e8b72196d638b0f1.jpg',\n",
              " 'e8d37af02746168d.jpg',\n",
              " 'e8ceca698cb729e0.jpg',\n",
              " 'e8cdc595cc50d965.jpg',\n",
              " 'e8df04865c3aad95.jpg',\n",
              " 'e8d9c3275a389a6a.jpg',\n",
              " 'e8e4e4c48dc49dce.jpg',\n",
              " 'e8ddc0dead212665.jpg',\n",
              " 'e8f99633003166fb.jpg',\n",
              " 'e8f583a51cdeb118.jpg',\n",
              " 'e8fdc098ab583738.jpg',\n",
              " 'e91ed270d8a5e90b.jpg',\n",
              " 'e90e1ac8b7e7aa50.jpg',\n",
              " 'e90ba5c9332f31c3.jpg',\n",
              " 'e90e1acab7e5aa50.jpg',\n",
              " 'e94663ad9c2ee530.jpg',\n",
              " 'e937984a326b72b2.jpg',\n",
              " 'e9623546d05a5fb8.jpg',\n",
              " 'e969c081c53d8fdc.jpg',\n",
              " 'e9914a729f5cb0a6.jpg',\n",
              " 'e9bce6d254130cab.jpg',\n",
              " 'e9bec748c8e1640f.jpg',\n",
              " 'e9e8b8f8e2e8a944.jpg',\n",
              " 'e9dac297cf381071.jpg',\n",
              " 'ea0ec53e8c3dcc70.jpg',\n",
              " 'e9f0c75e8863268d.jpg',\n",
              " 'ea1f8a6aa6c295c9.jpg',\n",
              " 'ea22d7c70f9ad418.jpg',\n",
              " 'ea2a2c4cd82c6fd5.jpg',\n",
              " 'ea49343e4a49f555.jpg',\n",
              " 'ea4bc3e536bf0218.jpg',\n",
              " 'ea496d75342a52ba.jpg',\n",
              " 'ea557ce5c486d2c8.jpg',\n",
              " 'ea8c976e11670c67.jpg',\n",
              " 'ea775f42f0f86018.jpg',\n",
              " 'ea92cd2573a11ccb.jpg',\n",
              " 'ea65c546c48e3ecc.jpg',\n",
              " 'ea871d670b1eda28.jpg',\n",
              " 'eaa3d0c288c75b4f.jpg',\n",
              " 'eaa6e1d4833c13cd.jpg',\n",
              " 'eaa1c592c6db8a5a.jpg',\n",
              " 'eaabc28781959717.jpg',\n",
              " 'eab016bceba8296c.jpg',\n",
              " 'eaa86fc81665d817.jpg',\n",
              " 'eaaf329457d40b16.jpg',\n",
              " 'eab49378926568a7.jpg',\n",
              " 'eacec0dd03a03fd1.jpg',\n",
              " 'ead085dfac287263.jpg',\n",
              " 'eae4c69005d79b2e.jpg',\n",
              " 'eae5c0b4cb5aad48.jpg',\n",
              " 'eaf0a0df1879930e.jpg',\n",
              " 'eae8f4520ec5f521.jpg',\n",
              " 'eb1ad078c170c7b5.jpg',\n",
              " 'eb1f86689e81bb0c.jpg',\n",
              " 'eb45234b52bb44ab.jpg',\n",
              " 'eb81968e9bca9878.jpg',\n",
              " 'eb66c3e3c112c5d2.jpg',\n",
              " 'eb8100abfd56157c.jpg',\n",
              " 'eb9a953b42664a95.jpg',\n",
              " 'eba5e0d501d0af8b.jpg',\n",
              " 'ebc2536d378d3205.jpg',\n",
              " 'ebc641c1c7e283ea.jpg',\n",
              " 'ebd7c6ea85640626.jpg',\n",
              " 'ebe670cccc07b906.jpg',\n",
              " 'ebd19f1c549a1ad0.jpg',\n",
              " 'ebd19f9c549a12d0.jpg',\n",
              " 'ebdccdcb9d112501.jpg',\n",
              " 'ebf8b6e8e0b84445.jpg',\n",
              " 'ec60fc9fc1c11bc1.jpg',\n",
              " 'ec5cc24ed65d44a5.jpg',\n",
              " 'ec70857ae78aa2d4.jpg',\n",
              " 'ec62934398749f5a.jpg',\n",
              " 'ec5e86e2ee84283d.jpg',\n",
              " 'eca651f0b38bda50.jpg',\n",
              " 'ecb986c159db8352.jpg',\n",
              " 'ecbe09992d9457a1.jpg',\n",
              " 'ed0778000fe5c7f2.jpg',\n",
              " 'eceb92d6d4910acc.jpg',\n",
              " 'ed34d4b492a69d0e.jpg',\n",
              " 'ed68ecfad8416843.jpg',\n",
              " 'ed34b6de8608dac2.jpg',\n",
              " 'ed993d2a7418a3c3.jpg',\n",
              " 'ed72c432a99ac92d.jpg',\n",
              " 'ed7ad8a9cc85a886.jpg',\n",
              " 'ed93a0fa560e6531.jpg',\n",
              " 'ed9ece0ece85082b.jpg',\n",
              " 'edc0cfc8da9c0969.jpg',\n",
              " 'edd80fb9441f8570.jpg',\n",
              " 'edf396cb601ab40c.jpg',\n",
              " 'ede27e12a1b009f5.jpg',\n",
              " 'ede9cac2222b23b5.jpg',\n",
              " 'ee1d74cb1d70a650.jpg',\n",
              " 'ee97c677a8233822.jpg',\n",
              " 'eea5c057c20ec69e.jpg',\n",
              " 'ee983169d74b151c.jpg',\n",
              " 'ee87879890b8a3c7.jpg',\n",
              " 'eed95ad30171b321.jpg',\n",
              " 'eec2edcc5094d68a.jpg',\n",
              " 'eee49485c857247e.jpg',\n",
              " 'ef0275948cb82aed.jpg',\n",
              " 'ef80753a1b853e07.jpg',\n",
              " 'ef7f4076cbc08183.jpg',\n",
              " 'ef56c42aea6411f1.jpg',\n",
              " 'ef543893e42f8616.jpg',\n",
              " 'ef5f9e680b27b002.jpg',\n",
              " 'ef9d80b19de51d08.jpg',\n",
              " 'ef88c69fce823cc0.jpg',\n",
              " 'ef842034d2fec791.jpg',\n",
              " 'efbcc09086859ebc.jpg',\n",
              " 'efc3beb1403c0276.jpg',\n",
              " 'efb98a76dc84980a.jpg',\n",
              " 'efbd3082703a651b.jpg',\n",
              " 'eff1831a12399157.jpg',\n",
              " 'efe282ba4ba8c13a.jpg',\n",
              " 'efd43a64622b584e.jpg',\n",
              " 'eff087cf823c0871.jpg',\n",
              " 'f024f8cd356e139a.jpg',\n",
              " 'f03dc0f0bdc3362c.jpg',\n",
              " 'f03f0ec0f009575f.jpg',\n",
              " 'f049c3a30edf3c98.jpg',\n",
              " 'f063873484735b9b.jpg',\n",
              " 'f06a949a2b9d478d.jpg',\n",
              " 'f05b875783b7e102.jpg',\n",
              " 'f05a9a745b4d4875.jpg',\n",
              " 'f06e8b295f8b64b0.jpg',\n",
              " 'f075c21337eb5285.jpg',\n",
              " 'f07f309c603c87f8.jpg',\n",
              " 'f088f1e00157bfae.jpg',\n",
              " 'f08693681a7e6f32.jpg',\n",
              " 'f084cf1236bf95c2.jpg',\n",
              " 'f09697d6dada8805.jpg',\n",
              " 'f09a9f50e82e6b25.jpg',\n",
              " 'f0981f48279b2f93.jpg',\n",
              " 'f0a087cb1e3c69f4.jpg',\n",
              " 'f0aa83b597c691c6.jpg',\n",
              " 'f0bb1fe0094de6a4.jpg',\n",
              " 'f0bf78e00f878728.jpg',\n",
              " 'f0bada34c90989e7.jpg',\n",
              " 'f0c217e200fe8f73.jpg',\n",
              " 'f0d0008a7c5e9bbf.jpg',\n",
              " 'f0e4c1526f5a5659.jpg',\n",
              " 'f0eb97c70a9e8988.jpg',\n",
              " 'f10691aef19e611d.jpg',\n",
              " 'f12c819d9fda5990.jpg',\n",
              " 'f11a43b01bf4326f.jpg',\n",
              " 'f12c4eb60dbc394a.jpg',\n",
              " 'f1139381aa27cdb6.jpg',\n",
              " 'f13053ad5c9856e5.jpg',\n",
              " 'f1258b4e187ec8b3.jpg',\n",
              " 'f13f0703df5a81a1.jpg',\n",
              " 'f188d04d97798af4.jpg',\n",
              " 'f1bda9c9c98dad00.jpg',\n",
              " 'f1b52245e41339fa.jpg',\n",
              " 'f1bccbee83dc0098.jpg',\n",
              " 'f1c2c3c107dda61e.jpg',\n",
              " 'f1cd1ace6a54151d.jpg',\n",
              " 'f1dbaf25507a2541.jpg',\n",
              " 'f23e9e4e426f300e.jpg',\n",
              " 'f233cb7f90b64061.jpg',\n",
              " 'f252928b5fb528b2.jpg',\n",
              " 'f25aebd0e42e13e0.jpg',\n",
              " 'f249c6b8c915e996.jpg',\n",
              " 'f282871f787a089f.jpg',\n",
              " 'f299876668ac9d1a.jpg',\n",
              " 'f295b6e816ae7881.jpg',\n",
              " 'f28f871d9a3c9270.jpg',\n",
              " 'f2eab09887e4c6e4.jpg',\n",
              " 'f2f982d1d2c7e340.jpg',\n",
              " 'f337d482839f80f1.jpg',\n",
              " 'f3094e360dec54cd.jpg',\n",
              " 'f33c830b3d964c33.jpg',\n",
              " 'f3b19b71a064687c.jpg',\n",
              " 'f3e9235b50b0a555.jpg',\n",
              " 'f4089a9c9e80afb7.jpg',\n",
              " 'f3f6071c28614d6d.jpg',\n",
              " ...]"
            ]
          },
          "metadata": {},
          "execution_count": 6
        }
      ],
      "source": [
        "from os import listdir\n",
        "from os.path import isfile, join\n",
        "\n",
        "monRepertoire='/content/drive/MyDrive/ P8_kaggle_competition/train_images'\n",
        "fichiers = [f for f in listdir(monRepertoire) if isfile(join(monRepertoire, f))]\n",
        "fichiers"
      ]
    },
    {
      "cell_type": "code",
      "execution_count": null,
      "metadata": {
        "id": "H8nI7QXS6-Sr"
      },
      "outputs": [],
      "source": [
        "idx_list=[]\n",
        "for i in train_df['image']:\n",
        "  if i not in fichiers:\n",
        "    dt= train_df[train_df['image']==i]\n",
        "    train_df.drop(dt.index,axis=0,inplace=True)"
      ]
    },
    {
      "cell_type": "code",
      "execution_count": null,
      "metadata": {
        "colab": {
          "base_uri": "https://localhost:8080/"
        },
        "id": "CDRs91SD8lI_",
        "outputId": "de74ba99-726f-43ec-eb39-93d1e3c5dfc7"
      },
      "outputs": [
        {
          "output_type": "execute_result",
          "data": {
            "text/plain": [
              "(6227, 2)"
            ]
          },
          "metadata": {},
          "execution_count": 8
        }
      ],
      "source": [
        "train_df.shape"
      ]
    },
    {
      "cell_type": "code",
      "execution_count": null,
      "metadata": {
        "colab": {
          "base_uri": "https://localhost:8080/",
          "height": 776
        },
        "id": "wd7GEJXU8Cwo",
        "outputId": "1e9945fe-4ff9-4d20-82da-6e7275d15a0b"
      },
      "outputs": [
        {
          "output_type": "display_data",
          "data": {
            "image/png": "[encoded data removed]",
            "text/plain": [
              "<Figure size 1080x720 with 1 Axes>"
            ]
          },
          "metadata": {
            "needs_background": "light"
          }
        }
      ],
      "source": [
        "#Labels distribution\n",
        "plt.figure(figsize=(15,10))\n",
        "sns.countplot(data=train_df,x='labels')\n",
        "plt.xticks(rotation=90)\n",
        "plt.title('Labels distribution')\n",
        "plt.show()"
      ]
    },
    {
      "cell_type": "code",
      "execution_count": null,
      "metadata": {
        "colab": {
          "base_uri": "https://localhost:8080/"
        },
        "id": "2orNeSB49zMx",
        "outputId": "93f68399-179c-4a68-ca04-e1905fe2cfdb"
      },
      "outputs": [
        {
          "output_type": "stream",
          "name": "stdout",
          "text": [
            "Number of unique labels:  12\n"
          ]
        }
      ],
      "source": [
        "print(\"Number of unique labels: \",len(train_df['labels'].unique()))"
      ]
    },
    {
      "cell_type": "code",
      "execution_count": null,
      "metadata": {
        "id": "A6SjiEL_-S8S"
      },
      "outputs": [],
      "source": [
        "# Use the Image Data Generator to import the images from the dataset\n",
        "from tensorflow.keras.preprocessing.image import ImageDataGenerator\n",
        "\n",
        "train_datagen = ImageDataGenerator(rescale = 1/255.,\n",
        "    rotation_range=20,\n",
        "    width_shift_range=0.2,\n",
        "    height_shift_range=0.2,\n",
        "    horizontal_flip=True,\n",
        "    validation_split = 0.2,\n",
        "    zoom_range = 0.2,\n",
        "    shear_range = 0.2,\n",
        "    vertical_flip = False)"
      ]
    },
    {
      "cell_type": "code",
      "execution_count": null,
      "metadata": {
        "colab": {
          "base_uri": "https://localhost:8080/"
        },
        "id": "ry8wXK65-Vlh",
        "outputId": "fe12226e-713e-4c70-ff2b-00657b4d9be7"
      },
      "outputs": [
        {
          "output_type": "stream",
          "name": "stdout",
          "text": [
            "Found 4982 non-validated image filenames belonging to 12 classes.\n",
            "Found 1245 non-validated image filenames belonging to 12 classes.\n"
          ]
        }
      ],
      "source": [
        "HEIGHT = 124\n",
        "WIDTH=124\n",
        "SEED = 143\n",
        "BATCH_SIZE=32\n",
        "train_ds = train_datagen.flow_from_dataframe(\n",
        "    train_df,\n",
        "    directory = TRAIN_PATH,\n",
        "    x_col = \"image\",\n",
        "    y_col = \"labels\",\n",
        "    target_size = (HEIGHT,WIDTH),\n",
        "    class_mode='categorical',\n",
        "    batch_size = BATCH_SIZE,\n",
        "    subset = \"training\",\n",
        "    shuffle = True,\n",
        "    seed = SEED,\n",
        "    validate_filenames = False)\n",
        "\n",
        "val_ds = train_datagen.flow_from_dataframe(\n",
        "    train_df,\n",
        "    directory = TRAIN_PATH,\n",
        "    x_col = \"image\",\n",
        "    y_col = \"labels\",\n",
        "    target_size = (HEIGHT,WIDTH),\n",
        "    class_mode='categorical',\n",
        "    batch_size = BATCH_SIZE,\n",
        "    subset = \"validation\",\n",
        "    shuffle = True,\n",
        "    seed = SEED,\n",
        "    validate_filenames = False\n",
        ")"
      ]
    },
    {
      "cell_type": "markdown",
      "metadata": {
        "id": "CTgj6KorA-gA"
      },
      "source": [
        "#CNN from scratch"
      ]
    },
    {
      "cell_type": "code",
      "execution_count": null,
      "metadata": {
        "colab": {
          "base_uri": "https://localhost:8080/"
        },
        "id": "6Mo6pwsN-VuG",
        "outputId": "651631f0-ee38-4c58-e293-2a806d40d3e5"
      },
      "outputs": [
        {
          "output_type": "stream",
          "name": "stdout",
          "text": [
            "Model: \"sequential\"\n",
            "_________________________________________________________________\n",
            " Layer (type)                Output Shape              Param #   \n",
            "=================================================================\n",
            " conv2d (Conv2D)             (None, 124, 124, 64)      1792      \n",
            "                                                                 \n",
            " max_pooling2d (MaxPooling2D  (None, 62, 62, 64)       0         \n",
            " )                                                               \n",
            "                                                                 \n",
            " conv2d_1 (Conv2D)           (None, 62, 62, 64)        36928     \n",
            "                                                                 \n",
            " max_pooling2d_1 (MaxPooling  (None, 31, 31, 64)       0         \n",
            " 2D)                                                             \n",
            "                                                                 \n",
            " conv2d_2 (Conv2D)           (None, 31, 31, 64)        36928     \n",
            "                                                                 \n",
            " max_pooling2d_2 (MaxPooling  (None, 15, 15, 64)       0         \n",
            " 2D)                                                             \n",
            "                                                                 \n",
            " conv2d_3 (Conv2D)           (None, 15, 15, 128)       73856     \n",
            "                                                                 \n",
            " max_pooling2d_3 (MaxPooling  (None, 7, 7, 128)        0         \n",
            " 2D)                                                             \n",
            "                                                                 \n",
            " flatten (Flatten)           (None, 6272)              0         \n",
            "                                                                 \n",
            " dense (Dense)               (None, 128)               802944    \n",
            "                                                                 \n",
            " dropout (Dropout)           (None, 128)               0         \n",
            "                                                                 \n",
            " dense_1 (Dense)             (None, 12)                1548      \n",
            "                                                                 \n",
            "=================================================================\n",
            "Total params: 953,996\n",
            "Trainable params: 953,996\n",
            "Non-trainable params: 0\n",
            "_________________________________________________________________\n"
          ]
        }
      ],
      "source": [
        "model=Sequential()\n",
        "model.add(Conv2D(64,(3,3),activation='relu',padding='same',input_shape=(HEIGHT,WIDTH,3)))\n",
        "model.add(MaxPooling2D(2,2))\n",
        "model.add(Conv2D(64,(3,3),activation='relu',padding='same'))\n",
        "model.add(MaxPooling2D(2,2))\n",
        "model.add(Conv2D(64,(3,3),activation='relu',padding='same'))\n",
        "model.add(MaxPooling2D(2,2))\n",
        "model.add(Conv2D(128,(3,3),activation='relu',padding='same'))\n",
        "model.add(MaxPooling2D(2,2))\n",
        "model.add(Flatten())\n",
        "model.add(Dense(128,activation='relu'))\n",
        "model.add(Dropout(0.2))\n",
        "model.add(Dense(12,activation='sigmoid'))\n",
        "\n",
        "# Compile the Model\n",
        "model.compile(optimizer=tf.keras.optimizers.Adam(learning_rate=0.001),\n",
        "    loss='categorical_crossentropy',\n",
        "    metrics = [tfa.metrics.F1Score(num_classes = 12,average = \"macro\",name = \"f1_score\")])\n",
        "model.summary()"
      ]
    },
    {
      "cell_type": "code",
      "execution_count": null,
      "metadata": {
        "id": "xQWfymTr-V9o"
      },
      "outputs": [],
      "source": [
        "# Compile the Model\n",
        "model.compile(optimizer=tf.keras.optimizers.Adam(learning_rate=0.001),\n",
        "    loss='categorical_crossentropy',\n",
        "    metrics = [tfa.metrics.F1Score(num_classes = 12,average = \"macro\",name = \"f1_score\")])"
      ]
    },
    {
      "cell_type": "code",
      "source": [
        "file_path= '/content/drive/MyDrive/ P8_kaggle_competition/Best_model_cnn.h5'\n",
        "\n",
        "checkpoint=ModelCheckpoint(file_path,\n",
        "                          monitor=\"val_f1_score\",\n",
        "                          mode='max',\n",
        "                          save_best_only=True,\n",
        "                          verbose=1)\n",
        "earlystop=EarlyStopping(monitor=\"val_f1_score\",mode='max',\n",
        "                       patience=5,\n",
        "                       verbose=1,\n",
        "                       restore_best_weights=True)\n",
        "\n",
        "callbacks=[checkpoint,earlystop]"
      ],
      "metadata": {
        "id": "sOEyvL-hwQIh"
      },
      "execution_count": null,
      "outputs": []
    },
    {
      "cell_type": "code",
      "execution_count": null,
      "metadata": {
        "colab": {
          "base_uri": "https://localhost:8080/"
        },
        "id": "z-9nXPN4-WG3",
        "outputId": "c82c1bf2-0296-4278-fc0d-dde5ad37026d"
      },
      "outputs": [
        {
          "output_type": "stream",
          "name": "stdout",
          "text": [
            "Epoch 1/60\n",
            "38/38 [==============================] - ETA: 0s - loss: 1.9678 - f1_score: 0.0715\n",
            "Epoch 00001: val_f1_score improved from -inf to 0.02913, saving model to /content/drive/MyDrive/ P8_kaggle_competition/Best_model_cnn.h5\n",
            "38/38 [==============================] - 230s 6s/step - loss: 1.9678 - f1_score: 0.0715 - val_loss: 1.8913 - val_f1_score: 0.0291\n",
            "Epoch 2/60\n",
            "38/38 [==============================] - ETA: 0s - loss: 1.8851 - f1_score: 0.0569\n",
            "Epoch 00002: val_f1_score improved from 0.02913 to 0.03327, saving model to /content/drive/MyDrive/ P8_kaggle_competition/Best_model_cnn.h5\n",
            "38/38 [==============================] - 206s 5s/step - loss: 1.8851 - f1_score: 0.0569 - val_loss: 1.8740 - val_f1_score: 0.0333\n",
            "Epoch 3/60\n",
            "38/38 [==============================] - ETA: 0s - loss: 1.8414 - f1_score: 0.0686\n",
            "Epoch 00003: val_f1_score improved from 0.03327 to 0.10293, saving model to /content/drive/MyDrive/ P8_kaggle_competition/Best_model_cnn.h5\n",
            "38/38 [==============================] - 206s 5s/step - loss: 1.8414 - f1_score: 0.0686 - val_loss: 1.8327 - val_f1_score: 0.1029\n",
            "Epoch 4/60\n",
            "38/38 [==============================] - ETA: 0s - loss: 1.8500 - f1_score: 0.0695\n",
            "Epoch 00004: val_f1_score did not improve from 0.10293\n",
            "38/38 [==============================] - 203s 5s/step - loss: 1.8500 - f1_score: 0.0695 - val_loss: 1.8456 - val_f1_score: 0.0514\n",
            "Epoch 5/60\n",
            "38/38 [==============================] - ETA: 0s - loss: 1.7916 - f1_score: 0.0917\n",
            "Epoch 00005: val_f1_score did not improve from 0.10293\n",
            "38/38 [==============================] - 203s 5s/step - loss: 1.7916 - f1_score: 0.0917 - val_loss: 1.8210 - val_f1_score: 0.0955\n",
            "Epoch 6/60\n",
            "38/38 [==============================] - ETA: 0s - loss: 1.7918 - f1_score: 0.1055\n",
            "Epoch 00006: val_f1_score did not improve from 0.10293\n",
            "38/38 [==============================] - 202s 5s/step - loss: 1.7918 - f1_score: 0.1055 - val_loss: 1.6618 - val_f1_score: 0.0901\n",
            "Epoch 7/60\n",
            "38/38 [==============================] - ETA: 0s - loss: 1.7711 - f1_score: 0.0959\n",
            "Epoch 00007: val_f1_score did not improve from 0.10293\n",
            "38/38 [==============================] - 203s 5s/step - loss: 1.7711 - f1_score: 0.0959 - val_loss: 1.7162 - val_f1_score: 0.0967\n",
            "Epoch 8/60\n",
            "38/38 [==============================] - ETA: 0s - loss: 1.7717 - f1_score: 0.1057\n",
            "Epoch 00008: val_f1_score did not improve from 0.10293\n",
            "Restoring model weights from the end of the best epoch: 3.\n",
            "38/38 [==============================] - 201s 5s/step - loss: 1.7717 - f1_score: 0.1057 - val_loss: 1.8392 - val_f1_score: 0.0929\n",
            "Epoch 00008: early stopping\n",
            "Done in 1920.956s.\n"
          ]
        }
      ],
      "source": [
        "t0 = time()\n",
        "\n",
        "epochs = 60\n",
        "\n",
        "model_history=model.fit(train_ds,validation_data=val_ds,\n",
        "                                 epochs= epochs,\n",
        "                                 steps_per_epoch=train_ds.samples//128,\n",
        "                                 validation_steps=val_ds.samples//128,\n",
        "                                 callbacks=callbacks)\n",
        "\n",
        "\n",
        "print(\"Done in %0.3fs.\" % (time() - t0))"
      ]
    },
    {
      "cell_type": "code",
      "source": [
        "acc = model_history.history['f1_score']\n",
        "val_acc = model_history.history['val_f1_score']\n",
        "\n",
        "loss = model_history.history['loss']\n",
        "val_loss = model_history.history['val_loss']\n",
        "\n",
        "plt.figure(figsize=(8, 8))\n",
        "plt.subplot(2, 1, 1)\n",
        "plt.plot(acc, label='Training Accuracy')\n",
        "plt.plot(val_acc, label='Validation Accuracy')\n",
        "plt.legend(loc='upper right')\n",
        "plt.ylabel('Accuracy')\n",
        "plt.ylim([min(plt.ylim()),1])\n",
        "plt.title('Training and Validation Accuracy')\n",
        "\n",
        "plt.subplot(2, 1, 2)\n",
        "plt.plot(loss, label='Training Loss')\n",
        "plt.plot(val_loss, label='Validation Loss')\n",
        "plt.legend(loc='lower right')\n",
        "plt.ylabel('Cross Entropy')\n",
        "plt.ylim([0,2.0])\n",
        "plt.title('Training and Validation Loss')\n",
        "plt.xlabel('epoch')\n",
        "plt.show()"
      ],
      "metadata": {
        "colab": {
          "base_uri": "https://localhost:8080/",
          "height": 513
        },
        "id": "qGFhFY2Vu18T",
        "outputId": "0d51a120-ea98-4807-ff5d-ab7934468f5b"
      },
      "execution_count": null,
      "outputs": [
        {
          "output_type": "display_data",
          "data": {
            "image/png": "[encoded data removed]",
            "text/plain": [
              "<Figure size 576x576 with 2 Axes>"
            ]
          },
          "metadata": {
            "needs_background": "light"
          }
        }
      ]
    },
    {
      "cell_type": "markdown",
      "metadata": {
        "id": "SZAlqy01_Jzk"
      },
      "source": [
        "#Transfer learning with inceptionV3"
      ]
    },
    {
      "cell_type": "code",
      "execution_count": null,
      "metadata": {
        "id": "T6cBiIvw_R5g"
      },
      "outputs": [],
      "source": [
        "from  tensorflow.keras.applications import InceptionV3"
      ]
    },
    {
      "cell_type": "code",
      "execution_count": null,
      "metadata": {
        "id": "0cMLYdz9_h_y",
        "colab": {
          "base_uri": "https://localhost:8080/"
        },
        "outputId": "37517619-802f-4b19-e1ca-0535c2316e96"
      },
      "outputs": [
        {
          "output_type": "stream",
          "name": "stdout",
          "text": [
            "Downloading data from https://storage.googleapis.com/tensorflow/keras-applications/inception_v3/inception_v3_weights_tf_dim_ordering_tf_kernels_notop.h5\n",
            "87916544/87910968 [==============================] - 1s 0us/step\n",
            "87924736/87910968 [==============================] - 1s 0us/step\n"
          ]
        }
      ],
      "source": [
        "#initialise base model\n",
        "IMG_SHAPE = (124, 124, 3)\n",
        "\n",
        "base_model=  InceptionV3(\n",
        "    weights='imagenet',\n",
        "    input_shape= IMG_SHAPE,\n",
        "    include_top=False)"
      ]
    },
    {
      "cell_type": "code",
      "execution_count": null,
      "metadata": {
        "colab": {
          "base_uri": "https://localhost:8080/"
        },
        "id": "JDEmLZmF_iKE",
        "outputId": "c2a4245d-a1fc-4751-bc73-ec621cec955d"
      },
      "outputs": [
        {
          "output_type": "stream",
          "name": "stdout",
          "text": [
            "Model: \"sequential\"\n",
            "_________________________________________________________________\n",
            " Layer (type)                Output Shape              Param #   \n",
            "=================================================================\n",
            " inception_v3 (Functional)   (None, 2, 2, 2048)        21802784  \n",
            "                                                                 \n",
            " global_average_pooling2d (G  (None, 2048)             0         \n",
            " lobalAveragePooling2D)                                          \n",
            "                                                                 \n",
            " dense (Dense)               (None, 320)               655680    \n",
            "                                                                 \n",
            " dropout (Dropout)           (None, 320)               0         \n",
            "                                                                 \n",
            " dense_1 (Dense)             (None, 12)                3852      \n",
            "                                                                 \n",
            "=================================================================\n",
            "Total params: 22,462,316\n",
            "Trainable params: 659,532\n",
            "Non-trainable params: 21,802,784\n",
            "_________________________________________________________________\n"
          ]
        }
      ],
      "source": [
        "base_model.trainable = False\n",
        "model = tf.keras.Sequential()\n",
        "model.add(base_model)\n",
        "model.add(tf.keras.layers.GlobalAveragePooling2D())\n",
        "model.add(tf.keras.layers.Dense(320, activation='relu'))\n",
        "model.add(tf.keras.layers.Dropout(0.2))\n",
        "model.add(tf.keras.layers.Dense(12, activation='sigmoid'))\n",
        "model.summary()"
      ]
    },
    {
      "cell_type": "code",
      "execution_count": null,
      "metadata": {
        "id": "Zs5A9RWP_7sa"
      },
      "outputs": [],
      "source": [
        "# Compile the Model\n",
        "model.compile(optimizer=tf.keras.optimizers.Adam(learning_rate=0.001),\n",
        "    loss='categorical_crossentropy',\n",
        "    metrics = [tfa.metrics.F1Score(num_classes = 12,average = \"macro\",name = \"f1_score\")])"
      ]
    },
    {
      "cell_type": "code",
      "execution_count": null,
      "metadata": {
        "id": "n-GmWmtu-WKa"
      },
      "outputs": [],
      "source": [
        "file_path= '/content/drive/MyDrive/ P8_kaggle_competition/Best_basemodel_inceptionV3.h5'\n",
        "\n",
        "checkpoint=ModelCheckpoint(file_path,\n",
        "                          monitor=\"val_f1_score\",\n",
        "                          mode='max',\n",
        "                          save_best_only=True,\n",
        "                          verbose=1)\n",
        "earlystop=EarlyStopping(monitor=\"val_f1_score\",mode='max',\n",
        "                       patience=5,\n",
        "                       verbose=1,\n",
        "                       restore_best_weights=True)\n",
        "\n",
        "callbacks=[checkpoint,earlystop]"
      ]
    },
    {
      "cell_type": "code",
      "execution_count": null,
      "metadata": {
        "colab": {
          "base_uri": "https://localhost:8080/"
        },
        "id": "le5Ob--YACJR",
        "outputId": "9fa4aac0-5fcc-4a2d-85ac-8ea53f463ec4"
      },
      "outputs": [
        {
          "output_type": "stream",
          "name": "stdout",
          "text": [
            "Epoch 1/20\n",
            "38/38 [==============================] - ETA: 0s - loss: 2.5604 - f1_score: 0.1175 \n",
            "Epoch 00001: val_f1_score improved from -inf to 0.09451, saving model to /content/drive/MyDrive/ P8_kaggle_competition/Best_basemodel_inceptionV3.h5\n",
            "38/38 [==============================] - 710s 18s/step - loss: 2.5604 - f1_score: 0.1175 - val_loss: 1.9593 - val_f1_score: 0.0945\n",
            "Epoch 2/20\n",
            "38/38 [==============================] - ETA: 0s - loss: 1.7633 - f1_score: 0.1360 \n",
            "Epoch 00002: val_f1_score improved from 0.09451 to 0.16748, saving model to /content/drive/MyDrive/ P8_kaggle_competition/Best_basemodel_inceptionV3.h5\n",
            "38/38 [==============================] - 575s 15s/step - loss: 1.7633 - f1_score: 0.1360 - val_loss: 1.6097 - val_f1_score: 0.1675\n",
            "Epoch 3/20\n",
            "38/38 [==============================] - ETA: 0s - loss: 1.6765 - f1_score: 0.1775 \n",
            "Epoch 00003: val_f1_score improved from 0.16748 to 0.20068, saving model to /content/drive/MyDrive/ P8_kaggle_competition/Best_basemodel_inceptionV3.h5\n",
            "38/38 [==============================] - 491s 13s/step - loss: 1.6765 - f1_score: 0.1775 - val_loss: 1.6111 - val_f1_score: 0.2007\n",
            "Epoch 4/20\n",
            "38/38 [==============================] - ETA: 0s - loss: 1.6772 - f1_score: 0.1804\n",
            "Epoch 00004: val_f1_score did not improve from 0.20068\n",
            "38/38 [==============================] - 411s 11s/step - loss: 1.6772 - f1_score: 0.1804 - val_loss: 1.6357 - val_f1_score: 0.1888\n",
            "Epoch 5/20\n",
            "38/38 [==============================] - ETA: 0s - loss: 1.6036 - f1_score: 0.1991\n",
            "Epoch 00005: val_f1_score did not improve from 0.20068\n",
            "38/38 [==============================] - 375s 10s/step - loss: 1.6036 - f1_score: 0.1991 - val_loss: 1.5047 - val_f1_score: 0.1988\n",
            "Epoch 6/20\n",
            "38/38 [==============================] - ETA: 0s - loss: 1.5663 - f1_score: 0.1963\n",
            "Epoch 00006: val_f1_score did not improve from 0.20068\n",
            "38/38 [==============================] - 346s 9s/step - loss: 1.5663 - f1_score: 0.1963 - val_loss: 1.4819 - val_f1_score: 0.1845\n",
            "Epoch 7/20\n",
            "38/38 [==============================] - ETA: 0s - loss: 1.6221 - f1_score: 0.1921\n",
            "Epoch 00007: val_f1_score improved from 0.20068 to 0.21519, saving model to /content/drive/MyDrive/ P8_kaggle_competition/Best_basemodel_inceptionV3.h5\n",
            "38/38 [==============================] - 309s 8s/step - loss: 1.6221 - f1_score: 0.1921 - val_loss: 1.5158 - val_f1_score: 0.2152\n",
            "Epoch 8/20\n",
            "38/38 [==============================] - ETA: 0s - loss: 1.5807 - f1_score: 0.1940\n",
            "Epoch 00008: val_f1_score did not improve from 0.21519\n",
            "38/38 [==============================] - 288s 8s/step - loss: 1.5807 - f1_score: 0.1940 - val_loss: 1.5631 - val_f1_score: 0.2025\n",
            "Epoch 9/20\n",
            "38/38 [==============================] - ETA: 0s - loss: 1.5416 - f1_score: 0.2107\n",
            "Epoch 00009: val_f1_score did not improve from 0.21519\n",
            "38/38 [==============================] - 270s 7s/step - loss: 1.5416 - f1_score: 0.2107 - val_loss: 1.5017 - val_f1_score: 0.1942\n",
            "Epoch 10/20\n",
            "38/38 [==============================] - ETA: 0s - loss: 1.5510 - f1_score: 0.2043\n",
            "Epoch 00010: val_f1_score improved from 0.21519 to 0.23782, saving model to /content/drive/MyDrive/ P8_kaggle_competition/Best_basemodel_inceptionV3.h5\n",
            "38/38 [==============================] - 263s 7s/step - loss: 1.5510 - f1_score: 0.2043 - val_loss: 1.4465 - val_f1_score: 0.2378\n",
            "Epoch 11/20\n",
            "38/38 [==============================] - ETA: 0s - loss: 1.5627 - f1_score: 0.2041\n",
            "Epoch 00011: val_f1_score did not improve from 0.23782\n",
            "38/38 [==============================] - 249s 7s/step - loss: 1.5627 - f1_score: 0.2041 - val_loss: 1.4674 - val_f1_score: 0.2173\n",
            "Epoch 12/20\n",
            "38/38 [==============================] - ETA: 0s - loss: 1.5461 - f1_score: 0.2166\n",
            "Epoch 00012: val_f1_score did not improve from 0.23782\n",
            "38/38 [==============================] - 251s 7s/step - loss: 1.5461 - f1_score: 0.2166 - val_loss: 1.5513 - val_f1_score: 0.2081\n",
            "Epoch 13/20\n",
            "38/38 [==============================] - ETA: 0s - loss: 1.5365 - f1_score: 0.2075\n",
            "Epoch 00013: val_f1_score did not improve from 0.23782\n",
            "38/38 [==============================] - 248s 7s/step - loss: 1.5365 - f1_score: 0.2075 - val_loss: 1.5394 - val_f1_score: 0.2213\n",
            "Epoch 14/20\n",
            "38/38 [==============================] - ETA: 0s - loss: 1.4983 - f1_score: 0.2133\n",
            "Epoch 00014: val_f1_score did not improve from 0.23782\n",
            "38/38 [==============================] - 235s 6s/step - loss: 1.4983 - f1_score: 0.2133 - val_loss: 1.4747 - val_f1_score: 0.1971\n",
            "Epoch 15/20\n",
            "38/38 [==============================] - ETA: 0s - loss: 1.5178 - f1_score: 0.2154\n",
            "Epoch 00015: val_f1_score did not improve from 0.23782\n",
            "Restoring model weights from the end of the best epoch: 10.\n",
            "38/38 [==============================] - 236s 6s/step - loss: 1.5178 - f1_score: 0.2154 - val_loss: 1.5385 - val_f1_score: 0.2064\n",
            "Epoch 00015: early stopping\n",
            "Done in 5463.979s.\n"
          ]
        }
      ],
      "source": [
        "t0 = time()\n",
        "\n",
        "epochs = 20\n",
        "\n",
        "model_history= model.fit(train_ds,validation_data=val_ds,\n",
        "                         steps_per_epoch=train_ds.samples//128,\n",
        "                                 validation_steps=val_ds.samples//128,\n",
        "                                 epochs= epochs,\n",
        "                                 callbacks=callbacks)\n",
        "\n",
        "\n",
        "print(\"Done in %0.3fs.\" % (time() - t0))"
      ]
    },
    {
      "cell_type": "code",
      "execution_count": null,
      "metadata": {
        "colab": {
          "base_uri": "https://localhost:8080/",
          "height": 513
        },
        "id": "SyYP0EOFhO2f",
        "outputId": "b8af1310-3cb8-47ae-cb9a-6f9998b50878"
      },
      "outputs": [
        {
          "output_type": "display_data",
          "data": {
            "image/png": "[encoded data removed]",
            "text/plain": [
              "<Figure size 576x576 with 2 Axes>"
            ]
          },
          "metadata": {
            "needs_background": "light"
          }
        }
      ],
      "source": [
        "acc = model_history.history['f1_score']\n",
        "val_acc = model_history.history['val_f1_score']\n",
        "\n",
        "loss = model_history.history['loss']\n",
        "val_loss = model_history.history['val_loss']\n",
        "\n",
        "plt.figure(figsize=(8, 8))\n",
        "plt.subplot(2, 1, 1)\n",
        "plt.plot(acc, label='Training Accuracy')\n",
        "plt.plot(val_acc, label='Validation Accuracy')\n",
        "plt.legend(loc='upper right')\n",
        "plt.ylabel('Accuracy')\n",
        "plt.ylim([min(plt.ylim()),1])\n",
        "plt.title('Training and Validation Accuracy')\n",
        "\n",
        "plt.subplot(2, 1, 2)\n",
        "plt.plot(loss, label='Training Loss')\n",
        "plt.plot(val_loss, label='Validation Loss')\n",
        "plt.legend(loc='lower right')\n",
        "plt.ylabel('Cross Entropy')\n",
        "plt.ylim([0,2.0])\n",
        "plt.title('Training and Validation Loss')\n",
        "plt.xlabel('epoch')\n",
        "plt.show()"
      ]
    },
    {
      "cell_type": "markdown",
      "metadata": {
        "id": "mXr12WrHf30_"
      },
      "source": [
        "##Fine_tunning"
      ]
    },
    {
      "cell_type": "code",
      "execution_count": null,
      "metadata": {
        "id": "FSJF67e1f2pR"
      },
      "outputs": [],
      "source": [
        "base_model.trainable = True"
      ]
    },
    {
      "cell_type": "code",
      "execution_count": null,
      "metadata": {
        "colab": {
          "base_uri": "https://localhost:8080/"
        },
        "id": "eqZ2a33RACLF",
        "outputId": "dcea5433-4206-40a4-c4a8-417f20e86644"
      },
      "outputs": [
        {
          "output_type": "stream",
          "name": "stdout",
          "text": [
            "Number of layers in the base model:  311\n"
          ]
        }
      ],
      "source": [
        "print(\"Number of layers in the base model: \", len(base_model.layers))"
      ]
    },
    {
      "cell_type": "code",
      "execution_count": null,
      "metadata": {
        "id": "6AwzOA5SACNJ"
      },
      "outputs": [],
      "source": [
        "fine_tune_at = 200\n",
        "\n",
        "# Freeze all the layers before the 'fine_tune_at' layer\n",
        "for layer in base_model.layers[:fine_tune_at]:\n",
        "  layer.trainable =  False"
      ]
    },
    {
      "cell_type": "code",
      "execution_count": null,
      "metadata": {
        "id": "BO-3PkRsACRR"
      },
      "outputs": [],
      "source": [
        "# Compile the Model\n",
        "model.compile(optimizer=tf.keras.optimizers.Adam(learning_rate=0.001/10),\n",
        "    loss='categorical_crossentropy',\n",
        "    metrics = [tfa.metrics.F1Score(num_classes = 12,average = \"macro\",name = \"f1_score\")])"
      ]
    },
    {
      "cell_type": "code",
      "execution_count": null,
      "metadata": {
        "id": "S94fA4viACVu"
      },
      "outputs": [],
      "source": [
        "file_path= '/content/drive/MyDrive/ P8_kaggle_competition/Best_model_inceptionV3.h5'\n",
        "\n",
        "checkpoint=ModelCheckpoint(file_path,\n",
        "                          monitor=\"val_f1_score\",\n",
        "                          mode='max',\n",
        "                          save_best_only=True,\n",
        "                          verbose=1)\n",
        "earlystop=EarlyStopping(monitor=\"val_f1_score\",mode='max',\n",
        "                       patience=5,\n",
        "                       verbose=1,\n",
        "                       restore_best_weights=True)\n",
        "\n",
        "callbacks=[checkpoint,earlystop]"
      ]
    },
    {
      "cell_type": "code",
      "execution_count": null,
      "metadata": {
        "colab": {
          "base_uri": "https://localhost:8080/"
        },
        "id": "XJGDjX4CgxOE",
        "outputId": "a07c3ff9-248d-49c2-cbcf-d647a130b8c6"
      },
      "outputs": [
        {
          "output_type": "stream",
          "name": "stdout",
          "text": [
            "Epoch 15/60\n",
            "38/38 [==============================] - ETA: 0s - loss: 1.8136 - f1_score: 0.1516\n",
            "Epoch 00015: val_f1_score improved from -inf to 0.14638, saving model to /content/drive/MyDrive/ P8_kaggle_competition/Best_model_inceptionV3.h5\n",
            "38/38 [==============================] - 251s 6s/step - loss: 1.8136 - f1_score: 0.1516 - val_loss: 1.9690 - val_f1_score: 0.1464\n",
            "Epoch 16/60\n",
            "38/38 [==============================] - ETA: 0s - loss: 1.4828 - f1_score: 0.2057\n",
            "Epoch 00016: val_f1_score improved from 0.14638 to 0.20353, saving model to /content/drive/MyDrive/ P8_kaggle_competition/Best_model_inceptionV3.h5\n",
            "38/38 [==============================] - 242s 6s/step - loss: 1.4828 - f1_score: 0.2057 - val_loss: 1.5683 - val_f1_score: 0.2035\n",
            "Epoch 17/60\n",
            "38/38 [==============================] - ETA: 0s - loss: 1.4802 - f1_score: 0.2181\n",
            "Epoch 00017: val_f1_score improved from 0.20353 to 0.23792, saving model to /content/drive/MyDrive/ P8_kaggle_competition/Best_model_inceptionV3.h5\n",
            "38/38 [==============================] - 238s 6s/step - loss: 1.4802 - f1_score: 0.2181 - val_loss: 1.4687 - val_f1_score: 0.2379\n",
            "Epoch 18/60\n",
            "38/38 [==============================] - ETA: 0s - loss: 1.4250 - f1_score: 0.2342\n",
            "Epoch 00018: val_f1_score improved from 0.23792 to 0.27279, saving model to /content/drive/MyDrive/ P8_kaggle_competition/Best_model_inceptionV3.h5\n",
            "38/38 [==============================] - 239s 6s/step - loss: 1.4250 - f1_score: 0.2342 - val_loss: 1.2368 - val_f1_score: 0.2728\n",
            "Epoch 19/60\n",
            "38/38 [==============================] - ETA: 0s - loss: 1.3461 - f1_score: 0.2414\n",
            "Epoch 00019: val_f1_score did not improve from 0.27279\n",
            "38/38 [==============================] - 237s 6s/step - loss: 1.3461 - f1_score: 0.2414 - val_loss: 1.3070 - val_f1_score: 0.2498\n",
            "Epoch 20/60\n",
            "38/38 [==============================] - ETA: 0s - loss: 1.2943 - f1_score: 0.2631\n",
            "Epoch 00020: val_f1_score did not improve from 0.27279\n",
            "38/38 [==============================] - 237s 6s/step - loss: 1.2943 - f1_score: 0.2631 - val_loss: 1.2103 - val_f1_score: 0.2720\n",
            "Epoch 21/60\n",
            "38/38 [==============================] - ETA: 0s - loss: 1.3301 - f1_score: 0.2511\n",
            "Epoch 00021: val_f1_score improved from 0.27279 to 0.28268, saving model to /content/drive/MyDrive/ P8_kaggle_competition/Best_model_inceptionV3.h5\n",
            "38/38 [==============================] - 241s 6s/step - loss: 1.3301 - f1_score: 0.2511 - val_loss: 1.1591 - val_f1_score: 0.2827\n",
            "Epoch 22/60\n",
            "38/38 [==============================] - ETA: 0s - loss: 1.1781 - f1_score: 0.2736\n",
            "Epoch 00022: val_f1_score improved from 0.28268 to 0.29221, saving model to /content/drive/MyDrive/ P8_kaggle_competition/Best_model_inceptionV3.h5\n",
            "38/38 [==============================] - 232s 6s/step - loss: 1.1781 - f1_score: 0.2736 - val_loss: 1.1736 - val_f1_score: 0.2922\n",
            "Epoch 23/60\n",
            "38/38 [==============================] - ETA: 0s - loss: 1.2703 - f1_score: 0.2697\n",
            "Epoch 00023: val_f1_score improved from 0.29221 to 0.29884, saving model to /content/drive/MyDrive/ P8_kaggle_competition/Best_model_inceptionV3.h5\n",
            "38/38 [==============================] - 231s 6s/step - loss: 1.2703 - f1_score: 0.2697 - val_loss: 1.1726 - val_f1_score: 0.2988\n",
            "Epoch 24/60\n",
            "38/38 [==============================] - ETA: 0s - loss: 1.1830 - f1_score: 0.2771\n",
            "Epoch 00024: val_f1_score did not improve from 0.29884\n",
            "38/38 [==============================] - 228s 6s/step - loss: 1.1830 - f1_score: 0.2771 - val_loss: 1.1166 - val_f1_score: 0.2926\n",
            "Epoch 25/60\n",
            "38/38 [==============================] - ETA: 0s - loss: 1.2042 - f1_score: 0.2747\n",
            "Epoch 00025: val_f1_score did not improve from 0.29884\n",
            "38/38 [==============================] - 229s 6s/step - loss: 1.2042 - f1_score: 0.2747 - val_loss: 1.2153 - val_f1_score: 0.2690\n",
            "Epoch 26/60\n",
            "38/38 [==============================] - ETA: 0s - loss: 1.2216 - f1_score: 0.2736\n",
            "Epoch 00026: val_f1_score did not improve from 0.29884\n",
            "38/38 [==============================] - 233s 6s/step - loss: 1.2216 - f1_score: 0.2736 - val_loss: 1.1460 - val_f1_score: 0.2885\n",
            "Epoch 27/60\n",
            "38/38 [==============================] - ETA: 0s - loss: 1.1594 - f1_score: 0.3000\n",
            "Epoch 00027: val_f1_score did not improve from 0.29884\n",
            "38/38 [==============================] - 231s 6s/step - loss: 1.1594 - f1_score: 0.3000 - val_loss: 1.1526 - val_f1_score: 0.2754\n",
            "Epoch 28/60\n",
            "38/38 [==============================] - ETA: 0s - loss: 1.1711 - f1_score: 0.2949\n",
            "Epoch 00028: val_f1_score improved from 0.29884 to 0.30045, saving model to /content/drive/MyDrive/ P8_kaggle_competition/Best_model_inceptionV3.h5\n",
            "38/38 [==============================] - 234s 6s/step - loss: 1.1711 - f1_score: 0.2949 - val_loss: 1.1438 - val_f1_score: 0.3004\n",
            "Epoch 29/60\n",
            "38/38 [==============================] - ETA: 0s - loss: 1.0788 - f1_score: 0.2995\n",
            "Epoch 00029: val_f1_score improved from 0.30045 to 0.31484, saving model to /content/drive/MyDrive/ P8_kaggle_competition/Best_model_inceptionV3.h5\n",
            "38/38 [==============================] - 233s 6s/step - loss: 1.0788 - f1_score: 0.2995 - val_loss: 1.0460 - val_f1_score: 0.3148\n",
            "Epoch 30/60\n",
            "38/38 [==============================] - ETA: 0s - loss: 1.0963 - f1_score: 0.3044\n",
            "Epoch 00030: val_f1_score did not improve from 0.31484\n",
            "38/38 [==============================] - 234s 6s/step - loss: 1.0963 - f1_score: 0.3044 - val_loss: 1.1054 - val_f1_score: 0.2976\n",
            "Epoch 31/60\n",
            "38/38 [==============================] - ETA: 0s - loss: 1.1018 - f1_score: 0.3187\n",
            "Epoch 00031: val_f1_score did not improve from 0.31484\n",
            "38/38 [==============================] - 235s 6s/step - loss: 1.1018 - f1_score: 0.3187 - val_loss: 1.1427 - val_f1_score: 0.3084\n",
            "Epoch 32/60\n",
            "38/38 [==============================] - ETA: 0s - loss: 1.0771 - f1_score: 0.3251\n",
            "Epoch 00032: val_f1_score did not improve from 0.31484\n",
            "38/38 [==============================] - 231s 6s/step - loss: 1.0771 - f1_score: 0.3251 - val_loss: 1.1581 - val_f1_score: 0.3037\n",
            "Epoch 33/60\n",
            "38/38 [==============================] - ETA: 0s - loss: 1.0442 - f1_score: 0.3312\n",
            "Epoch 00033: val_f1_score improved from 0.31484 to 0.31833, saving model to /content/drive/MyDrive/ P8_kaggle_competition/Best_model_inceptionV3.h5\n",
            "38/38 [==============================] - 235s 6s/step - loss: 1.0442 - f1_score: 0.3312 - val_loss: 1.1092 - val_f1_score: 0.3183\n",
            "Epoch 34/60\n",
            "38/38 [==============================] - ETA: 0s - loss: 1.0498 - f1_score: 0.3298\n",
            "Epoch 00034: val_f1_score did not improve from 0.31833\n",
            "38/38 [==============================] - 257s 7s/step - loss: 1.0498 - f1_score: 0.3298 - val_loss: 1.1401 - val_f1_score: 0.3136\n",
            "Epoch 35/60\n",
            "38/38 [==============================] - ETA: 0s - loss: 1.0435 - f1_score: 0.3175\n",
            "Epoch 00035: val_f1_score did not improve from 0.31833\n",
            "38/38 [==============================] - 270s 7s/step - loss: 1.0435 - f1_score: 0.3175 - val_loss: 1.1055 - val_f1_score: 0.2928\n",
            "Epoch 36/60\n",
            "38/38 [==============================] - ETA: 0s - loss: 1.0746 - f1_score: 0.3154\n",
            "Epoch 00036: val_f1_score did not improve from 0.31833\n",
            "38/38 [==============================] - 267s 7s/step - loss: 1.0746 - f1_score: 0.3154 - val_loss: 1.1471 - val_f1_score: 0.2939\n",
            "Epoch 37/60\n",
            "38/38 [==============================] - ETA: 0s - loss: 1.0238 - f1_score: 0.3380\n",
            "Epoch 00037: val_f1_score improved from 0.31833 to 0.33107, saving model to /content/drive/MyDrive/ P8_kaggle_competition/Best_model_inceptionV3.h5\n",
            "38/38 [==============================] - 261s 7s/step - loss: 1.0238 - f1_score: 0.3380 - val_loss: 1.0642 - val_f1_score: 0.3311\n",
            "Epoch 38/60\n",
            "38/38 [==============================] - ETA: 0s - loss: 0.9650 - f1_score: 0.3550\n",
            "Epoch 00038: val_f1_score did not improve from 0.33107\n",
            "38/38 [==============================] - 241s 6s/step - loss: 0.9650 - f1_score: 0.3550 - val_loss: 1.0537 - val_f1_score: 0.3146\n",
            "Epoch 39/60\n",
            "38/38 [==============================] - ETA: 0s - loss: 1.0038 - f1_score: 0.3460\n",
            "Epoch 00039: val_f1_score improved from 0.33107 to 0.33494, saving model to /content/drive/MyDrive/ P8_kaggle_competition/Best_model_inceptionV3.h5\n",
            "38/38 [==============================] - 241s 6s/step - loss: 1.0038 - f1_score: 0.3460 - val_loss: 1.0764 - val_f1_score: 0.3349\n",
            "Epoch 40/60\n",
            "38/38 [==============================] - ETA: 0s - loss: 0.9756 - f1_score: 0.3564\n",
            "Epoch 00040: val_f1_score did not improve from 0.33494\n",
            "38/38 [==============================] - 236s 6s/step - loss: 0.9756 - f1_score: 0.3564 - val_loss: 1.0553 - val_f1_score: 0.3235\n",
            "Epoch 41/60\n",
            "38/38 [==============================] - ETA: 0s - loss: 0.9537 - f1_score: 0.4035\n",
            "Epoch 00041: val_f1_score did not improve from 0.33494\n",
            "38/38 [==============================] - 237s 6s/step - loss: 0.9537 - f1_score: 0.4035 - val_loss: 0.9870 - val_f1_score: 0.3250\n",
            "Epoch 42/60\n",
            "38/38 [==============================] - ETA: 0s - loss: 0.9744 - f1_score: 0.3448\n",
            "Epoch 00042: val_f1_score did not improve from 0.33494\n",
            "38/38 [==============================] - 238s 6s/step - loss: 0.9744 - f1_score: 0.3448 - val_loss: 1.0390 - val_f1_score: 0.3258\n",
            "Epoch 43/60\n",
            "38/38 [==============================] - ETA: 0s - loss: 0.9510 - f1_score: 0.3646\n",
            "Epoch 00043: val_f1_score did not improve from 0.33494\n",
            "38/38 [==============================] - 243s 6s/step - loss: 0.9510 - f1_score: 0.3646 - val_loss: 1.0101 - val_f1_score: 0.3313\n",
            "Epoch 44/60\n",
            "38/38 [==============================] - ETA: 0s - loss: 0.9342 - f1_score: 0.3472\n",
            "Epoch 00044: val_f1_score improved from 0.33494 to 0.34438, saving model to /content/drive/MyDrive/ P8_kaggle_competition/Best_model_inceptionV3.h5\n",
            "38/38 [==============================] - 243s 6s/step - loss: 0.9342 - f1_score: 0.3472 - val_loss: 0.8822 - val_f1_score: 0.3444\n",
            "Epoch 45/60\n",
            "38/38 [==============================] - ETA: 0s - loss: 0.9426 - f1_score: 0.3531\n",
            "Epoch 00045: val_f1_score did not improve from 0.34438\n",
            "38/38 [==============================] - 240s 6s/step - loss: 0.9426 - f1_score: 0.3531 - val_loss: 1.2452 - val_f1_score: 0.2921\n",
            "Epoch 46/60\n",
            "38/38 [==============================] - ETA: 0s - loss: 0.9078 - f1_score: 0.4019\n",
            "Epoch 00046: val_f1_score improved from 0.34438 to 0.35436, saving model to /content/drive/MyDrive/ P8_kaggle_competition/Best_model_inceptionV3.h5\n",
            "38/38 [==============================] - 246s 7s/step - loss: 0.9078 - f1_score: 0.4019 - val_loss: 0.8896 - val_f1_score: 0.3544\n",
            "Epoch 47/60\n",
            "38/38 [==============================] - ETA: 0s - loss: 0.8866 - f1_score: 0.3582\n",
            "Epoch 00047: val_f1_score did not improve from 0.35436\n",
            "38/38 [==============================] - 241s 6s/step - loss: 0.8866 - f1_score: 0.3582 - val_loss: 1.1007 - val_f1_score: 0.3305\n",
            "Epoch 48/60\n",
            "38/38 [==============================] - ETA: 0s - loss: 0.8997 - f1_score: 0.4092\n",
            "Epoch 00048: val_f1_score did not improve from 0.35436\n",
            "38/38 [==============================] - 234s 6s/step - loss: 0.8997 - f1_score: 0.4092 - val_loss: 1.1624 - val_f1_score: 0.3106\n",
            "Epoch 49/60\n",
            "38/38 [==============================] - ETA: 0s - loss: 0.9418 - f1_score: 0.4253\n",
            "Epoch 00049: val_f1_score did not improve from 0.35436\n",
            "38/38 [==============================] - 233s 6s/step - loss: 0.9418 - f1_score: 0.4253 - val_loss: 0.9810 - val_f1_score: 0.3461\n",
            "Epoch 50/60\n",
            "38/38 [==============================] - ETA: 0s - loss: 0.8709 - f1_score: 0.3620\n",
            "Epoch 00050: val_f1_score did not improve from 0.35436\n",
            "38/38 [==============================] - 233s 6s/step - loss: 0.8709 - f1_score: 0.3620 - val_loss: 0.9532 - val_f1_score: 0.3257\n",
            "Epoch 51/60\n",
            "38/38 [==============================] - ETA: 0s - loss: 0.9076 - f1_score: 0.3800\n",
            "Epoch 00051: val_f1_score did not improve from 0.35436\n",
            "Restoring model weights from the end of the best epoch: 46.\n",
            "38/38 [==============================] - 238s 6s/step - loss: 0.9076 - f1_score: 0.3800 - val_loss: 0.9584 - val_f1_score: 0.3467\n",
            "Epoch 00051: early stopping\n",
            "Done in 9406.593s.\n"
          ]
        }
      ],
      "source": [
        "t0 = time()\n",
        "\n",
        "fine_tune_epochs = 40\n",
        "total_epochs =  epochs + fine_tune_epochs\n",
        "\n",
        "model_history_fine = model.fit(train_ds,validation_data=val_ds,\n",
        "                         steps_per_epoch=train_ds.samples//128,\n",
        "                                 validation_steps=val_ds.samples//128,\n",
        "                                 epochs= total_epochs,\n",
        "                         initial_epoch=model_history.epoch[-1],\n",
        "                                 callbacks=callbacks)\n",
        "\n",
        "\n",
        "print(\"Done in %0.3fs.\" % (time() - t0))"
      ]
    },
    {
      "cell_type": "code",
      "execution_count": null,
      "metadata": {
        "id": "vWDxl8Pb_E67"
      },
      "outputs": [],
      "source": [
        "acc += model_history_fine.history['f1_score']\n",
        "val_acc += model_history_fine.history['val_f1_score']\n",
        "\n",
        "loss += model_history_fine.history['loss']\n",
        "val_loss += model_history_fine.history['val_loss']"
      ]
    },
    {
      "cell_type": "code",
      "execution_count": null,
      "metadata": {
        "colab": {
          "base_uri": "https://localhost:8080/",
          "height": 513
        },
        "id": "WvsBcp2-_UzM",
        "outputId": "cc4d7e63-2cbd-4858-8638-9a7338b92a85"
      },
      "outputs": [
        {
          "output_type": "display_data",
          "data": {
            "image/png": "[encoded data removed]",
            "text/plain": [
              "<Figure size 720x576 with 2 Axes>"
            ]
          },
          "metadata": {
            "needs_background": "light"
          }
        }
      ],
      "source": [
        "plt.figure(figsize=(10, 8))\n",
        "plt.subplot(2, 1, 1)\n",
        "plt.plot(acc, label='Training Accuracy')\n",
        "plt.plot(val_acc, label='Validation Accuracy')\n",
        "plt.ylim([0, 1])\n",
        "plt.plot([model_history.epoch[-1],model_history.epoch[-1]],\n",
        "          plt.ylim(), label='Start Fine Tuning')\n",
        "plt.legend(loc='lower right')\n",
        "plt.title('Training and Validation Accuracy')\n",
        "\n",
        "plt.subplot(2, 1, 2)\n",
        "plt.plot(loss, label='Training Loss')\n",
        "plt.plot(val_loss, label='Validation Loss')\n",
        "plt.ylim([0, 2.0])\n",
        "plt.plot([model_history.epoch[-1],model_history.epoch[-1]],\n",
        "         plt.ylim(), label='Start Fine Tuning')\n",
        "plt.legend(loc='upper right')\n",
        "plt.title('Training and Validation Loss')\n",
        "plt.xlabel('epoch')\n",
        "plt.show()"
      ]
    },
    {
      "cell_type": "markdown",
      "metadata": {
        "id": "KZoMnolIAXs8"
      },
      "source": [
        "#Transfer learning with MobileNetV2"
      ]
    },
    {
      "cell_type": "code",
      "execution_count": null,
      "metadata": {
        "id": "AskXp9UaAmnS"
      },
      "outputs": [],
      "source": [
        "from  tensorflow.keras.applications.mobilenet_v2 import MobileNetV2"
      ]
    },
    {
      "cell_type": "code",
      "execution_count": null,
      "metadata": {
        "colab": {
          "base_uri": "https://localhost:8080/"
        },
        "id": "XSPMXRvuA1Lr",
        "outputId": "a423f20b-b2f6-4939-f980-d3e01a725eb1"
      },
      "outputs": [
        {
          "output_type": "stream",
          "name": "stdout",
          "text": [
            "WARNING:tensorflow:`input_shape` is undefined or non-square, or `rows` is not in [96, 128, 160, 192, 224]. Weights for input shape (224, 224) will be loaded as the default.\n",
            "Downloading data from https://storage.googleapis.com/tensorflow/keras-applications/mobilenet_v2/mobilenet_v2_weights_tf_dim_ordering_tf_kernels_1.0_224_no_top.h5\n",
            "9412608/9406464 [==============================] - 0s 0us/step\n",
            "9420800/9406464 [==============================] - 0s 0us/step\n"
          ]
        }
      ],
      "source": [
        "#initialise base model\n",
        "IMG_SHAPE = (124, 124, 3)\n",
        "\n",
        "base_model=  MobileNetV2(\n",
        "    weights='imagenet',\n",
        "    input_shape= IMG_SHAPE,\n",
        "    include_top=False)"
      ]
    },
    {
      "cell_type": "code",
      "execution_count": null,
      "metadata": {
        "colab": {
          "base_uri": "https://localhost:8080/"
        },
        "id": "QGFMhWZSA_7D",
        "outputId": "8825cd1b-f6bf-4fbb-9b31-93ce384295f5"
      },
      "outputs": [
        {
          "output_type": "stream",
          "name": "stdout",
          "text": [
            "Model: \"sequential_2\"\n",
            "_________________________________________________________________\n",
            " Layer (type)                Output Shape              Param #   \n",
            "=================================================================\n",
            " mobilenetv2_1.00_224 (Funct  (None, 4, 4, 1280)       2257984   \n",
            " ional)                                                          \n",
            "                                                                 \n",
            " global_average_pooling2d_1   (None, 1280)             0         \n",
            " (GlobalAveragePooling2D)                                        \n",
            "                                                                 \n",
            " dense_4 (Dense)             (None, 320)               409920    \n",
            "                                                                 \n",
            " dropout_2 (Dropout)         (None, 320)               0         \n",
            "                                                                 \n",
            " dense_5 (Dense)             (None, 12)                3852      \n",
            "                                                                 \n",
            "=================================================================\n",
            "Total params: 2,671,756\n",
            "Trainable params: 413,772\n",
            "Non-trainable params: 2,257,984\n",
            "_________________________________________________________________\n"
          ]
        }
      ],
      "source": [
        "base_model.trainable = False\n",
        "model = tf.keras.Sequential()\n",
        "model.add(base_model)\n",
        "model.add(tf.keras.layers.GlobalAveragePooling2D())\n",
        "model.add(tf.keras.layers.Dense(320, activation='relu'))\n",
        "model.add(tf.keras.layers.Dropout(0.2))\n",
        "model.add(tf.keras.layers.Dense(12, activation='sigmoid'))\n",
        "model.summary()"
      ]
    },
    {
      "cell_type": "code",
      "execution_count": null,
      "metadata": {
        "id": "kBjchC4KBH1c"
      },
      "outputs": [],
      "source": [
        "# Compile the Model\n",
        "model.compile(optimizer=tf.keras.optimizers.Adam(learning_rate=0.001),\n",
        "    loss='categorical_crossentropy',\n",
        "    metrics = [tfa.metrics.F1Score(num_classes = 12,average = \"macro\",name = \"f1_score\")])"
      ]
    },
    {
      "cell_type": "code",
      "execution_count": null,
      "metadata": {
        "id": "NSK_i0pXBQku"
      },
      "outputs": [],
      "source": [
        "file_path= '/content/drive/MyDrive/ P8_kaggle_competition/Best_basemodel_mobilenetV2.h5'\n",
        "\n",
        "checkpoint=ModelCheckpoint(file_path,\n",
        "                          monitor=\"val_f1_score\",\n",
        "                          mode='max',\n",
        "                          save_best_only=True,\n",
        "                          verbose=1)\n",
        "earlystop=EarlyStopping(monitor=\"val_f1_score\",mode='max',\n",
        "                       patience=5,\n",
        "                       verbose=1,\n",
        "                       restore_best_weights=True)\n",
        "\n",
        "callbacks=[checkpoint,earlystop]"
      ]
    },
    {
      "cell_type": "code",
      "execution_count": null,
      "metadata": {
        "colab": {
          "base_uri": "https://localhost:8080/"
        },
        "id": "ccAitTIlBfBZ",
        "outputId": "e3bce76a-cab6-4251-9ed8-90be08e5407e"
      },
      "outputs": [
        {
          "output_type": "stream",
          "name": "stdout",
          "text": [
            "Epoch 1/20\n",
            "38/38 [==============================] - ETA: 0s - loss: 1.9650 - f1_score: 0.1679\n",
            "Epoch 00001: val_f1_score improved from -inf to 0.24332, saving model to /content/drive/MyDrive/ P8_kaggle_competition/Best_basemodel_mobilenetV2.h5\n"
          ]
        },
        {
          "output_type": "stream",
          "name": "stderr",
          "text": [
            "/usr/local/lib/python3.7/dist-packages/keras/engine/functional.py:1410: CustomMaskWarning: Custom mask layers require a config and must override get_config. When loading, the custom mask layer must be passed to the custom_objects argument.\n",
            "  layer_config = serialize_layer_fn(layer)\n"
          ]
        },
        {
          "output_type": "stream",
          "name": "stdout",
          "text": [
            "\b\b\b\b\b\b\b\b\b\b\b\b\b\b\b\b\b\b\b\b\b\b\b\b\b\b\b\b\b\b\b\b\b\b\b\b\b\b\b\b\b\b\b\b\b\b\b\b\b\b\b\b\b\b\b\b\b\b\b\b\b\b\b\b\b\b\b\b\b\b\b\b\b\b\b\b\b\b\b\b\b\b\r38/38 [==============================] - 211s 6s/step - loss: 1.9650 - f1_score: 0.1679 - val_loss: 1.5585 - val_f1_score: 0.2433\n",
            "Epoch 2/20\n",
            "38/38 [==============================] - ETA: 0s - loss: 1.5900 - f1_score: 0.2114\n",
            "Epoch 00002: val_f1_score did not improve from 0.24332\n",
            "38/38 [==============================] - 199s 5s/step - loss: 1.5900 - f1_score: 0.2114 - val_loss: 1.4273 - val_f1_score: 0.2422\n",
            "Epoch 3/20\n",
            "38/38 [==============================] - ETA: 0s - loss: 1.4536 - f1_score: 0.2416\n",
            "Epoch 00003: val_f1_score improved from 0.24332 to 0.26448, saving model to /content/drive/MyDrive/ P8_kaggle_competition/Best_basemodel_mobilenetV2.h5\n",
            "38/38 [==============================] - 201s 5s/step - loss: 1.4536 - f1_score: 0.2416 - val_loss: 1.3100 - val_f1_score: 0.2645\n",
            "Epoch 4/20\n",
            "38/38 [==============================] - ETA: 0s - loss: 1.3697 - f1_score: 0.2572\n",
            "Epoch 00004: val_f1_score did not improve from 0.26448\n",
            "38/38 [==============================] - 200s 5s/step - loss: 1.3697 - f1_score: 0.2572 - val_loss: 1.3716 - val_f1_score: 0.2557\n",
            "Epoch 5/20\n",
            "38/38 [==============================] - ETA: 0s - loss: 1.4069 - f1_score: 0.2463\n",
            "Epoch 00005: val_f1_score did not improve from 0.26448\n",
            "38/38 [==============================] - 201s 5s/step - loss: 1.4069 - f1_score: 0.2463 - val_loss: 1.2773 - val_f1_score: 0.2640\n",
            "Epoch 6/20\n",
            "38/38 [==============================] - ETA: 0s - loss: 1.3702 - f1_score: 0.2644\n",
            "Epoch 00006: val_f1_score did not improve from 0.26448\n",
            "38/38 [==============================] - 197s 5s/step - loss: 1.3702 - f1_score: 0.2644 - val_loss: 1.3248 - val_f1_score: 0.2527\n",
            "Epoch 7/20\n",
            "38/38 [==============================] - ETA: 0s - loss: 1.3199 - f1_score: 0.2769\n",
            "Epoch 00007: val_f1_score did not improve from 0.26448\n",
            "38/38 [==============================] - 199s 5s/step - loss: 1.3199 - f1_score: 0.2769 - val_loss: 1.4292 - val_f1_score: 0.2465\n",
            "Epoch 8/20\n",
            "38/38 [==============================] - ETA: 0s - loss: 1.3185 - f1_score: 0.2826\n",
            "Epoch 00008: val_f1_score improved from 0.26448 to 0.27709, saving model to /content/drive/MyDrive/ P8_kaggle_competition/Best_basemodel_mobilenetV2.h5\n",
            "38/38 [==============================] - 200s 5s/step - loss: 1.3185 - f1_score: 0.2826 - val_loss: 1.2737 - val_f1_score: 0.2771\n",
            "Epoch 9/20\n",
            "38/38 [==============================] - ETA: 0s - loss: 1.3030 - f1_score: 0.2981\n",
            "Epoch 00009: val_f1_score did not improve from 0.27709\n",
            "38/38 [==============================] - 200s 5s/step - loss: 1.3030 - f1_score: 0.2981 - val_loss: 1.3198 - val_f1_score: 0.2677\n",
            "Epoch 10/20\n",
            "38/38 [==============================] - ETA: 0s - loss: 1.2683 - f1_score: 0.2795\n",
            "Epoch 00010: val_f1_score did not improve from 0.27709\n",
            "38/38 [==============================] - 200s 5s/step - loss: 1.2683 - f1_score: 0.2795 - val_loss: 1.3815 - val_f1_score: 0.2630\n",
            "Epoch 11/20\n",
            "38/38 [==============================] - ETA: 0s - loss: 1.2374 - f1_score: 0.2813\n",
            "Epoch 00011: val_f1_score did not improve from 0.27709\n",
            "38/38 [==============================] - 198s 5s/step - loss: 1.2374 - f1_score: 0.2813 - val_loss: 1.3632 - val_f1_score: 0.2564\n",
            "Epoch 12/20\n",
            "38/38 [==============================] - ETA: 0s - loss: 1.2821 - f1_score: 0.2823\n",
            "Epoch 00012: val_f1_score improved from 0.27709 to 0.30957, saving model to /content/drive/MyDrive/ P8_kaggle_competition/Best_basemodel_mobilenetV2.h5\n",
            "38/38 [==============================] - 201s 5s/step - loss: 1.2821 - f1_score: 0.2823 - val_loss: 1.2613 - val_f1_score: 0.3096\n",
            "Epoch 13/20\n",
            "38/38 [==============================] - ETA: 0s - loss: 1.2375 - f1_score: 0.2842\n",
            "Epoch 00013: val_f1_score did not improve from 0.30957\n",
            "38/38 [==============================] - 199s 5s/step - loss: 1.2375 - f1_score: 0.2842 - val_loss: 1.2685 - val_f1_score: 0.2687\n",
            "Epoch 14/20\n",
            "38/38 [==============================] - ETA: 0s - loss: 1.2594 - f1_score: 0.3086\n",
            "Epoch 00014: val_f1_score did not improve from 0.30957\n",
            "38/38 [==============================] - 200s 5s/step - loss: 1.2594 - f1_score: 0.3086 - val_loss: 1.3533 - val_f1_score: 0.2514\n",
            "Epoch 15/20\n",
            "38/38 [==============================] - ETA: 0s - loss: 1.1655 - f1_score: 0.3093\n",
            "Epoch 00015: val_f1_score did not improve from 0.30957\n",
            "38/38 [==============================] - 198s 5s/step - loss: 1.1655 - f1_score: 0.3093 - val_loss: 1.3033 - val_f1_score: 0.2791\n",
            "Epoch 16/20\n",
            "38/38 [==============================] - ETA: 0s - loss: 1.2729 - f1_score: 0.3007\n",
            "Epoch 00016: val_f1_score did not improve from 0.30957\n",
            "38/38 [==============================] - 201s 5s/step - loss: 1.2729 - f1_score: 0.3007 - val_loss: 1.1786 - val_f1_score: 0.2948\n",
            "Epoch 17/20\n",
            "38/38 [==============================] - ETA: 0s - loss: 1.1978 - f1_score: 0.2925\n",
            "Epoch 00017: val_f1_score did not improve from 0.30957\n",
            "Restoring model weights from the end of the best epoch: 12.\n",
            "38/38 [==============================] - 198s 5s/step - loss: 1.1978 - f1_score: 0.2925 - val_loss: 1.2391 - val_f1_score: 0.2918\n",
            "Epoch 00017: early stopping\n",
            "Done in 3420.670s.\n"
          ]
        }
      ],
      "source": [
        "t0 = time()\n",
        "\n",
        "epochs = 20\n",
        "\n",
        "model_history= model.fit(train_ds,validation_data=val_ds,\n",
        "                         steps_per_epoch=train_ds.samples//128,\n",
        "                                 validation_steps=val_ds.samples//128,\n",
        "                                 epochs= epochs,\n",
        "                                 callbacks=callbacks)\n",
        "\n",
        "\n",
        "print(\"Done in %0.3fs.\" % (time() - t0))"
      ]
    },
    {
      "cell_type": "code",
      "execution_count": null,
      "metadata": {
        "colab": {
          "base_uri": "https://localhost:8080/",
          "height": 513
        },
        "id": "dal2BvcqENJ2",
        "outputId": "87d62739-fa4e-4277-d270-5e93aa974ee1"
      },
      "outputs": [
        {
          "output_type": "display_data",
          "data": {
            "image/png": "[encoded data removed]",
            "text/plain": [
              "<Figure size 576x576 with 2 Axes>"
            ]
          },
          "metadata": {
            "needs_background": "light"
          }
        }
      ],
      "source": [
        "acc = model_history.history['f1_score']\n",
        "val_acc = model_history.history['val_f1_score']\n",
        "\n",
        "loss = model_history.history['loss']\n",
        "val_loss = model_history.history['val_loss']\n",
        "\n",
        "plt.figure(figsize=(8, 8))\n",
        "plt.subplot(2, 1, 1)\n",
        "plt.plot(acc, label='Training Accuracy')\n",
        "plt.plot(val_acc, label='Validation Accuracy')\n",
        "plt.legend(loc='upper right')\n",
        "plt.ylabel('Accuracy')\n",
        "plt.ylim([min(plt.ylim()),1])\n",
        "plt.title('Training and Validation Accuracy')\n",
        "\n",
        "plt.subplot(2, 1, 2)\n",
        "plt.plot(loss, label='Training Loss')\n",
        "plt.plot(val_loss, label='Validation Loss')\n",
        "plt.legend(loc='lower right')\n",
        "plt.ylabel('Cross Entropy')\n",
        "plt.ylim([0,2.0])\n",
        "plt.title('Training and Validation Loss')\n",
        "plt.xlabel('epoch')\n",
        "plt.show()"
      ]
    },
    {
      "cell_type": "markdown",
      "metadata": {
        "id": "9yU3ZOYoXBMP"
      },
      "source": [
        "##Fine-tunning"
      ]
    },
    {
      "cell_type": "code",
      "execution_count": null,
      "metadata": {
        "id": "EGVx0gSwXGTB"
      },
      "outputs": [],
      "source": [
        "base_model.trainable = True"
      ]
    },
    {
      "cell_type": "code",
      "execution_count": null,
      "metadata": {
        "colab": {
          "base_uri": "https://localhost:8080/"
        },
        "id": "9gALSVz7XGWh",
        "outputId": "e1c04b9d-a6ae-4431-a9fa-e508a8a8b0c2"
      },
      "outputs": [
        {
          "output_type": "stream",
          "name": "stdout",
          "text": [
            "Number of layers in the base model:  154\n"
          ]
        }
      ],
      "source": [
        "print(\"Number of layers in the base model: \", len(base_model.layers))"
      ]
    },
    {
      "cell_type": "code",
      "execution_count": null,
      "metadata": {
        "id": "O9-4AULlXGbJ"
      },
      "outputs": [],
      "source": [
        "fine_tune_at = 100\n",
        "\n",
        "# Freeze all the layers before the 'fine_tune_at' layer\n",
        "for layer in base_model.layers[:fine_tune_at]:\n",
        "  layer.trainable =  False"
      ]
    },
    {
      "cell_type": "code",
      "execution_count": null,
      "metadata": {
        "id": "mf4Ozt3xXGeq"
      },
      "outputs": [],
      "source": [
        "file_path= '/content/drive/MyDrive/ P8_kaggle_competition/Best_model_mobilenetV2.h5'\n",
        "\n",
        "checkpoint=ModelCheckpoint(file_path,\n",
        "                          monitor=\"val_f1_score\",\n",
        "                          mode='max',\n",
        "                          save_best_only=True,\n",
        "                          verbose=1)\n",
        "earlystop=EarlyStopping(monitor=\"val_f1_score\",mode='max',\n",
        "                       patience=5,\n",
        "                       verbose=1,\n",
        "                       restore_best_weights=True)\n",
        "\n",
        "callbacks=[checkpoint,earlystop]"
      ]
    },
    {
      "cell_type": "code",
      "execution_count": null,
      "metadata": {
        "id": "KgtsjG1Hha4L"
      },
      "outputs": [],
      "source": [
        "# Compile the Model\n",
        "model.compile(optimizer=tf.keras.optimizers.Adam(learning_rate=0.001),\n",
        "    loss='categorical_crossentropy',\n",
        "    metrics = [tfa.metrics.F1Score(num_classes = 12,average = \"macro\",name = \"f1_score\")])"
      ]
    },
    {
      "cell_type": "code",
      "execution_count": null,
      "metadata": {
        "colab": {
          "base_uri": "https://localhost:8080/"
        },
        "id": "i6tAa7g-XGiz",
        "outputId": "013f1d9a-74a9-4087-ecfb-14ffb59594bf"
      },
      "outputs": [
        {
          "output_type": "stream",
          "name": "stdout",
          "text": [
            "Epoch 20/60\n",
            "38/38 [==============================] - ETA: 0s - loss: 1.5301 - f1_score: 0.2378\n",
            "Epoch 00020: val_f1_score improved from -inf to 0.07942, saving model to /content/drive/MyDrive/ P8_kaggle_competition/Best_model_mobilenetV2.h5\n"
          ]
        },
        {
          "output_type": "stream",
          "name": "stderr",
          "text": [
            "/usr/local/lib/python3.7/dist-packages/keras/engine/functional.py:1410: CustomMaskWarning: Custom mask layers require a config and must override get_config. When loading, the custom mask layer must be passed to the custom_objects argument.\n",
            "  layer_config = serialize_layer_fn(layer)\n"
          ]
        },
        {
          "output_type": "stream",
          "name": "stdout",
          "text": [
            "\b\b\b\b\b\b\b\b\b\b\b\b\b\b\b\b\b\b\b\b\b\b\b\b\b\b\b\b\b\b\b\b\b\b\b\b\b\b\b\b\b\b\b\b\b\b\b\b\b\b\b\b\b\b\b\b\b\b\b\b\b\b\b\b\b\b\b\b\b\b\b\b\b\b\b\b\b\b\b\b\b\b\r38/38 [==============================] - 211s 5s/step - loss: 1.5301 - f1_score: 0.2378 - val_loss: 9.6702 - val_f1_score: 0.0794\n",
            "Epoch 21/60\n",
            "38/38 [==============================] - ETA: 0s - loss: 1.2392 - f1_score: 0.2775\n",
            "Epoch 00021: val_f1_score improved from 0.07942 to 0.09944, saving model to /content/drive/MyDrive/ P8_kaggle_competition/Best_model_mobilenetV2.h5\n",
            "38/38 [==============================] - 202s 5s/step - loss: 1.2392 - f1_score: 0.2775 - val_loss: 9.9668 - val_f1_score: 0.0994\n",
            "Epoch 22/60\n",
            "38/38 [==============================] - ETA: 0s - loss: 1.1670 - f1_score: 0.3047\n",
            "Epoch 00022: val_f1_score did not improve from 0.09944\n",
            "38/38 [==============================] - 201s 5s/step - loss: 1.1670 - f1_score: 0.3047 - val_loss: 10.1744 - val_f1_score: 0.0830\n",
            "Epoch 23/60\n",
            "38/38 [==============================] - ETA: 0s - loss: 1.1101 - f1_score: 0.3169\n",
            "Epoch 00023: val_f1_score improved from 0.09944 to 0.19587, saving model to /content/drive/MyDrive/ P8_kaggle_competition/Best_model_mobilenetV2.h5\n",
            "38/38 [==============================] - 203s 5s/step - loss: 1.1101 - f1_score: 0.3169 - val_loss: 4.1852 - val_f1_score: 0.1959\n",
            "Epoch 24/60\n",
            "38/38 [==============================] - ETA: 0s - loss: 1.1046 - f1_score: 0.3242\n",
            "Epoch 00024: val_f1_score improved from 0.19587 to 0.25204, saving model to /content/drive/MyDrive/ P8_kaggle_competition/Best_model_mobilenetV2.h5\n",
            "38/38 [==============================] - 203s 5s/step - loss: 1.1046 - f1_score: 0.3242 - val_loss: 2.7391 - val_f1_score: 0.2520\n",
            "Epoch 25/60\n",
            "38/38 [==============================] - ETA: 0s - loss: 0.9691 - f1_score: 0.3505\n",
            "Epoch 00025: val_f1_score improved from 0.25204 to 0.28930, saving model to /content/drive/MyDrive/ P8_kaggle_competition/Best_model_mobilenetV2.h5\n",
            "38/38 [==============================] - 203s 5s/step - loss: 0.9691 - f1_score: 0.3505 - val_loss: 4.8331 - val_f1_score: 0.2893\n",
            "Epoch 26/60\n",
            "38/38 [==============================] - ETA: 0s - loss: 1.0526 - f1_score: 0.3201\n",
            "Epoch 00026: val_f1_score did not improve from 0.28930\n",
            "38/38 [==============================] - 200s 5s/step - loss: 1.0526 - f1_score: 0.3201 - val_loss: 9.7437 - val_f1_score: 0.1170\n",
            "Epoch 27/60\n",
            "38/38 [==============================] - ETA: 0s - loss: 0.9401 - f1_score: 0.3601\n",
            "Epoch 00027: val_f1_score did not improve from 0.28930\n",
            "38/38 [==============================] - 200s 5s/step - loss: 0.9401 - f1_score: 0.3601 - val_loss: 3.5769 - val_f1_score: 0.2437\n",
            "Epoch 28/60\n",
            "38/38 [==============================] - ETA: 0s - loss: 0.9380 - f1_score: 0.3479\n",
            "Epoch 00028: val_f1_score did not improve from 0.28930\n",
            "38/38 [==============================] - 198s 5s/step - loss: 0.9380 - f1_score: 0.3479 - val_loss: 3.4432 - val_f1_score: 0.2252\n",
            "Epoch 29/60\n",
            "38/38 [==============================] - ETA: 0s - loss: 0.9233 - f1_score: 0.3476\n",
            "Epoch 00029: val_f1_score did not improve from 0.28930\n",
            "38/38 [==============================] - 199s 5s/step - loss: 0.9233 - f1_score: 0.3476 - val_loss: 2.2864 - val_f1_score: 0.2800\n",
            "Epoch 30/60\n",
            "38/38 [==============================] - ETA: 0s - loss: 0.8979 - f1_score: 0.3613\n",
            "Epoch 00030: val_f1_score improved from 0.28930 to 0.31175, saving model to /content/drive/MyDrive/ P8_kaggle_competition/Best_model_mobilenetV2.h5\n",
            "38/38 [==============================] - 199s 5s/step - loss: 0.8979 - f1_score: 0.3613 - val_loss: 1.9041 - val_f1_score: 0.3117\n",
            "Epoch 31/60\n",
            "38/38 [==============================] - ETA: 0s - loss: 0.8653 - f1_score: 0.3782\n",
            "Epoch 00031: val_f1_score did not improve from 0.31175\n",
            "38/38 [==============================] - 199s 5s/step - loss: 0.8653 - f1_score: 0.3782 - val_loss: 2.5733 - val_f1_score: 0.2930\n",
            "Epoch 32/60\n",
            "38/38 [==============================] - ETA: 0s - loss: 0.8492 - f1_score: 0.3927\n",
            "Epoch 00032: val_f1_score did not improve from 0.31175\n",
            "38/38 [==============================] - 197s 5s/step - loss: 0.8492 - f1_score: 0.3927 - val_loss: 3.6171 - val_f1_score: 0.2687\n",
            "Epoch 33/60\n",
            "38/38 [==============================] - ETA: 0s - loss: 0.9120 - f1_score: 0.3726\n",
            "Epoch 00033: val_f1_score did not improve from 0.31175\n",
            "38/38 [==============================] - 202s 5s/step - loss: 0.9120 - f1_score: 0.3726 - val_loss: 3.0715 - val_f1_score: 0.3051\n",
            "Epoch 34/60\n",
            "38/38 [==============================] - ETA: 0s - loss: 0.8689 - f1_score: 0.3544\n",
            "Epoch 00034: val_f1_score improved from 0.31175 to 0.32976, saving model to /content/drive/MyDrive/ P8_kaggle_competition/Best_model_mobilenetV2.h5\n",
            "38/38 [==============================] - 203s 5s/step - loss: 0.8689 - f1_score: 0.3544 - val_loss: 2.5585 - val_f1_score: 0.3298\n",
            "Epoch 35/60\n",
            "38/38 [==============================] - ETA: 0s - loss: 0.8300 - f1_score: 0.3671\n",
            "Epoch 00035: val_f1_score did not improve from 0.32976\n",
            "38/38 [==============================] - 200s 5s/step - loss: 0.8300 - f1_score: 0.3671 - val_loss: 2.2035 - val_f1_score: 0.3260\n",
            "Epoch 36/60\n",
            "38/38 [==============================] - ETA: 0s - loss: 0.8078 - f1_score: 0.3676\n",
            "Epoch 00036: val_f1_score did not improve from 0.32976\n",
            "38/38 [==============================] - 202s 5s/step - loss: 0.8078 - f1_score: 0.3676 - val_loss: 2.9725 - val_f1_score: 0.2662\n",
            "Epoch 37/60\n",
            "38/38 [==============================] - ETA: 0s - loss: 0.7588 - f1_score: 0.4198\n",
            "Epoch 00037: val_f1_score did not improve from 0.32976\n",
            "38/38 [==============================] - 200s 5s/step - loss: 0.7588 - f1_score: 0.4198 - val_loss: 3.5995 - val_f1_score: 0.2393\n",
            "Epoch 38/60\n",
            "38/38 [==============================] - ETA: 0s - loss: 0.8492 - f1_score: 0.3921\n",
            "Epoch 00038: val_f1_score did not improve from 0.32976\n",
            "38/38 [==============================] - 200s 5s/step - loss: 0.8492 - f1_score: 0.3921 - val_loss: 3.7066 - val_f1_score: 0.2397\n",
            "Epoch 39/60\n",
            "38/38 [==============================] - ETA: 0s - loss: 0.7755 - f1_score: 0.3775\n",
            "Epoch 00039: val_f1_score did not improve from 0.32976\n",
            "Restoring model weights from the end of the best epoch: 34.\n",
            "38/38 [==============================] - 200s 5s/step - loss: 0.7755 - f1_score: 0.3775 - val_loss: 3.2022 - val_f1_score: 0.2470\n",
            "Epoch 00039: early stopping\n",
            "Done in 4278.142s.\n"
          ]
        }
      ],
      "source": [
        "t0 = time()\n",
        "\n",
        "fine_tune_epochs = 40\n",
        "total_epochs =  20 + fine_tune_epochs\n",
        "\n",
        "model_history_fine = model.fit(train_ds,validation_data=val_ds,\n",
        "                         steps_per_epoch=train_ds.samples//128,\n",
        "                                 validation_steps=val_ds.samples//128,\n",
        "                                 epochs= total_epochs,\n",
        "                         initial_epoch=19, #model_history.epoch[-1],\n",
        "                                 callbacks=callbacks)\n",
        "\n",
        "\n",
        "print(\"Done in %0.3fs.\" % (time() - t0))"
      ]
    },
    {
      "cell_type": "code",
      "execution_count": null,
      "metadata": {
        "colab": {
          "base_uri": "https://localhost:8080/",
          "height": 513
        },
        "id": "Ty0qoFjj8OzI",
        "outputId": "739fc758-9935-4ec9-f306-8ca7afc4a02c"
      },
      "outputs": [
        {
          "output_type": "display_data",
          "data": {
            "image/png": "[encoded data removed]",
            "text/plain": [
              "<Figure size 576x576 with 2 Axes>"
            ]
          },
          "metadata": {
            "needs_background": "light"
          }
        }
      ],
      "source": [
        "acc += model_history_fine.history['f1_score']\n",
        "val_acc += model_history_fine.history['val_f1_score']\n",
        "\n",
        "loss += model_history_fine.history['loss']\n",
        "val_loss += model_history_fine.history['val_loss']\n",
        "\n",
        "plt.figure(figsize=(8, 8))\n",
        "plt.subplot(2, 1, 1)\n",
        "plt.plot(acc, label='Training Accuracy')\n",
        "plt.plot(val_acc, label='Validation Accuracy')\n",
        "plt.legend(loc='upper right')\n",
        "plt.ylabel('Accuracy')\n",
        "plt.ylim([min(plt.ylim()),1])\n",
        "plt.title('Training and Validation Accuracy')\n",
        "\n",
        "plt.subplot(2, 1, 2)\n",
        "plt.plot(loss, label='Training Loss')\n",
        "plt.plot(val_loss, label='Validation Loss')\n",
        "plt.legend(loc='lower right')\n",
        "plt.ylabel('Cross Entropy')\n",
        "plt.ylim([0,3.0])\n",
        "plt.title('Training and Validation Loss')\n",
        "plt.xlabel('epoch')\n",
        "plt.show()"
      ]
    },
    {
      "cell_type": "markdown",
      "source": [
        "#Improove performances"
      ],
      "metadata": {
        "id": "K6RqT1S6z2FB"
      }
    },
    {
      "cell_type": "code",
      "source": [
        "from  tensorflow.keras.applications import InceptionV3"
      ],
      "metadata": {
        "id": "WVgrwnCHAuwP"
      },
      "execution_count": null,
      "outputs": []
    },
    {
      "cell_type": "code",
      "source": [
        "#initialise base model\n",
        "IMG_SHAPE = (124, 124, 3)\n",
        "\n",
        "base_model=  InceptionV3(\n",
        "    weights='imagenet',\n",
        "    input_shape= IMG_SHAPE,\n",
        "    include_top=False)"
      ],
      "metadata": {
        "colab": {
          "base_uri": "https://localhost:8080/"
        },
        "id": "Of8appWxA3-v",
        "outputId": "ea472cc4-2f4d-41ee-86bc-63eb98375c50"
      },
      "execution_count": null,
      "outputs": [
        {
          "output_type": "stream",
          "name": "stdout",
          "text": [
            "Downloading data from https://storage.googleapis.com/tensorflow/keras-applications/inception_v3/inception_v3_weights_tf_dim_ordering_tf_kernels_notop.h5\n",
            "87916544/87910968 [==============================] - 3s 0us/step\n",
            "87924736/87910968 [==============================] - 3s 0us/step\n"
          ]
        }
      ]
    },
    {
      "cell_type": "code",
      "source": [
        "base_model.trainable = True\n",
        "model = tf.keras.Sequential()\n",
        "model.add(base_model)\n",
        "model.add(tf.keras.layers.GlobalAveragePooling2D())\n",
        "model.add(tf.keras.layers.Dense(120, activation='relu',kernel_regularizer=keras.regularizers.l1(0.001)))\n",
        "model.add(tf.keras.layers.Dropout(0.2))\n",
        "model.add(tf.keras.layers.Dense(12,activation='sigmoid'))\n",
        "\n",
        "model.summary()"
      ],
      "metadata": {
        "colab": {
          "base_uri": "https://localhost:8080/"
        },
        "id": "ig8Wo2VVA5Lt",
        "outputId": "efaa3361-55b3-4dd9-b5bc-936ae671869c"
      },
      "execution_count": null,
      "outputs": [
        {
          "output_type": "stream",
          "name": "stdout",
          "text": [
            "Model: \"sequential\"\n",
            "_________________________________________________________________\n",
            " Layer (type)                Output Shape              Param #   \n",
            "=================================================================\n",
            " inception_v3 (Functional)   (None, 2, 2, 2048)        21802784  \n",
            "                                                                 \n",
            " flatten (Flatten)           (None, 8192)              0         \n",
            "                                                                 \n",
            " dense (Dense)               (None, 12)                98316     \n",
            "                                                                 \n",
            "=================================================================\n",
            "Total params: 21,901,100\n",
            "Trainable params: 21,866,668\n",
            "Non-trainable params: 34,432\n",
            "_________________________________________________________________\n"
          ]
        }
      ]
    },
    {
      "cell_type": "code",
      "source": [
        "base_model.trainable = True\n",
        "fine_tune_at = 200\n",
        "\n",
        "# Freeze all the layers before the 'fine_tune_at' layer\n",
        "for layer in base_model.layers[:fine_tune_at]:\n",
        "  layer.trainable =  False"
      ],
      "metadata": {
        "id": "tN7bOX7Y9btB"
      },
      "execution_count": null,
      "outputs": []
    },
    {
      "cell_type": "code",
      "source": [
        "file_path= '/content/drive/MyDrive/ P8_kaggle_competition/Best_model_changed.h5'\n",
        "\n",
        "checkpoint=ModelCheckpoint(file_path,\n",
        "                          monitor=\"val_f1_score\",\n",
        "                          mode='max',\n",
        "                          save_best_only=True,\n",
        "                          verbose=1)\n",
        "earlystop=EarlyStopping(monitor=\"val_f1_score\",mode='max',\n",
        "                       patience=10,\n",
        "                       verbose=1,\n",
        "                       restore_best_weights=True)\n",
        "\n",
        "callbacks=[checkpoint,earlystop]"
      ],
      "metadata": {
        "id": "PI6ILR0Mz0HN"
      },
      "execution_count": null,
      "outputs": []
    },
    {
      "cell_type": "code",
      "source": [
        "# Compile the Model\n",
        "model.compile(optimizer=tf.keras.optimizers.Adam(learning_rate=0.0001),\n",
        "    loss='categorical_crossentropy',\n",
        "    metrics = [tfa.metrics.F1Score(num_classes = 12,average = \"macro\",name = \"f1_score\")])"
      ],
      "metadata": {
        "id": "UzkrK5JB0a5_"
      },
      "execution_count": null,
      "outputs": []
    },
    {
      "cell_type": "markdown",
      "source": [
        "###dropout=0.5"
      ],
      "metadata": {
        "id": "9zBeeuVD0ZNC"
      }
    },
    {
      "cell_type": "code",
      "source": [
        "base_model.trainable = False\n",
        "model = tf.keras.Sequential()\n",
        "model.add(base_model)\n",
        "model.add(tf.keras.layers.GlobalAveragePooling2D())\n",
        "model.add(tf.keras.layers.Dense(320, activation='relu'))\n",
        "model.add(tf.keras.layers.Dropout(0.5))\n",
        "model.add(tf.keras.layers.Dense(12, activation='sigmoid'))\n",
        "# Compile the Model\n",
        "model.compile(optimizer=tf.keras.optimizers.Adam(learning_rate=0.001),\n",
        "    loss='categorical_crossentropy',\n",
        "    metrics = [tfa.metrics.F1Score(num_classes = 12,average = \"macro\",name = \"f1_score\")])"
      ],
      "metadata": {
        "id": "3wbc6nhu6Emj"
      },
      "execution_count": null,
      "outputs": []
    },
    {
      "cell_type": "code",
      "source": [
        "#drop_out=0.5\n",
        "t0 = time()\n",
        "\n",
        "epochs = 40\n",
        "\n",
        "model_history= model.fit(train_ds,validation_data=val_ds,\n",
        "                         steps_per_epoch=train_ds.samples//128,\n",
        "                                 validation_steps=val_ds.samples//128,\n",
        "                                 epochs= epochs,\n",
        "                                 callbacks=callbacks)\n",
        "\n",
        "\n",
        "print(\"Done in %0.3fs.\" % (time() - t0))"
      ],
      "metadata": {
        "colab": {
          "base_uri": "https://localhost:8080/"
        },
        "id": "4KMsUbYWBjLK",
        "outputId": "f832ed8b-1b63-416b-bf1d-aa6ac5624931"
      },
      "execution_count": null,
      "outputs": [
        {
          "output_type": "stream",
          "name": "stdout",
          "text": [
            "Epoch 1/40\n",
            "38/38 [==============================] - ETA: 0s - loss: 2.2551 - f1_score: 0.0928 \n",
            "Epoch 00001: val_f1_score improved from -inf to 0.09026, saving model to /content/drive/MyDrive/ P8_kaggle_competition/Best_model_changed.h5\n",
            "38/38 [==============================] - 571s 15s/step - loss: 2.2551 - f1_score: 0.0928 - val_loss: 2.2619 - val_f1_score: 0.0903\n",
            "Epoch 2/40\n",
            "38/38 [==============================] - ETA: 0s - loss: 1.8811 - f1_score: 0.1294 \n",
            "Epoch 00002: val_f1_score improved from 0.09026 to 0.17391, saving model to /content/drive/MyDrive/ P8_kaggle_competition/Best_model_changed.h5\n",
            "38/38 [==============================] - 512s 13s/step - loss: 1.8811 - f1_score: 0.1294 - val_loss: 1.9414 - val_f1_score: 0.1739\n",
            "Epoch 3/40\n",
            "38/38 [==============================] - ETA: 0s - loss: 1.7682 - f1_score: 0.1682\n",
            "Epoch 00003: val_f1_score improved from 0.17391 to 0.19806, saving model to /content/drive/MyDrive/ P8_kaggle_competition/Best_model_changed.h5\n",
            "38/38 [==============================] - 473s 12s/step - loss: 1.7682 - f1_score: 0.1682 - val_loss: 1.6347 - val_f1_score: 0.1981\n",
            "Epoch 4/40\n",
            "38/38 [==============================] - ETA: 0s - loss: 1.7032 - f1_score: 0.1825\n",
            "Epoch 00004: val_f1_score improved from 0.19806 to 0.24169, saving model to /content/drive/MyDrive/ P8_kaggle_competition/Best_model_changed.h5\n",
            "38/38 [==============================] - 428s 11s/step - loss: 1.7032 - f1_score: 0.1825 - val_loss: 1.4751 - val_f1_score: 0.2417\n",
            "Epoch 5/40\n",
            "38/38 [==============================] - ETA: 0s - loss: 1.5089 - f1_score: 0.2150\n",
            "Epoch 00005: val_f1_score did not improve from 0.24169\n",
            "38/38 [==============================] - 407s 11s/step - loss: 1.5089 - f1_score: 0.2150 - val_loss: 1.5179 - val_f1_score: 0.2391\n",
            "Epoch 6/40\n",
            "38/38 [==============================] - ETA: 0s - loss: 1.4763 - f1_score: 0.2193\n",
            "Epoch 00006: val_f1_score improved from 0.24169 to 0.25073, saving model to /content/drive/MyDrive/ P8_kaggle_competition/Best_model_changed.h5\n",
            "38/38 [==============================] - 398s 10s/step - loss: 1.4763 - f1_score: 0.2193 - val_loss: 1.4040 - val_f1_score: 0.2507\n",
            "Epoch 7/40\n",
            "38/38 [==============================] - ETA: 0s - loss: 1.4495 - f1_score: 0.2339\n",
            "Epoch 00007: val_f1_score improved from 0.25073 to 0.26264, saving model to /content/drive/MyDrive/ P8_kaggle_competition/Best_model_changed.h5\n",
            "38/38 [==============================] - 380s 10s/step - loss: 1.4495 - f1_score: 0.2339 - val_loss: 1.2874 - val_f1_score: 0.2626\n",
            "Epoch 8/40\n",
            "38/38 [==============================] - ETA: 0s - loss: 1.4476 - f1_score: 0.2428\n",
            "Epoch 00008: val_f1_score improved from 0.26264 to 0.27833, saving model to /content/drive/MyDrive/ P8_kaggle_competition/Best_model_changed.h5\n",
            "38/38 [==============================] - 379s 10s/step - loss: 1.4476 - f1_score: 0.2428 - val_loss: 1.2764 - val_f1_score: 0.2783\n",
            "Epoch 9/40\n",
            "38/38 [==============================] - ETA: 0s - loss: 1.3913 - f1_score: 0.2432\n",
            "Epoch 00009: val_f1_score did not improve from 0.27833\n",
            "38/38 [==============================] - 364s 10s/step - loss: 1.3913 - f1_score: 0.2432 - val_loss: 1.2747 - val_f1_score: 0.2518\n",
            "Epoch 10/40\n",
            "38/38 [==============================] - ETA: 0s - loss: 1.3321 - f1_score: 0.2605\n",
            "Epoch 00010: val_f1_score did not improve from 0.27833\n",
            "38/38 [==============================] - 359s 9s/step - loss: 1.3321 - f1_score: 0.2605 - val_loss: 1.3777 - val_f1_score: 0.2598\n",
            "Epoch 11/40\n",
            "38/38 [==============================] - ETA: 0s - loss: 1.3731 - f1_score: 0.2482\n",
            "Epoch 00011: val_f1_score did not improve from 0.27833\n",
            "38/38 [==============================] - 360s 9s/step - loss: 1.3731 - f1_score: 0.2482 - val_loss: 1.2751 - val_f1_score: 0.2680\n",
            "Epoch 12/40\n",
            "38/38 [==============================] - ETA: 0s - loss: 1.2657 - f1_score: 0.2952\n",
            "Epoch 00012: val_f1_score improved from 0.27833 to 0.30362, saving model to /content/drive/MyDrive/ P8_kaggle_competition/Best_model_changed.h5\n",
            "38/38 [==============================] - 351s 9s/step - loss: 1.2657 - f1_score: 0.2952 - val_loss: 1.1208 - val_f1_score: 0.3036\n",
            "Epoch 13/40\n",
            "38/38 [==============================] - ETA: 0s - loss: 1.2984 - f1_score: 0.2768\n",
            "Epoch 00013: val_f1_score did not improve from 0.30362\n",
            "38/38 [==============================] - 357s 9s/step - loss: 1.2984 - f1_score: 0.2768 - val_loss: 1.2637 - val_f1_score: 0.2829\n",
            "Epoch 14/40\n",
            "38/38 [==============================] - ETA: 0s - loss: 1.3407 - f1_score: 0.2782\n",
            "Epoch 00014: val_f1_score did not improve from 0.30362\n",
            "38/38 [==============================] - 349s 9s/step - loss: 1.3407 - f1_score: 0.2782 - val_loss: 1.2169 - val_f1_score: 0.3034\n",
            "Epoch 15/40\n",
            "38/38 [==============================] - ETA: 0s - loss: 1.2495 - f1_score: 0.2801\n",
            "Epoch 00015: val_f1_score did not improve from 0.30362\n",
            "38/38 [==============================] - 338s 9s/step - loss: 1.2495 - f1_score: 0.2801 - val_loss: 1.1327 - val_f1_score: 0.2823\n",
            "Epoch 16/40\n",
            "38/38 [==============================] - ETA: 0s - loss: 1.2737 - f1_score: 0.2804\n",
            "Epoch 00016: val_f1_score did not improve from 0.30362\n",
            "38/38 [==============================] - 340s 9s/step - loss: 1.2737 - f1_score: 0.2804 - val_loss: 1.0555 - val_f1_score: 0.2916\n",
            "Epoch 17/40\n",
            "38/38 [==============================] - ETA: 0s - loss: 1.2063 - f1_score: 0.2977\n",
            "Epoch 00017: val_f1_score did not improve from 0.30362\n",
            "Restoring model weights from the end of the best epoch: 12.\n",
            "38/38 [==============================] - 336s 9s/step - loss: 1.2063 - f1_score: 0.2977 - val_loss: 1.2364 - val_f1_score: 0.2710\n",
            "Epoch 00017: early stopping\n",
            "Done in 6960.606s.\n"
          ]
        }
      ]
    },
    {
      "cell_type": "code",
      "source": [
        "acc = model_history.history['f1_score']\n",
        "val_acc = model_history.history['val_f1_score']\n",
        "\n",
        "loss = model_history.history['loss']\n",
        "val_loss = model_history.history['val_loss']\n",
        "\n",
        "plt.figure(figsize=(8, 8))\n",
        "plt.subplot(2, 1, 1)\n",
        "plt.plot(acc, label='Training Accuracy')\n",
        "plt.plot(val_acc, label='Validation Accuracy')\n",
        "plt.legend(loc='upper right')\n",
        "plt.ylabel('Accuracy')\n",
        "plt.ylim([min(plt.ylim()),1])\n",
        "plt.title('Training and Validation Accuracy')\n",
        "\n",
        "plt.subplot(2, 1, 2)\n",
        "plt.plot(loss, label='Training Loss')\n",
        "plt.plot(val_loss, label='Validation Loss')\n",
        "plt.legend(loc='lower right')\n",
        "plt.ylabel('Cross Entropy')\n",
        "plt.ylim([0,2.0])\n",
        "plt.title('Training and Validation Loss')\n",
        "plt.xlabel('epoch')\n",
        "plt.show()"
      ],
      "metadata": {
        "colab": {
          "base_uri": "https://localhost:8080/",
          "height": 513
        },
        "id": "0FsEVtvSoRp_",
        "outputId": "cc4204d8-279b-4877-a20a-78bef18ca264"
      },
      "execution_count": null,
      "outputs": [
        {
          "output_type": "display_data",
          "data": {
            "image/png": "[encoded data removed]",
            "text/plain": [
              "<Figure size 576x576 with 2 Axes>"
            ]
          },
          "metadata": {
            "needs_background": "light"
          }
        }
      ]
    },
    {
      "cell_type": "markdown",
      "source": [
        "##No dropout"
      ],
      "metadata": {
        "id": "1ZZu2ILl0gXl"
      }
    },
    {
      "cell_type": "code",
      "source": [
        "base_model.trainable = False\n",
        "model = tf.keras.Sequential()\n",
        "model.add(base_model)\n",
        "model.add(tf.keras.layers.GlobalAveragePooling2D())\n",
        "model.add(tf.keras.layers.Dense(320, activation='relu'))\n",
        "model.add(tf.keras.layers.Dense(12, activation='sigmoid'))\n",
        "# Compile the Model\n",
        "model.compile(optimizer=tf.keras.optimizers.Adam(learning_rate=0.001),\n",
        "    loss='categorical_crossentropy',\n",
        "    metrics = [tfa.metrics.F1Score(num_classes = 12,average = \"macro\",name = \"f1_score\")])"
      ],
      "metadata": {
        "id": "0C_81_nl6J4O"
      },
      "execution_count": null,
      "outputs": []
    },
    {
      "cell_type": "code",
      "source": [
        "#No drop out\n",
        "t0 = time()\n",
        "\n",
        "epochs = 40\n",
        "\n",
        "model_history= model.fit(train_ds,validation_data=val_ds,\n",
        "                         steps_per_epoch=train_ds.samples//128,\n",
        "                                 validation_steps=val_ds.samples//128,\n",
        "                                 epochs= epochs,\n",
        "                                 callbacks=callbacks)\n",
        "\n",
        "\n",
        "print(\"Done in %0.3fs.\" % (time() - t0))"
      ],
      "metadata": {
        "colab": {
          "base_uri": "https://localhost:8080/"
        },
        "id": "Kl2EV3Xfpwqd",
        "outputId": "fdecfe21-9f5e-4396-9c6a-b582f8082e05"
      },
      "execution_count": null,
      "outputs": [
        {
          "output_type": "stream",
          "name": "stdout",
          "text": [
            "Epoch 1/40\n",
            "38/38 [==============================] - ETA: 0s - loss: 1.3520 - f1_score: 0.2468\n",
            "Epoch 00001: val_f1_score improved from -inf to 0.26561, saving model to /content/drive/MyDrive/ P8_kaggle_competition/Best_model_changed.h5\n",
            "38/38 [==============================] - 350s 9s/step - loss: 1.3520 - f1_score: 0.2468 - val_loss: 1.1936 - val_f1_score: 0.2656\n",
            "Epoch 2/40\n",
            "38/38 [==============================] - ETA: 0s - loss: 1.3039 - f1_score: 0.2612\n",
            "Epoch 00002: val_f1_score did not improve from 0.26561\n",
            "38/38 [==============================] - 340s 9s/step - loss: 1.3039 - f1_score: 0.2612 - val_loss: 1.3050 - val_f1_score: 0.2623\n",
            "Epoch 3/40\n",
            "38/38 [==============================] - ETA: 0s - loss: 1.2288 - f1_score: 0.2743\n",
            "Epoch 00003: val_f1_score did not improve from 0.26561\n",
            "38/38 [==============================] - 340s 9s/step - loss: 1.2288 - f1_score: 0.2743 - val_loss: 1.2977 - val_f1_score: 0.2456\n",
            "Epoch 4/40\n",
            "38/38 [==============================] - ETA: 0s - loss: 1.1681 - f1_score: 0.2926\n",
            "Epoch 00004: val_f1_score improved from 0.26561 to 0.26583, saving model to /content/drive/MyDrive/ P8_kaggle_competition/Best_model_changed.h5\n",
            "38/38 [==============================] - 340s 9s/step - loss: 1.1681 - f1_score: 0.2926 - val_loss: 1.2970 - val_f1_score: 0.2658\n",
            "Epoch 5/40\n",
            "38/38 [==============================] - ETA: 0s - loss: 1.1504 - f1_score: 0.3016\n",
            "Epoch 00005: val_f1_score improved from 0.26583 to 0.28113, saving model to /content/drive/MyDrive/ P8_kaggle_competition/Best_model_changed.h5\n",
            "38/38 [==============================] - 340s 9s/step - loss: 1.1504 - f1_score: 0.3016 - val_loss: 1.2422 - val_f1_score: 0.2811\n",
            "Epoch 6/40\n",
            "38/38 [==============================] - ETA: 0s - loss: 1.1553 - f1_score: 0.3163\n",
            "Epoch 00006: val_f1_score improved from 0.28113 to 0.29544, saving model to /content/drive/MyDrive/ P8_kaggle_competition/Best_model_changed.h5\n",
            "38/38 [==============================] - 333s 9s/step - loss: 1.1553 - f1_score: 0.3163 - val_loss: 1.2327 - val_f1_score: 0.2954\n",
            "Epoch 7/40\n",
            "38/38 [==============================] - ETA: 0s - loss: 1.1917 - f1_score: 0.3144\n",
            "Epoch 00007: val_f1_score improved from 0.29544 to 0.30128, saving model to /content/drive/MyDrive/ P8_kaggle_competition/Best_model_changed.h5\n",
            "38/38 [==============================] - 340s 9s/step - loss: 1.1917 - f1_score: 0.3144 - val_loss: 1.1737 - val_f1_score: 0.3013\n",
            "Epoch 8/40\n",
            "38/38 [==============================] - ETA: 0s - loss: 1.1505 - f1_score: 0.3128\n",
            "Epoch 00008: val_f1_score did not improve from 0.30128\n",
            "38/38 [==============================] - 336s 9s/step - loss: 1.1505 - f1_score: 0.3128 - val_loss: 1.1902 - val_f1_score: 0.2912\n",
            "Epoch 9/40\n",
            "38/38 [==============================] - ETA: 0s - loss: 1.0513 - f1_score: 0.3181\n",
            "Epoch 00009: val_f1_score did not improve from 0.30128\n",
            "38/38 [==============================] - 331s 9s/step - loss: 1.0513 - f1_score: 0.3181 - val_loss: 1.2459 - val_f1_score: 0.2868\n",
            "Epoch 10/40\n",
            "38/38 [==============================] - ETA: 0s - loss: 1.0879 - f1_score: 0.3210\n",
            "Epoch 00010: val_f1_score improved from 0.30128 to 0.30792, saving model to /content/drive/MyDrive/ P8_kaggle_competition/Best_model_changed.h5\n",
            "38/38 [==============================] - 341s 9s/step - loss: 1.0879 - f1_score: 0.3210 - val_loss: 1.2015 - val_f1_score: 0.3079\n",
            "Epoch 11/40\n",
            "38/38 [==============================] - ETA: 0s - loss: 1.0671 - f1_score: 0.3455\n",
            "Epoch 00011: val_f1_score improved from 0.30792 to 0.31841, saving model to /content/drive/MyDrive/ P8_kaggle_competition/Best_model_changed.h5\n",
            "38/38 [==============================] - 331s 9s/step - loss: 1.0671 - f1_score: 0.3455 - val_loss: 1.0723 - val_f1_score: 0.3184\n",
            "Epoch 12/40\n",
            "38/38 [==============================] - ETA: 0s - loss: 0.9958 - f1_score: 0.3356\n",
            "Epoch 00012: val_f1_score did not improve from 0.31841\n",
            "38/38 [==============================] - 339s 9s/step - loss: 0.9958 - f1_score: 0.3356 - val_loss: 1.1164 - val_f1_score: 0.3035\n",
            "Epoch 13/40\n",
            "38/38 [==============================] - ETA: 0s - loss: 1.0264 - f1_score: 0.3743\n",
            "Epoch 00013: val_f1_score did not improve from 0.31841\n",
            "38/38 [==============================] - 333s 9s/step - loss: 1.0264 - f1_score: 0.3743 - val_loss: 1.1423 - val_f1_score: 0.3097\n",
            "Epoch 14/40\n",
            "38/38 [==============================] - ETA: 0s - loss: 0.9951 - f1_score: 0.3789\n",
            "Epoch 00014: val_f1_score improved from 0.31841 to 0.33768, saving model to /content/drive/MyDrive/ P8_kaggle_competition/Best_model_changed.h5\n",
            "38/38 [==============================] - 339s 9s/step - loss: 0.9951 - f1_score: 0.3789 - val_loss: 0.8848 - val_f1_score: 0.3377\n",
            "Epoch 15/40\n",
            "38/38 [==============================] - ETA: 0s - loss: 0.9792 - f1_score: 0.4105\n",
            "Epoch 00015: val_f1_score did not improve from 0.33768\n",
            "38/38 [==============================] - 335s 9s/step - loss: 0.9792 - f1_score: 0.4105 - val_loss: 1.0762 - val_f1_score: 0.3035\n",
            "Epoch 16/40\n",
            "38/38 [==============================] - ETA: 0s - loss: 0.9916 - f1_score: 0.3340\n",
            "Epoch 00016: val_f1_score did not improve from 0.33768\n",
            "38/38 [==============================] - 333s 9s/step - loss: 0.9916 - f1_score: 0.3340 - val_loss: 1.0419 - val_f1_score: 0.3272\n",
            "Epoch 17/40\n",
            "38/38 [==============================] - ETA: 0s - loss: 0.9305 - f1_score: 0.4004\n",
            "Epoch 00017: val_f1_score did not improve from 0.33768\n",
            "38/38 [==============================] - 340s 9s/step - loss: 0.9305 - f1_score: 0.4004 - val_loss: 1.0776 - val_f1_score: 0.2985\n",
            "Epoch 18/40\n",
            "38/38 [==============================] - ETA: 0s - loss: 0.9412 - f1_score: 0.3368\n",
            "Epoch 00018: val_f1_score did not improve from 0.33768\n",
            "38/38 [==============================] - 335s 9s/step - loss: 0.9412 - f1_score: 0.3368 - val_loss: 1.1614 - val_f1_score: 0.3087\n",
            "Epoch 19/40\n",
            "38/38 [==============================] - ETA: 0s - loss: 0.9667 - f1_score: 0.3609\n",
            "Epoch 00019: val_f1_score did not improve from 0.33768\n",
            "Restoring model weights from the end of the best epoch: 14.\n",
            "38/38 [==============================] - 336s 9s/step - loss: 0.9667 - f1_score: 0.3609 - val_loss: 1.0722 - val_f1_score: 0.3282\n",
            "Epoch 00019: early stopping\n",
            "Done in 6902.974s.\n"
          ]
        }
      ]
    },
    {
      "cell_type": "code",
      "source": [
        "acc = model_history.history['f1_score']\n",
        "val_acc = model_history.history['val_f1_score']\n",
        "\n",
        "loss = model_history.history['loss']\n",
        "val_loss = model_history.history['val_loss']\n",
        "\n",
        "plt.figure(figsize=(8, 8))\n",
        "plt.subplot(2, 1, 1)\n",
        "plt.plot(acc, label='Training Accuracy')\n",
        "plt.plot(val_acc, label='Validation Accuracy')\n",
        "plt.legend(loc='upper right')\n",
        "plt.ylabel('Accuracy')\n",
        "plt.ylim([min(plt.ylim()),1])\n",
        "plt.title('Training and Validation Accuracy')\n",
        "\n",
        "plt.subplot(2, 1, 2)\n",
        "plt.plot(loss, label='Training Loss')\n",
        "plt.plot(val_loss, label='Validation Loss')\n",
        "plt.legend(loc='lower right')\n",
        "plt.ylabel('Cross Entropy')\n",
        "plt.ylim([0,2.0])\n",
        "plt.title('Training and Validation Loss')\n",
        "plt.xlabel('epoch')\n",
        "plt.show()"
      ],
      "metadata": {
        "colab": {
          "base_uri": "https://localhost:8080/",
          "height": 513
        },
        "id": "cjSJ_DkNp2mY",
        "outputId": "ac8b41d1-bb63-4189-c1cc-86c12c161286"
      },
      "execution_count": null,
      "outputs": [
        {
          "output_type": "display_data",
          "data": {
            "image/png": "[encoded data removed]",
            "text/plain": [
              "<Figure size 576x576 with 2 Axes>"
            ]
          },
          "metadata": {
            "needs_background": "light"
          }
        }
      ]
    },
    {
      "cell_type": "markdown",
      "source": [
        "##No dense layer no dropout with flaten"
      ],
      "metadata": {
        "id": "yRlsgt-20ly0"
      }
    },
    {
      "cell_type": "code",
      "source": [
        "base_model.trainable = False\n",
        "model = tf.keras.Sequential()\n",
        "model.add(base_model)\n",
        "model.add(tf.keras.layers.GlobalAveragePooling2D())\n",
        "model.add(Flatten())\n",
        "model.add(tf.keras.layers.Dense(12, activation='sigmoid'))\n",
        "# Compile the Model\n",
        "model.compile(optimizer=tf.keras.optimizers.Adam(learning_rate=0.001),\n",
        "    loss='categorical_crossentropy',\n",
        "    metrics = [tfa.metrics.F1Score(num_classes = 12,average = \"macro\",name = \"f1_score\")])"
      ],
      "metadata": {
        "id": "THRZUPxX6R56"
      },
      "execution_count": null,
      "outputs": []
    },
    {
      "cell_type": "code",
      "source": [
        "#No dense layer no dropout with flaten\n",
        "t0 = time()\n",
        "\n",
        "epochs = 40\n",
        "\n",
        "model_history= model.fit(train_ds,validation_data=val_ds,\n",
        "                         steps_per_epoch=train_ds.samples//128,\n",
        "                                 validation_steps=val_ds.samples//128,\n",
        "                                 epochs= epochs,\n",
        "                                 callbacks=callbacks)\n",
        "\n",
        "\n",
        "print(\"Done in %0.3fs.\" % (time() - t0))"
      ],
      "metadata": {
        "colab": {
          "base_uri": "https://localhost:8080/"
        },
        "id": "ECXOAUqA3woS",
        "outputId": "56df537a-3266-47cd-f298-fa6a95b67227"
      },
      "execution_count": null,
      "outputs": [
        {
          "output_type": "stream",
          "name": "stdout",
          "text": [
            "Epoch 1/40\n",
            "38/38 [==============================] - ETA: 0s - loss: 2.0944 - f1_score: 0.1139 \n",
            "Epoch 00001: val_f1_score improved from -inf to 0.17948, saving model to /content/drive/MyDrive/ P8_kaggle_competition/Best_model_changed.h5\n",
            "38/38 [==============================] - 745s 19s/step - loss: 2.0944 - f1_score: 0.1139 - val_loss: 2.0004 - val_f1_score: 0.1795\n",
            "Epoch 2/40\n",
            "38/38 [==============================] - ETA: 0s - loss: 1.6862 - f1_score: 0.1799 \n",
            "Epoch 00002: val_f1_score improved from 0.17948 to 0.18350, saving model to /content/drive/MyDrive/ P8_kaggle_competition/Best_model_changed.h5\n",
            "38/38 [==============================] - 603s 16s/step - loss: 1.6862 - f1_score: 0.1799 - val_loss: 1.7848 - val_f1_score: 0.1835\n",
            "Epoch 3/40\n",
            "38/38 [==============================] - ETA: 0s - loss: 1.4787 - f1_score: 0.2132 \n",
            "Epoch 00003: val_f1_score improved from 0.18350 to 0.21716, saving model to /content/drive/MyDrive/ P8_kaggle_competition/Best_model_changed.h5\n",
            "38/38 [==============================] - 541s 14s/step - loss: 1.4787 - f1_score: 0.2132 - val_loss: 1.5432 - val_f1_score: 0.2172\n",
            "Epoch 4/40\n",
            "38/38 [==============================] - ETA: 0s - loss: 1.4111 - f1_score: 0.2498 \n",
            "Epoch 00004: val_f1_score improved from 0.21716 to 0.22146, saving model to /content/drive/MyDrive/ P8_kaggle_competition/Best_model_changed.h5\n",
            "38/38 [==============================] - 475s 12s/step - loss: 1.4111 - f1_score: 0.2498 - val_loss: 1.5121 - val_f1_score: 0.2215\n",
            "Epoch 5/40\n",
            "38/38 [==============================] - ETA: 0s - loss: 1.3344 - f1_score: 0.2610\n",
            "Epoch 00005: val_f1_score improved from 0.22146 to 0.25062, saving model to /content/drive/MyDrive/ P8_kaggle_competition/Best_model_changed.h5\n",
            "38/38 [==============================] - 430s 11s/step - loss: 1.3344 - f1_score: 0.2610 - val_loss: 1.3161 - val_f1_score: 0.2506\n",
            "Epoch 6/40\n",
            "38/38 [==============================] - ETA: 0s - loss: 1.2737 - f1_score: 0.2794\n",
            "Epoch 00006: val_f1_score did not improve from 0.25062\n",
            "38/38 [==============================] - 403s 11s/step - loss: 1.2737 - f1_score: 0.2794 - val_loss: 1.4976 - val_f1_score: 0.2458\n",
            "Epoch 7/40\n",
            "38/38 [==============================] - ETA: 0s - loss: 1.2616 - f1_score: 0.2967\n",
            "Epoch 00007: val_f1_score improved from 0.25062 to 0.25590, saving model to /content/drive/MyDrive/ P8_kaggle_competition/Best_model_changed.h5\n",
            "38/38 [==============================] - 386s 10s/step - loss: 1.2616 - f1_score: 0.2967 - val_loss: 1.3462 - val_f1_score: 0.2559\n",
            "Epoch 8/40\n",
            "38/38 [==============================] - ETA: 0s - loss: 1.1620 - f1_score: 0.2935\n",
            "Epoch 00008: val_f1_score improved from 0.25590 to 0.29081, saving model to /content/drive/MyDrive/ P8_kaggle_competition/Best_model_changed.h5\n",
            "38/38 [==============================] - 373s 10s/step - loss: 1.1620 - f1_score: 0.2935 - val_loss: 1.3376 - val_f1_score: 0.2908\n",
            "Epoch 9/40\n",
            "38/38 [==============================] - ETA: 0s - loss: 1.2499 - f1_score: 0.2931\n",
            "Epoch 00009: val_f1_score did not improve from 0.29081\n",
            "38/38 [==============================] - 363s 10s/step - loss: 1.2499 - f1_score: 0.2931 - val_loss: 1.2882 - val_f1_score: 0.2807\n",
            "Epoch 10/40\n",
            "38/38 [==============================] - ETA: 0s - loss: 1.2108 - f1_score: 0.2973\n",
            "Epoch 00010: val_f1_score improved from 0.29081 to 0.29232, saving model to /content/drive/MyDrive/ P8_kaggle_competition/Best_model_changed.h5\n",
            "38/38 [==============================] - 350s 9s/step - loss: 1.2108 - f1_score: 0.2973 - val_loss: 1.2277 - val_f1_score: 0.2923\n",
            "Epoch 11/40\n",
            "38/38 [==============================] - ETA: 0s - loss: 1.1276 - f1_score: 0.3194\n",
            "Epoch 00011: val_f1_score did not improve from 0.29232\n",
            "38/38 [==============================] - 343s 9s/step - loss: 1.1276 - f1_score: 0.3194 - val_loss: 1.2064 - val_f1_score: 0.2833\n",
            "Epoch 12/40\n",
            "38/38 [==============================] - ETA: 0s - loss: 1.1445 - f1_score: 0.3200\n",
            "Epoch 00012: val_f1_score improved from 0.29232 to 0.32935, saving model to /content/drive/MyDrive/ P8_kaggle_competition/Best_model_changed.h5\n",
            "38/38 [==============================] - 343s 9s/step - loss: 1.1445 - f1_score: 0.3200 - val_loss: 1.1332 - val_f1_score: 0.3293\n",
            "Epoch 13/40\n",
            "38/38 [==============================] - ETA: 0s - loss: 1.0886 - f1_score: 0.3339\n",
            "Epoch 00013: val_f1_score did not improve from 0.32935\n",
            "38/38 [==============================] - 337s 9s/step - loss: 1.0886 - f1_score: 0.3339 - val_loss: 1.2594 - val_f1_score: 0.2781\n",
            "Epoch 14/40\n",
            "38/38 [==============================] - ETA: 0s - loss: 1.0949 - f1_score: 0.3295\n",
            "Epoch 00014: val_f1_score did not improve from 0.32935\n",
            "38/38 [==============================] - 334s 9s/step - loss: 1.0949 - f1_score: 0.3295 - val_loss: 1.0934 - val_f1_score: 0.3196\n",
            "Epoch 15/40\n",
            "38/38 [==============================] - ETA: 0s - loss: 1.0961 - f1_score: 0.3240\n",
            "Epoch 00015: val_f1_score did not improve from 0.32935\n",
            "38/38 [==============================] - 333s 9s/step - loss: 1.0961 - f1_score: 0.3240 - val_loss: 1.2035 - val_f1_score: 0.3047\n",
            "Epoch 16/40\n",
            "38/38 [==============================] - ETA: 0s - loss: 1.0632 - f1_score: 0.3334\n",
            "Epoch 00016: val_f1_score improved from 0.32935 to 0.34466, saving model to /content/drive/MyDrive/ P8_kaggle_competition/Best_model_changed.h5\n",
            "38/38 [==============================] - 329s 9s/step - loss: 1.0632 - f1_score: 0.3334 - val_loss: 1.1472 - val_f1_score: 0.3447\n",
            "Epoch 17/40\n",
            "38/38 [==============================] - ETA: 0s - loss: 1.0649 - f1_score: 0.3325\n",
            "Epoch 00017: val_f1_score did not improve from 0.34466\n",
            "38/38 [==============================] - 325s 9s/step - loss: 1.0649 - f1_score: 0.3325 - val_loss: 1.1484 - val_f1_score: 0.2775\n",
            "Epoch 18/40\n",
            "38/38 [==============================] - ETA: 0s - loss: 0.9819 - f1_score: 0.4062\n",
            "Epoch 00018: val_f1_score did not improve from 0.34466\n",
            "38/38 [==============================] - 328s 9s/step - loss: 0.9819 - f1_score: 0.4062 - val_loss: 1.2783 - val_f1_score: 0.3106\n",
            "Epoch 19/40\n",
            "38/38 [==============================] - ETA: 0s - loss: 0.9942 - f1_score: 0.3575\n",
            "Epoch 00019: val_f1_score did not improve from 0.34466\n",
            "38/38 [==============================] - 327s 9s/step - loss: 0.9942 - f1_score: 0.3575 - val_loss: 1.1675 - val_f1_score: 0.3103\n",
            "Epoch 20/40\n",
            "38/38 [==============================] - ETA: 0s - loss: 0.9837 - f1_score: 0.4353\n",
            "Epoch 00020: val_f1_score did not improve from 0.34466\n",
            "38/38 [==============================] - 327s 9s/step - loss: 0.9837 - f1_score: 0.4353 - val_loss: 1.3296 - val_f1_score: 0.3204\n",
            "Epoch 21/40\n",
            "38/38 [==============================] - ETA: 0s - loss: 1.0249 - f1_score: 0.3335\n",
            "Epoch 00021: val_f1_score improved from 0.34466 to 0.34522, saving model to /content/drive/MyDrive/ P8_kaggle_competition/Best_model_changed.h5\n",
            "38/38 [==============================] - 333s 9s/step - loss: 1.0249 - f1_score: 0.3335 - val_loss: 1.0053 - val_f1_score: 0.3452\n",
            "Epoch 22/40\n",
            "38/38 [==============================] - ETA: 0s - loss: 0.9418 - f1_score: 0.4040\n",
            "Epoch 00022: val_f1_score did not improve from 0.34522\n",
            "38/38 [==============================] - 324s 9s/step - loss: 0.9418 - f1_score: 0.4040 - val_loss: 1.1709 - val_f1_score: 0.3233\n",
            "Epoch 23/40\n",
            "38/38 [==============================] - ETA: 0s - loss: 0.9615 - f1_score: 0.3643\n",
            "Epoch 00023: val_f1_score did not improve from 0.34522\n",
            "38/38 [==============================] - 322s 8s/step - loss: 0.9615 - f1_score: 0.3643 - val_loss: 1.2332 - val_f1_score: 0.2999\n",
            "Epoch 24/40\n",
            "38/38 [==============================] - ETA: 0s - loss: 0.9222 - f1_score: 0.3925\n",
            "Epoch 00024: val_f1_score did not improve from 0.34522\n",
            "38/38 [==============================] - 325s 9s/step - loss: 0.9222 - f1_score: 0.3925 - val_loss: 1.0185 - val_f1_score: 0.3345\n",
            "Epoch 25/40\n",
            "38/38 [==============================] - ETA: 0s - loss: 0.9722 - f1_score: 0.4131\n",
            "Epoch 00025: val_f1_score did not improve from 0.34522\n",
            "38/38 [==============================] - 324s 9s/step - loss: 0.9722 - f1_score: 0.4131 - val_loss: 1.2131 - val_f1_score: 0.2953\n",
            "Epoch 26/40\n",
            "38/38 [==============================] - ETA: 0s - loss: 0.9589 - f1_score: 0.4338\n",
            "Epoch 00026: val_f1_score did not improve from 0.34522\n",
            "Restoring model weights from the end of the best epoch: 21.\n",
            "38/38 [==============================] - 324s 9s/step - loss: 0.9589 - f1_score: 0.4338 - val_loss: 1.0827 - val_f1_score: 0.3243\n",
            "Epoch 00026: early stopping\n",
            "Done in 10451.688s.\n"
          ]
        }
      ]
    },
    {
      "cell_type": "code",
      "source": [
        "acc = model_history.history['f1_score']\n",
        "val_acc = model_history.history['val_f1_score']\n",
        "\n",
        "loss = model_history.history['loss']\n",
        "val_loss = model_history.history['val_loss']\n",
        "\n",
        "plt.figure(figsize=(8, 8))\n",
        "plt.subplot(2, 1, 1)\n",
        "plt.plot(acc, label='Training Accuracy')\n",
        "plt.plot(val_acc, label='Validation Accuracy')\n",
        "plt.legend(loc='upper right')\n",
        "plt.ylabel('Accuracy')\n",
        "plt.ylim([min(plt.ylim()),1])\n",
        "plt.title('Training and Validation Accuracy')\n",
        "\n",
        "plt.subplot(2, 1, 2)\n",
        "plt.plot(loss, label='Training Loss')\n",
        "plt.plot(val_loss, label='Validation Loss')\n",
        "plt.legend(loc='lower right')\n",
        "plt.ylabel('Cross Entropy')\n",
        "plt.ylim([0,2.0])\n",
        "plt.title('Training and Validation Loss')\n",
        "plt.xlabel('epoch')\n",
        "plt.show()"
      ],
      "metadata": {
        "colab": {
          "base_uri": "https://localhost:8080/",
          "height": 513
        },
        "id": "KVQb6A1q4DyK",
        "outputId": "12bf31c1-4945-4164-9c4a-fa37ce8d57ef"
      },
      "execution_count": null,
      "outputs": [
        {
          "output_type": "display_data",
          "data": {
            "image/png": "[encoded data removed]",
            "text/plain": [
              "<Figure size 576x576 with 2 Axes>"
            ]
          },
          "metadata": {
            "needs_background": "light"
          }
        }
      ]
    },
    {
      "cell_type": "markdown",
      "source": [
        "##fine tuning 211 layers"
      ],
      "metadata": {
        "id": "6KC9wD4p0zLi"
      }
    },
    {
      "cell_type": "code",
      "source": [
        "base_model.trainable = True\n",
        "fine_tune_at = 200\n",
        "\n",
        "# Freeze all the layers before the 'fine_tune_at' layer\n",
        "for layer in base_model.layers[:fine_tune_at]:\n",
        "  layer.trainable =  False"
      ],
      "metadata": {
        "id": "vaAyR7_Z8fYV"
      },
      "execution_count": null,
      "outputs": []
    },
    {
      "cell_type": "code",
      "source": [
        "t0 = time()\n",
        "\n",
        "epochs = 40\n",
        "\n",
        "model_history= model.fit(train_ds,validation_data=val_ds,\n",
        "                         steps_per_epoch=train_ds.samples//128,\n",
        "                                 validation_steps=val_ds.samples//128,\n",
        "                                 epochs= epochs,\n",
        "                                 callbacks=callbacks)\n",
        "\n",
        "\n",
        "print(\"Done in %0.3fs.\" % (time() - t0))"
      ],
      "metadata": {
        "colab": {
          "base_uri": "https://localhost:8080/"
        },
        "id": "bwZczqORkx6d",
        "outputId": "054a69ff-3799-4a37-eb85-a39c563ea7d5"
      },
      "execution_count": null,
      "outputs": [
        {
          "output_type": "stream",
          "name": "stdout",
          "text": [
            "Epoch 1/40\n",
            "38/38 [==============================] - ETA: 0s - loss: 2.1859 - f1_score: 0.1109 \n",
            "Epoch 00001: val_f1_score improved from -inf to 0.11692, saving model to /content/drive/MyDrive/ P8_kaggle_competition/Best_model_changed.h5\n",
            "38/38 [==============================] - 577s 15s/step - loss: 2.1859 - f1_score: 0.1109 - val_loss: 2.2601 - val_f1_score: 0.1169\n",
            "Epoch 2/40\n",
            "38/38 [==============================] - ETA: 0s - loss: 1.7081 - f1_score: 0.1693\n",
            "Epoch 00002: val_f1_score improved from 0.11692 to 0.17839, saving model to /content/drive/MyDrive/ P8_kaggle_competition/Best_model_changed.h5\n",
            "38/38 [==============================] - 468s 12s/step - loss: 1.7081 - f1_score: 0.1693 - val_loss: 1.7600 - val_f1_score: 0.1784\n",
            "Epoch 3/40\n",
            "38/38 [==============================] - ETA: 0s - loss: 1.4855 - f1_score: 0.2197\n",
            "Epoch 00003: val_f1_score improved from 0.17839 to 0.22990, saving model to /content/drive/MyDrive/ P8_kaggle_competition/Best_model_changed.h5\n",
            "38/38 [==============================] - 417s 11s/step - loss: 1.4855 - f1_score: 0.2197 - val_loss: 1.5620 - val_f1_score: 0.2299\n",
            "Epoch 4/40\n",
            "38/38 [==============================] - ETA: 0s - loss: 1.4280 - f1_score: 0.2339\n",
            "Epoch 00004: val_f1_score improved from 0.22990 to 0.25777, saving model to /content/drive/MyDrive/ P8_kaggle_competition/Best_model_changed.h5\n",
            "38/38 [==============================] - 387s 10s/step - loss: 1.4280 - f1_score: 0.2339 - val_loss: 1.2949 - val_f1_score: 0.2578\n",
            "Epoch 5/40\n",
            "38/38 [==============================] - ETA: 0s - loss: 1.3135 - f1_score: 0.2632\n",
            "Epoch 00005: val_f1_score did not improve from 0.25777\n",
            "38/38 [==============================] - 338s 9s/step - loss: 1.3135 - f1_score: 0.2632 - val_loss: 1.5915 - val_f1_score: 0.2210\n",
            "Epoch 6/40\n",
            "38/38 [==============================] - ETA: 0s - loss: 1.1962 - f1_score: 0.2868\n",
            "Epoch 00006: val_f1_score improved from 0.25777 to 0.28340, saving model to /content/drive/MyDrive/ P8_kaggle_competition/Best_model_changed.h5\n",
            "38/38 [==============================] - 330s 9s/step - loss: 1.1962 - f1_score: 0.2868 - val_loss: 1.3393 - val_f1_score: 0.2834\n",
            "Epoch 7/40\n",
            "38/38 [==============================] - ETA: 0s - loss: 1.1490 - f1_score: 0.2953\n",
            "Epoch 00007: val_f1_score improved from 0.28340 to 0.28608, saving model to /content/drive/MyDrive/ P8_kaggle_competition/Best_model_changed.h5\n",
            "38/38 [==============================] - 305s 8s/step - loss: 1.1490 - f1_score: 0.2953 - val_loss: 1.2828 - val_f1_score: 0.2861\n",
            "Epoch 8/40\n",
            "38/38 [==============================] - ETA: 0s - loss: 1.1323 - f1_score: 0.3199\n",
            "Epoch 00008: val_f1_score improved from 0.28608 to 0.29075, saving model to /content/drive/MyDrive/ P8_kaggle_competition/Best_model_changed.h5\n",
            "38/38 [==============================] - 288s 8s/step - loss: 1.1323 - f1_score: 0.3199 - val_loss: 1.3916 - val_f1_score: 0.2908\n",
            "Epoch 9/40\n",
            "38/38 [==============================] - ETA: 0s - loss: 1.0652 - f1_score: 0.3155\n",
            "Epoch 00009: val_f1_score improved from 0.29075 to 0.30799, saving model to /content/drive/MyDrive/ P8_kaggle_competition/Best_model_changed.h5\n",
            "38/38 [==============================] - 280s 7s/step - loss: 1.0652 - f1_score: 0.3155 - val_loss: 1.2279 - val_f1_score: 0.3080\n",
            "Epoch 10/40\n",
            "38/38 [==============================] - ETA: 0s - loss: 1.0795 - f1_score: 0.3233\n",
            "Epoch 00010: val_f1_score improved from 0.30799 to 0.30992, saving model to /content/drive/MyDrive/ P8_kaggle_competition/Best_model_changed.h5\n",
            "38/38 [==============================] - 266s 7s/step - loss: 1.0795 - f1_score: 0.3233 - val_loss: 1.2315 - val_f1_score: 0.3099\n",
            "Epoch 11/40\n",
            "38/38 [==============================] - ETA: 0s - loss: 0.9198 - f1_score: 0.3797\n",
            "Epoch 00011: val_f1_score improved from 0.30992 to 0.31361, saving model to /content/drive/MyDrive/ P8_kaggle_competition/Best_model_changed.h5\n",
            "38/38 [==============================] - 261s 7s/step - loss: 0.9198 - f1_score: 0.3797 - val_loss: 1.0786 - val_f1_score: 0.3136\n",
            "Epoch 12/40\n",
            "38/38 [==============================] - ETA: 0s - loss: 0.9860 - f1_score: 0.3247\n",
            "Epoch 00012: val_f1_score improved from 0.31361 to 0.34457, saving model to /content/drive/MyDrive/ P8_kaggle_competition/Best_model_changed.h5\n",
            "38/38 [==============================] - 254s 7s/step - loss: 0.9860 - f1_score: 0.3247 - val_loss: 0.9751 - val_f1_score: 0.3446\n",
            "Epoch 13/40\n",
            "38/38 [==============================] - ETA: 0s - loss: 0.8725 - f1_score: 0.3613\n",
            "Epoch 00013: val_f1_score did not improve from 0.34457\n",
            "38/38 [==============================] - 243s 6s/step - loss: 0.8725 - f1_score: 0.3613 - val_loss: 1.0441 - val_f1_score: 0.3432\n",
            "Epoch 14/40\n",
            "38/38 [==============================] - ETA: 0s - loss: 0.9495 - f1_score: 0.3662\n",
            "Epoch 00014: val_f1_score did not improve from 0.34457\n",
            "38/38 [==============================] - 241s 6s/step - loss: 0.9495 - f1_score: 0.3662 - val_loss: 1.1024 - val_f1_score: 0.3205\n",
            "Epoch 15/40\n",
            "38/38 [==============================] - ETA: 0s - loss: 0.9082 - f1_score: 0.3777\n",
            "Epoch 00015: val_f1_score did not improve from 0.34457\n",
            "38/38 [==============================] - 242s 6s/step - loss: 0.9082 - f1_score: 0.3777 - val_loss: 1.0737 - val_f1_score: 0.3175\n",
            "Epoch 16/40\n",
            "38/38 [==============================] - ETA: 0s - loss: 0.8729 - f1_score: 0.4017\n",
            "Epoch 00016: val_f1_score did not improve from 0.34457\n",
            "38/38 [==============================] - 239s 6s/step - loss: 0.8729 - f1_score: 0.4017 - val_loss: 1.0188 - val_f1_score: 0.3331\n",
            "Epoch 17/40\n",
            "38/38 [==============================] - ETA: 0s - loss: 0.8324 - f1_score: 0.4430\n",
            "Epoch 00017: val_f1_score improved from 0.34457 to 0.35448, saving model to /content/drive/MyDrive/ P8_kaggle_competition/Best_model_changed.h5\n",
            "38/38 [==============================] - 248s 7s/step - loss: 0.8324 - f1_score: 0.4430 - val_loss: 0.9706 - val_f1_score: 0.3545\n",
            "Epoch 18/40\n",
            "38/38 [==============================] - ETA: 0s - loss: 0.7976 - f1_score: 0.3805\n",
            "Epoch 00018: val_f1_score did not improve from 0.35448\n",
            "38/38 [==============================] - 240s 6s/step - loss: 0.7976 - f1_score: 0.3805 - val_loss: 0.8993 - val_f1_score: 0.3390\n",
            "Epoch 19/40\n",
            "38/38 [==============================] - ETA: 0s - loss: 0.8405 - f1_score: 0.4180\n",
            "Epoch 00019: val_f1_score improved from 0.35448 to 0.35667, saving model to /content/drive/MyDrive/ P8_kaggle_competition/Best_model_changed.h5\n",
            "38/38 [==============================] - 245s 6s/step - loss: 0.8405 - f1_score: 0.4180 - val_loss: 0.9746 - val_f1_score: 0.3567\n",
            "Epoch 20/40\n",
            "38/38 [==============================] - ETA: 0s - loss: 0.7595 - f1_score: 0.4496\n",
            "Epoch 00020: val_f1_score did not improve from 0.35667\n",
            "38/38 [==============================] - 247s 7s/step - loss: 0.7595 - f1_score: 0.4496 - val_loss: 0.9447 - val_f1_score: 0.3370\n",
            "Epoch 21/40\n",
            "38/38 [==============================] - ETA: 0s - loss: 0.7162 - f1_score: 0.4213\n",
            "Epoch 00021: val_f1_score did not improve from 0.35667\n",
            "38/38 [==============================] - 244s 6s/step - loss: 0.7162 - f1_score: 0.4213 - val_loss: 0.9915 - val_f1_score: 0.3412\n",
            "Epoch 22/40\n",
            "38/38 [==============================] - ETA: 0s - loss: 0.7752 - f1_score: 0.4495\n",
            "Epoch 00022: val_f1_score improved from 0.35667 to 0.36536, saving model to /content/drive/MyDrive/ P8_kaggle_competition/Best_model_changed.h5\n",
            "38/38 [==============================] - 295s 8s/step - loss: 0.7752 - f1_score: 0.4495 - val_loss: 0.9310 - val_f1_score: 0.3654\n",
            "Epoch 23/40\n",
            "38/38 [==============================] - ETA: 0s - loss: 0.7167 - f1_score: 0.4504\n",
            "Epoch 00023: val_f1_score improved from 0.36536 to 0.37249, saving model to /content/drive/MyDrive/ P8_kaggle_competition/Best_model_changed.h5\n",
            "38/38 [==============================] - 246s 6s/step - loss: 0.7167 - f1_score: 0.4504 - val_loss: 0.8755 - val_f1_score: 0.3725\n",
            "Epoch 24/40\n",
            "38/38 [==============================] - ETA: 0s - loss: 0.6567 - f1_score: 0.4701\n",
            "Epoch 00024: val_f1_score did not improve from 0.37249\n",
            "38/38 [==============================] - 274s 7s/step - loss: 0.6567 - f1_score: 0.4701 - val_loss: 0.8609 - val_f1_score: 0.3509\n",
            "Epoch 25/40\n",
            "38/38 [==============================] - ETA: 0s - loss: 0.6896 - f1_score: 0.4998\n",
            "Epoch 00025: val_f1_score did not improve from 0.37249\n",
            "38/38 [==============================] - 240s 6s/step - loss: 0.6896 - f1_score: 0.4998 - val_loss: 0.9325 - val_f1_score: 0.3524\n",
            "Epoch 26/40\n",
            "38/38 [==============================] - ETA: 0s - loss: 0.7297 - f1_score: 0.4820\n",
            "Epoch 00026: val_f1_score did not improve from 0.37249\n",
            "38/38 [==============================] - 237s 6s/step - loss: 0.7297 - f1_score: 0.4820 - val_loss: 1.0183 - val_f1_score: 0.3454\n",
            "Epoch 27/40\n",
            "38/38 [==============================] - ETA: 0s - loss: 0.6680 - f1_score: 0.5207\n",
            "Epoch 00027: val_f1_score did not improve from 0.37249\n",
            "38/38 [==============================] - 235s 6s/step - loss: 0.6680 - f1_score: 0.5207 - val_loss: 0.9368 - val_f1_score: 0.3463\n",
            "Epoch 28/40\n",
            "38/38 [==============================] - ETA: 0s - loss: 0.6689 - f1_score: 0.4443\n",
            "Epoch 00028: val_f1_score did not improve from 0.37249\n",
            "Restoring model weights from the end of the best epoch: 23.\n",
            "38/38 [==============================] - 233s 6s/step - loss: 0.6689 - f1_score: 0.4443 - val_loss: 1.0439 - val_f1_score: 0.3627\n",
            "Epoch 00028: early stopping\n",
            "Done in 8489.803s.\n"
          ]
        }
      ]
    },
    {
      "cell_type": "code",
      "source": [
        "acc = model_history.history['f1_score']\n",
        "val_acc = model_history.history['val_f1_score']\n",
        "\n",
        "loss = model_history.history['loss']\n",
        "val_loss = model_history.history['val_loss']\n",
        "\n",
        "plt.figure(figsize=(8, 8))\n",
        "plt.subplot(2, 1, 1)\n",
        "plt.plot(acc, label='Training Accuracy')\n",
        "plt.plot(val_acc, label='Validation Accuracy')\n",
        "plt.legend(loc='upper right')\n",
        "plt.ylabel('Accuracy')\n",
        "plt.ylim([min(plt.ylim()),1])\n",
        "plt.title('Training and Validation Accuracy')\n",
        "\n",
        "plt.subplot(2, 1, 2)\n",
        "plt.plot(loss, label='Training Loss')\n",
        "plt.plot(val_loss, label='Validation Loss')\n",
        "plt.legend(loc='lower right')\n",
        "plt.ylabel('Cross Entropy')\n",
        "plt.ylim([0,2.0])\n",
        "plt.title('Training and Validation Loss')\n",
        "plt.xlabel('epoch')\n",
        "plt.show()"
      ],
      "metadata": {
        "colab": {
          "base_uri": "https://localhost:8080/",
          "height": 513
        },
        "id": "4EARLsKpkzk5",
        "outputId": "8d60bc38-c6d1-4953-cdf6-eb7aae5221dc"
      },
      "execution_count": null,
      "outputs": [
        {
          "output_type": "display_data",
          "data": {
            "image/png": "[encoded data removed]",
            "text/plain": [
              "<Figure size 576x576 with 2 Axes>"
            ]
          },
          "metadata": {
            "needs_background": "light"
          }
        }
      ]
    },
    {
      "cell_type": "markdown",
      "source": [
        "##with SGD"
      ],
      "metadata": {
        "id": "wfLktyNU1QoD"
      }
    },
    {
      "cell_type": "code",
      "source": [
        "base_model.trainable = False\n",
        "model = tf.keras.Sequential()\n",
        "model.add(base_model)\n",
        "model.add(tf.keras.layers.GlobalAveragePooling2D())\n",
        "model.add(tf.keras.layers.Dense(320, activation='relu'))\n",
        "model.add(tf.keras.layers.Dropout(0.2))\n",
        "model.add(tf.keras.layers.Dense(12, activation='sigmoid'))\n",
        "# Compile the Model\n",
        "model.compile(optimizer=tf.keras.optimizers.SGD(learning_rate=0.001),\n",
        "    loss='categorical_crossentropy',\n",
        "    metrics = [tfa.metrics.F1Score(num_classes = 12,average = \"macro\",name = \"f1_score\")])"
      ],
      "metadata": {
        "id": "43E2rpMJ622m"
      },
      "execution_count": null,
      "outputs": []
    },
    {
      "cell_type": "code",
      "source": [
        "t0 = time()\n",
        "\n",
        "epochs = 40\n",
        "\n",
        "model_history= model.fit(train_ds,validation_data=val_ds,\n",
        "                         steps_per_epoch=train_ds.samples//128,\n",
        "                                 validation_steps=val_ds.samples//128,\n",
        "                                 epochs= epochs,\n",
        "                                 callbacks=callbacks)\n",
        "\n",
        "\n",
        "print(\"Done in %0.3fs.\" % (time() - t0))"
      ],
      "metadata": {
        "colab": {
          "base_uri": "https://localhost:8080/"
        },
        "id": "3ehpL2VHRWyq",
        "outputId": "9817e316-178c-4f54-d886-d341c410687f"
      },
      "execution_count": null,
      "outputs": [
        {
          "output_type": "stream",
          "name": "stdout",
          "text": [
            "Epoch 1/40\n",
            "38/38 [==============================] - ETA: 0s - loss: 2.1941 - f1_score: 0.1155\n",
            "Epoch 00001: val_f1_score improved from -inf to 0.08208, saving model to /content/drive/MyDrive/ P8_kaggle_competition/Best_model_changed.h5\n",
            "38/38 [==============================] - 307s 8s/step - loss: 2.1941 - f1_score: 0.1155 - val_loss: 3.1038 - val_f1_score: 0.0821\n",
            "Epoch 2/40\n",
            "38/38 [==============================] - ETA: 0s - loss: 1.7026 - f1_score: 0.1716\n",
            "Epoch 00002: val_f1_score improved from 0.08208 to 0.16883, saving model to /content/drive/MyDrive/ P8_kaggle_competition/Best_model_changed.h5\n",
            "38/38 [==============================] - 248s 7s/step - loss: 1.7026 - f1_score: 0.1716 - val_loss: 2.3058 - val_f1_score: 0.1688\n",
            "Epoch 3/40\n",
            "38/38 [==============================] - ETA: 0s - loss: 1.5294 - f1_score: 0.2159\n",
            "Epoch 00003: val_f1_score improved from 0.16883 to 0.22512, saving model to /content/drive/MyDrive/ P8_kaggle_competition/Best_model_changed.h5\n",
            "38/38 [==============================] - 247s 7s/step - loss: 1.5294 - f1_score: 0.2159 - val_loss: 1.6113 - val_f1_score: 0.2251\n",
            "Epoch 4/40\n",
            "38/38 [==============================] - ETA: 0s - loss: 1.4617 - f1_score: 0.2312\n",
            "Epoch 00004: val_f1_score improved from 0.22512 to 0.23550, saving model to /content/drive/MyDrive/ P8_kaggle_competition/Best_model_changed.h5\n",
            "38/38 [==============================] - 251s 7s/step - loss: 1.4617 - f1_score: 0.2312 - val_loss: 1.4596 - val_f1_score: 0.2355\n",
            "Epoch 5/40\n",
            "38/38 [==============================] - ETA: 0s - loss: 1.3453 - f1_score: 0.2597\n",
            "Epoch 00005: val_f1_score improved from 0.23550 to 0.24760, saving model to /content/drive/MyDrive/ P8_kaggle_competition/Best_model_changed.h5\n",
            "38/38 [==============================] - 246s 7s/step - loss: 1.3453 - f1_score: 0.2597 - val_loss: 1.3546 - val_f1_score: 0.2476\n",
            "Epoch 6/40\n",
            "38/38 [==============================] - ETA: 0s - loss: 1.3164 - f1_score: 0.2639\n",
            "Epoch 00006: val_f1_score improved from 0.24760 to 0.27569, saving model to /content/drive/MyDrive/ P8_kaggle_competition/Best_model_changed.h5\n",
            "38/38 [==============================] - 246s 7s/step - loss: 1.3164 - f1_score: 0.2639 - val_loss: 1.2836 - val_f1_score: 0.2757\n",
            "Epoch 7/40\n",
            "38/38 [==============================] - ETA: 0s - loss: 1.2754 - f1_score: 0.2833\n",
            "Epoch 00007: val_f1_score improved from 0.27569 to 0.28022, saving model to /content/drive/MyDrive/ P8_kaggle_competition/Best_model_changed.h5\n",
            "38/38 [==============================] - 248s 7s/step - loss: 1.2754 - f1_score: 0.2833 - val_loss: 1.3274 - val_f1_score: 0.2802\n",
            "Epoch 8/40\n",
            "38/38 [==============================] - ETA: 0s - loss: 1.1139 - f1_score: 0.3049\n",
            "Epoch 00008: val_f1_score improved from 0.28022 to 0.30362, saving model to /content/drive/MyDrive/ P8_kaggle_competition/Best_model_changed.h5\n",
            "38/38 [==============================] - 248s 7s/step - loss: 1.1139 - f1_score: 0.3049 - val_loss: 1.1361 - val_f1_score: 0.3036\n",
            "Epoch 9/40\n",
            "38/38 [==============================] - ETA: 0s - loss: 1.1055 - f1_score: 0.3040\n",
            "Epoch 00009: val_f1_score improved from 0.30362 to 0.32192, saving model to /content/drive/MyDrive/ P8_kaggle_competition/Best_model_changed.h5\n",
            "38/38 [==============================] - 245s 6s/step - loss: 1.1055 - f1_score: 0.3040 - val_loss: 1.2235 - val_f1_score: 0.3219\n",
            "Epoch 10/40\n",
            "38/38 [==============================] - ETA: 0s - loss: 1.0562 - f1_score: 0.3424\n",
            "Epoch 00010: val_f1_score improved from 0.32192 to 0.32943, saving model to /content/drive/MyDrive/ P8_kaggle_competition/Best_model_changed.h5\n",
            "38/38 [==============================] - 243s 6s/step - loss: 1.0562 - f1_score: 0.3424 - val_loss: 1.1778 - val_f1_score: 0.3294\n",
            "Epoch 11/40\n",
            "38/38 [==============================] - ETA: 0s - loss: 1.0456 - f1_score: 0.3191\n",
            "Epoch 00011: val_f1_score did not improve from 0.32943\n",
            "38/38 [==============================] - 244s 6s/step - loss: 1.0456 - f1_score: 0.3191 - val_loss: 1.2111 - val_f1_score: 0.3057\n",
            "Epoch 12/40\n",
            "38/38 [==============================] - ETA: 0s - loss: 0.9719 - f1_score: 0.3508\n",
            "Epoch 00012: val_f1_score did not improve from 0.32943\n",
            "38/38 [==============================] - 238s 6s/step - loss: 0.9719 - f1_score: 0.3508 - val_loss: 1.1736 - val_f1_score: 0.3196\n",
            "Epoch 13/40\n",
            "38/38 [==============================] - ETA: 0s - loss: 0.9734 - f1_score: 0.3414\n",
            "Epoch 00013: val_f1_score improved from 0.32943 to 0.33432, saving model to /content/drive/MyDrive/ P8_kaggle_competition/Best_model_changed.h5\n",
            "38/38 [==============================] - 244s 6s/step - loss: 0.9734 - f1_score: 0.3414 - val_loss: 1.0974 - val_f1_score: 0.3343\n",
            "Epoch 14/40\n",
            "38/38 [==============================] - ETA: 0s - loss: 0.9229 - f1_score: 0.3591\n",
            "Epoch 00014: val_f1_score did not improve from 0.33432\n",
            "38/38 [==============================] - 237s 6s/step - loss: 0.9229 - f1_score: 0.3591 - val_loss: 1.0974 - val_f1_score: 0.3255\n",
            "Epoch 15/40\n",
            "38/38 [==============================] - ETA: 0s - loss: 0.9411 - f1_score: 0.3470\n",
            "Epoch 00015: val_f1_score improved from 0.33432 to 0.33877, saving model to /content/drive/MyDrive/ P8_kaggle_competition/Best_model_changed.h5\n",
            "38/38 [==============================] - 239s 6s/step - loss: 0.9411 - f1_score: 0.3470 - val_loss: 1.0775 - val_f1_score: 0.3388\n",
            "Epoch 16/40\n",
            "38/38 [==============================] - ETA: 0s - loss: 0.8826 - f1_score: 0.3757\n",
            "Epoch 00016: val_f1_score improved from 0.33877 to 0.33903, saving model to /content/drive/MyDrive/ P8_kaggle_competition/Best_model_changed.h5\n",
            "38/38 [==============================] - 241s 6s/step - loss: 0.8826 - f1_score: 0.3757 - val_loss: 1.1233 - val_f1_score: 0.3390\n",
            "Epoch 17/40\n",
            "38/38 [==============================] - ETA: 0s - loss: 0.9026 - f1_score: 0.3620\n",
            "Epoch 00017: val_f1_score improved from 0.33903 to 0.35220, saving model to /content/drive/MyDrive/ P8_kaggle_competition/Best_model_changed.h5\n",
            "38/38 [==============================] - 242s 6s/step - loss: 0.9026 - f1_score: 0.3620 - val_loss: 1.0110 - val_f1_score: 0.3522\n",
            "Epoch 18/40\n",
            "38/38 [==============================] - ETA: 0s - loss: 0.8784 - f1_score: 0.3806\n",
            "Epoch 00018: val_f1_score did not improve from 0.35220\n",
            "38/38 [==============================] - 240s 6s/step - loss: 0.8784 - f1_score: 0.3806 - val_loss: 1.0710 - val_f1_score: 0.3267\n",
            "Epoch 19/40\n",
            "38/38 [==============================] - ETA: 0s - loss: 0.8580 - f1_score: 0.4178\n",
            "Epoch 00019: val_f1_score did not improve from 0.35220\n",
            "38/38 [==============================] - 235s 6s/step - loss: 0.8580 - f1_score: 0.4178 - val_loss: 1.0912 - val_f1_score: 0.3170\n",
            "Epoch 20/40\n",
            "38/38 [==============================] - ETA: 0s - loss: 0.8157 - f1_score: 0.4130\n",
            "Epoch 00020: val_f1_score improved from 0.35220 to 0.35936, saving model to /content/drive/MyDrive/ P8_kaggle_competition/Best_model_changed.h5\n",
            "38/38 [==============================] - 236s 6s/step - loss: 0.8157 - f1_score: 0.4130 - val_loss: 0.9723 - val_f1_score: 0.3594\n",
            "Epoch 21/40\n",
            "38/38 [==============================] - ETA: 0s - loss: 0.8026 - f1_score: 0.3871\n",
            "Epoch 00021: val_f1_score did not improve from 0.35936\n",
            "38/38 [==============================] - 235s 6s/step - loss: 0.8026 - f1_score: 0.3871 - val_loss: 0.9564 - val_f1_score: 0.3567\n",
            "Epoch 22/40\n",
            "38/38 [==============================] - ETA: 0s - loss: 0.7321 - f1_score: 0.4486\n",
            "Epoch 00022: val_f1_score improved from 0.35936 to 0.38991, saving model to /content/drive/MyDrive/ P8_kaggle_competition/Best_model_changed.h5\n",
            "38/38 [==============================] - 236s 6s/step - loss: 0.7321 - f1_score: 0.4486 - val_loss: 0.9955 - val_f1_score: 0.3899\n",
            "Epoch 23/40\n",
            "38/38 [==============================] - ETA: 0s - loss: 0.7870 - f1_score: 0.4365\n",
            "Epoch 00023: val_f1_score did not improve from 0.38991\n",
            "38/38 [==============================] - 231s 6s/step - loss: 0.7870 - f1_score: 0.4365 - val_loss: 1.0478 - val_f1_score: 0.3498\n",
            "Epoch 24/40\n",
            "38/38 [==============================] - ETA: 0s - loss: 0.7199 - f1_score: 0.4093\n",
            "Epoch 00024: val_f1_score did not improve from 0.38991\n",
            "38/38 [==============================] - 229s 6s/step - loss: 0.7199 - f1_score: 0.4093 - val_loss: 1.1578 - val_f1_score: 0.3314\n",
            "Epoch 25/40\n",
            "38/38 [==============================] - ETA: 0s - loss: 0.6721 - f1_score: 0.4545\n",
            "Epoch 00025: val_f1_score did not improve from 0.38991\n",
            "38/38 [==============================] - 230s 6s/step - loss: 0.6721 - f1_score: 0.4545 - val_loss: 1.1367 - val_f1_score: 0.3237\n",
            "Epoch 26/40\n",
            "38/38 [==============================] - ETA: 0s - loss: 0.7347 - f1_score: 0.4604\n",
            "Epoch 00026: val_f1_score did not improve from 0.38991\n",
            "38/38 [==============================] - 229s 6s/step - loss: 0.7347 - f1_score: 0.4604 - val_loss: 0.9948 - val_f1_score: 0.3301\n",
            "Epoch 27/40\n",
            "38/38 [==============================] - ETA: 0s - loss: 0.7402 - f1_score: 0.4825\n",
            "Epoch 00027: val_f1_score did not improve from 0.38991\n",
            "Restoring model weights from the end of the best epoch: 22.\n",
            "38/38 [==============================] - 226s 6s/step - loss: 0.7402 - f1_score: 0.4825 - val_loss: 1.1572 - val_f1_score: 0.3422\n",
            "Epoch 00027: early stopping\n",
            "Done in 6835.259s.\n"
          ]
        }
      ]
    },
    {
      "cell_type": "code",
      "source": [
        "acc = model_history.history['f1_score']\n",
        "val_acc = model_history.history['val_f1_score']\n",
        "\n",
        "loss = model_history.history['loss']\n",
        "val_loss = model_history.history['val_loss']\n",
        "\n",
        "plt.figure(figsize=(8, 8))\n",
        "plt.subplot(2, 1, 1)\n",
        "plt.plot(acc, label='Training Accuracy')\n",
        "plt.plot(val_acc, label='Validation Accuracy')\n",
        "plt.legend(loc='upper right')\n",
        "plt.ylabel('Accuracy')\n",
        "plt.ylim([min(plt.ylim()),1])\n",
        "plt.title('Training and Validation Accuracy')\n",
        "\n",
        "plt.subplot(2, 1, 2)\n",
        "plt.plot(loss, label='Training Loss')\n",
        "plt.plot(val_loss, label='Validation Loss')\n",
        "plt.legend(loc='lower right')\n",
        "plt.ylabel('Cross Entropy')\n",
        "plt.ylim([0,2.0])\n",
        "plt.title('Training and Validation Loss')\n",
        "plt.xlabel('epoch')\n",
        "plt.show()"
      ],
      "metadata": {
        "colab": {
          "base_uri": "https://localhost:8080/",
          "height": 513
        },
        "id": "TnMi29saRcp7",
        "outputId": "5e68c84e-0ffc-49d0-98b5-595d5e6c4d72"
      },
      "execution_count": null,
      "outputs": [
        {
          "output_type": "display_data",
          "data": {
            "image/png": "[encoded data removed]",
            "text/plain": [
              "<Figure size 576x576 with 2 Axes>"
            ]
          },
          "metadata": {
            "needs_background": "light"
          }
        }
      ]
    },
    {
      "cell_type": "markdown",
      "source": [
        "##Flaten + sgd + fine-tunning + 211 layers"
      ],
      "metadata": {
        "id": "lMwi-j-R1eZc"
      }
    },
    {
      "cell_type": "code",
      "source": [
        "base_model.trainable = True\n",
        "fine_tune_at = 200\n",
        "\n",
        "# Freeze all the layers before the 'fine_tune_at' layer\n",
        "for layer in base_model.layers[:fine_tune_at]:\n",
        "  layer.trainable =  False"
      ],
      "metadata": {
        "id": "33zhRt-57kuq"
      },
      "execution_count": null,
      "outputs": []
    },
    {
      "cell_type": "code",
      "source": [
        "model = tf.keras.Sequential()\n",
        "model.add(base_model)\n",
        "model.add(tf.keras.layers.GlobalAveragePooling2D())\n",
        "model.add(Flatten())\n",
        "model.add(tf.keras.layers.Dense(320, activation='relu'))\n",
        "model.add(tf.keras.layers.Dropout(0.5))\n",
        "model.add(tf.keras.layers.Dense(12, activation='sigmoid'))\n",
        "# Compile the Model\n",
        "model.compile(optimizer=tf.keras.optimizers.SGD(learning_rate=0.001),\n",
        "    loss='categorical_crossentropy',\n",
        "    metrics = [tfa.metrics.F1Score(num_classes = 12,average = \"macro\",name = \"f1_score\")])"
      ],
      "metadata": {
        "id": "kr_cDdmx7ZFp"
      },
      "execution_count": null,
      "outputs": []
    },
    {
      "cell_type": "code",
      "source": [
        ""
      ],
      "metadata": {
        "id": "DGmEWPVs7Zku"
      },
      "execution_count": null,
      "outputs": []
    },
    {
      "cell_type": "code",
      "source": [
        "#Flaten + sgd + fine-tunning= 200 layers\n",
        "t0 = time()\n",
        "\n",
        "epochs = 40\n",
        "\n",
        "model_history= model.fit(train_ds,validation_data=val_ds,\n",
        "                         steps_per_epoch=train_ds.samples//128,\n",
        "                                 validation_steps=val_ds.samples//128,\n",
        "                                 epochs= epochs,\n",
        "                                 callbacks=callbacks)\n",
        "\n",
        "\n",
        "print(\"Done in %0.3fs.\" % (time() - t0))"
      ],
      "metadata": {
        "colab": {
          "base_uri": "https://localhost:8080/"
        },
        "id": "7ObW3eOFmnXK",
        "outputId": "4ee06d7b-ee6d-4922-99e7-32fa6a51b9f2"
      },
      "execution_count": null,
      "outputs": [
        {
          "output_type": "stream",
          "name": "stdout",
          "text": [
            "Epoch 1/40\n",
            "38/38 [==============================] - ETA: 0s - loss: 1.3973 - f1_score: 0.2573\n",
            "Epoch 00001: val_f1_score did not improve from 0.24744\n",
            "38/38 [==============================] - 371s 10s/step - loss: 1.3973 - f1_score: 0.2573 - val_loss: 1.4103 - val_f1_score: 0.2300\n",
            "Epoch 2/40\n",
            "38/38 [==============================] - ETA: 0s - loss: 1.3418 - f1_score: 0.2644\n",
            "Epoch 00002: val_f1_score did not improve from 0.24744\n",
            "38/38 [==============================] - 371s 10s/step - loss: 1.3418 - f1_score: 0.2644 - val_loss: 1.5440 - val_f1_score: 0.2451\n",
            "Epoch 3/40\n",
            "38/38 [==============================] - ETA: 0s - loss: 1.3204 - f1_score: 0.2809\n",
            "Epoch 00003: val_f1_score improved from 0.24744 to 0.25823, saving model to /content/drive/MyDrive/ P8_kaggle_competition/Best_model_changed.h5\n",
            "38/38 [==============================] - 356s 9s/step - loss: 1.3204 - f1_score: 0.2809 - val_loss: 1.3554 - val_f1_score: 0.2582\n",
            "Epoch 4/40\n",
            "38/38 [==============================] - ETA: 0s - loss: 1.3145 - f1_score: 0.2616\n",
            "Epoch 00004: val_f1_score did not improve from 0.25823\n",
            "38/38 [==============================] - 339s 9s/step - loss: 1.3145 - f1_score: 0.2616 - val_loss: 1.3478 - val_f1_score: 0.2517\n",
            "Epoch 5/40\n",
            "38/38 [==============================] - ETA: 0s - loss: 1.2635 - f1_score: 0.2879\n",
            "Epoch 00005: val_f1_score did not improve from 0.25823\n",
            "38/38 [==============================] - 332s 9s/step - loss: 1.2635 - f1_score: 0.2879 - val_loss: 1.2962 - val_f1_score: 0.2578\n",
            "Epoch 6/40\n",
            "38/38 [==============================] - ETA: 0s - loss: 1.2723 - f1_score: 0.3184\n",
            "Epoch 00006: val_f1_score improved from 0.25823 to 0.30131, saving model to /content/drive/MyDrive/ P8_kaggle_competition/Best_model_changed.h5\n",
            "38/38 [==============================] - 326s 9s/step - loss: 1.2723 - f1_score: 0.3184 - val_loss: 1.2694 - val_f1_score: 0.3013\n",
            "Epoch 7/40\n",
            "38/38 [==============================] - ETA: 0s - loss: 1.2161 - f1_score: 0.3034\n",
            "Epoch 00007: val_f1_score did not improve from 0.30131\n",
            "38/38 [==============================] - 324s 9s/step - loss: 1.2161 - f1_score: 0.3034 - val_loss: 1.3953 - val_f1_score: 0.2730\n",
            "Epoch 8/40\n",
            "38/38 [==============================] - ETA: 0s - loss: 1.2368 - f1_score: 0.2942\n",
            "Epoch 00008: val_f1_score improved from 0.30131 to 0.30568, saving model to /content/drive/MyDrive/ P8_kaggle_competition/Best_model_changed.h5\n",
            "38/38 [==============================] - 321s 8s/step - loss: 1.2368 - f1_score: 0.2942 - val_loss: 1.1672 - val_f1_score: 0.3057\n",
            "Epoch 9/40\n",
            "38/38 [==============================] - ETA: 0s - loss: 1.2446 - f1_score: 0.3095\n",
            "Epoch 00009: val_f1_score did not improve from 0.30568\n",
            "38/38 [==============================] - 312s 8s/step - loss: 1.2446 - f1_score: 0.3095 - val_loss: 1.2750 - val_f1_score: 0.2849\n",
            "Epoch 10/40\n",
            "38/38 [==============================] - ETA: 0s - loss: 1.2358 - f1_score: 0.3071\n",
            "Epoch 00010: val_f1_score did not improve from 0.30568\n",
            "38/38 [==============================] - 310s 8s/step - loss: 1.2358 - f1_score: 0.3071 - val_loss: 1.1444 - val_f1_score: 0.2963\n",
            "Epoch 11/40\n",
            "38/38 [==============================] - ETA: 0s - loss: 1.2622 - f1_score: 0.3010\n",
            "Epoch 00011: val_f1_score did not improve from 0.30568\n",
            "38/38 [==============================] - 312s 8s/step - loss: 1.2622 - f1_score: 0.3010 - val_loss: 1.3399 - val_f1_score: 0.2554\n",
            "Epoch 12/40\n",
            "38/38 [==============================] - ETA: 0s - loss: 1.1306 - f1_score: 0.3354\n",
            "Epoch 00012: val_f1_score did not improve from 0.30568\n",
            "38/38 [==============================] - 306s 8s/step - loss: 1.1306 - f1_score: 0.3354 - val_loss: 1.2533 - val_f1_score: 0.2925\n",
            "Epoch 13/40\n",
            "38/38 [==============================] - ETA: 0s - loss: 1.1962 - f1_score: 0.3288\n",
            "Epoch 00013: val_f1_score did not improve from 0.30568\n",
            "38/38 [==============================] - 310s 8s/step - loss: 1.1962 - f1_score: 0.3288 - val_loss: 1.2136 - val_f1_score: 0.2909\n",
            "Epoch 14/40\n",
            "38/38 [==============================] - ETA: 0s - loss: 1.1429 - f1_score: 0.3603\n",
            "Epoch 00014: val_f1_score did not improve from 0.30568\n",
            "38/38 [==============================] - 309s 8s/step - loss: 1.1429 - f1_score: 0.3603 - val_loss: 1.4476 - val_f1_score: 0.2792\n",
            "Epoch 15/40\n",
            "38/38 [==============================] - ETA: 0s - loss: 1.0913 - f1_score: 0.3467\n",
            "Epoch 00015: val_f1_score improved from 0.30568 to 0.32138, saving model to /content/drive/MyDrive/ P8_kaggle_competition/Best_model_changed.h5\n",
            "38/38 [==============================] - 310s 8s/step - loss: 1.0913 - f1_score: 0.3467 - val_loss: 1.2033 - val_f1_score: 0.3214\n",
            "Epoch 16/40\n",
            "38/38 [==============================] - ETA: 0s - loss: 1.1553 - f1_score: 0.3182\n",
            "Epoch 00016: val_f1_score did not improve from 0.32138\n",
            "38/38 [==============================] - 307s 8s/step - loss: 1.1553 - f1_score: 0.3182 - val_loss: 1.2156 - val_f1_score: 0.2867\n",
            "Epoch 17/40\n",
            "38/38 [==============================] - ETA: 0s - loss: 1.1190 - f1_score: 0.3159\n",
            "Epoch 00017: val_f1_score did not improve from 0.32138\n",
            "38/38 [==============================] - 305s 8s/step - loss: 1.1190 - f1_score: 0.3159 - val_loss: 1.2432 - val_f1_score: 0.2965\n",
            "Epoch 18/40\n",
            "38/38 [==============================] - ETA: 0s - loss: 1.1349 - f1_score: 0.3662\n",
            "Epoch 00018: val_f1_score improved from 0.32138 to 0.32546, saving model to /content/drive/MyDrive/ P8_kaggle_competition/Best_model_changed.h5\n",
            "38/38 [==============================] - 303s 8s/step - loss: 1.1349 - f1_score: 0.3662 - val_loss: 1.1499 - val_f1_score: 0.3255\n",
            "Epoch 19/40\n",
            "38/38 [==============================] - ETA: 0s - loss: 1.0562 - f1_score: 0.4083\n",
            "Epoch 00019: val_f1_score did not improve from 0.32546\n",
            "38/38 [==============================] - 304s 8s/step - loss: 1.0562 - f1_score: 0.4083 - val_loss: 1.2118 - val_f1_score: 0.2985\n",
            "Epoch 20/40\n",
            "38/38 [==============================] - ETA: 0s - loss: 1.1284 - f1_score: 0.3566\n",
            "Epoch 00020: val_f1_score did not improve from 0.32546\n",
            "38/38 [==============================] - 307s 8s/step - loss: 1.1284 - f1_score: 0.3566 - val_loss: 1.2621 - val_f1_score: 0.2942\n",
            "Epoch 21/40\n",
            "38/38 [==============================] - ETA: 0s - loss: 1.1305 - f1_score: 0.3427\n",
            "Epoch 00021: val_f1_score did not improve from 0.32546\n",
            "38/38 [==============================] - 305s 8s/step - loss: 1.1305 - f1_score: 0.3427 - val_loss: 1.1162 - val_f1_score: 0.3166\n",
            "Epoch 22/40\n",
            "38/38 [==============================] - ETA: 0s - loss: 1.0542 - f1_score: 0.3963\n",
            "Epoch 00022: val_f1_score did not improve from 0.32546\n",
            "38/38 [==============================] - 303s 8s/step - loss: 1.0542 - f1_score: 0.3963 - val_loss: 1.1266 - val_f1_score: 0.3191\n",
            "Epoch 23/40\n",
            "38/38 [==============================] - ETA: 0s - loss: 1.0660 - f1_score: 0.3848\n",
            "Epoch 00023: val_f1_score did not improve from 0.32546\n",
            "38/38 [==============================] - 302s 8s/step - loss: 1.0660 - f1_score: 0.3848 - val_loss: 1.0977 - val_f1_score: 0.3169\n",
            "Epoch 24/40\n",
            "38/38 [==============================] - ETA: 0s - loss: 1.0873 - f1_score: 0.3825\n",
            "Epoch 00024: val_f1_score did not improve from 0.32546\n",
            "38/38 [==============================] - 303s 8s/step - loss: 1.0873 - f1_score: 0.3825 - val_loss: 1.1160 - val_f1_score: 0.3117\n",
            "Epoch 25/40\n",
            "38/38 [==============================] - ETA: 0s - loss: 1.1036 - f1_score: 0.3592\n",
            "Epoch 00025: val_f1_score improved from 0.32546 to 0.34629, saving model to /content/drive/MyDrive/ P8_kaggle_competition/Best_model_changed.h5\n",
            "38/38 [==============================] - 309s 8s/step - loss: 1.1036 - f1_score: 0.3592 - val_loss: 1.1729 - val_f1_score: 0.3463\n",
            "Epoch 26/40\n",
            "38/38 [==============================] - ETA: 0s - loss: 1.0225 - f1_score: 0.4436\n",
            "Epoch 00026: val_f1_score improved from 0.34629 to 0.34793, saving model to /content/drive/MyDrive/ P8_kaggle_competition/Best_model_changed.h5\n",
            "38/38 [==============================] - 306s 8s/step - loss: 1.0225 - f1_score: 0.4436 - val_loss: 1.0645 - val_f1_score: 0.3479\n",
            "Epoch 27/40\n",
            "38/38 [==============================] - ETA: 0s - loss: 1.0462 - f1_score: 0.3614\n",
            "Epoch 00027: val_f1_score did not improve from 0.34793\n",
            "38/38 [==============================] - 307s 8s/step - loss: 1.0462 - f1_score: 0.3614 - val_loss: 1.2133 - val_f1_score: 0.3185\n",
            "Epoch 28/40\n",
            "38/38 [==============================] - ETA: 0s - loss: 1.0315 - f1_score: 0.3608\n",
            "Epoch 00028: val_f1_score did not improve from 0.34793\n",
            "38/38 [==============================] - 305s 8s/step - loss: 1.0315 - f1_score: 0.3608 - val_loss: 1.2332 - val_f1_score: 0.2901\n",
            "Epoch 29/40\n",
            "38/38 [==============================] - ETA: 0s - loss: 0.9600 - f1_score: 0.4154\n",
            "Epoch 00029: val_f1_score did not improve from 0.34793\n",
            "38/38 [==============================] - 309s 8s/step - loss: 0.9600 - f1_score: 0.4154 - val_loss: 1.1828 - val_f1_score: 0.3156\n",
            "Epoch 30/40\n",
            "38/38 [==============================] - ETA: 0s - loss: 1.0012 - f1_score: 0.4053\n",
            "Epoch 00030: val_f1_score did not improve from 0.34793\n",
            "38/38 [==============================] - 305s 8s/step - loss: 1.0012 - f1_score: 0.4053 - val_loss: 1.1776 - val_f1_score: 0.3085\n",
            "Epoch 31/40\n",
            "38/38 [==============================] - ETA: 0s - loss: 0.9821 - f1_score: 0.3638\n",
            "Epoch 00031: val_f1_score did not improve from 0.34793\n",
            "38/38 [==============================] - 305s 8s/step - loss: 0.9821 - f1_score: 0.3638 - val_loss: 1.1373 - val_f1_score: 0.3175\n",
            "Epoch 32/40\n",
            "38/38 [==============================] - ETA: 0s - loss: 0.9979 - f1_score: 0.4030\n",
            "Epoch 00032: val_f1_score did not improve from 0.34793\n",
            "38/38 [==============================] - 303s 8s/step - loss: 0.9979 - f1_score: 0.4030 - val_loss: 1.2309 - val_f1_score: 0.2987\n",
            "Epoch 33/40\n",
            "38/38 [==============================] - ETA: 0s - loss: 1.0616 - f1_score: 0.4183\n",
            "Epoch 00033: val_f1_score did not improve from 0.34793\n",
            "38/38 [==============================] - 303s 8s/step - loss: 1.0616 - f1_score: 0.4183 - val_loss: 1.1534 - val_f1_score: 0.3232\n",
            "Epoch 34/40\n",
            "38/38 [==============================] - ETA: 0s - loss: 1.0260 - f1_score: 0.4081\n",
            "Epoch 00034: val_f1_score did not improve from 0.34793\n",
            "38/38 [==============================] - 306s 8s/step - loss: 1.0260 - f1_score: 0.4081 - val_loss: 1.1907 - val_f1_score: 0.3119\n",
            "Epoch 35/40\n",
            "38/38 [==============================] - ETA: 0s - loss: 0.9432 - f1_score: 0.4721\n",
            "Epoch 00035: val_f1_score did not improve from 0.34793\n",
            "38/38 [==============================] - 307s 8s/step - loss: 0.9432 - f1_score: 0.4721 - val_loss: 1.2162 - val_f1_score: 0.2889\n",
            "Epoch 36/40\n",
            "38/38 [==============================] - ETA: 0s - loss: 0.9361 - f1_score: 0.4355\n",
            "Epoch 00036: val_f1_score did not improve from 0.34793\n",
            "Restoring model weights from the end of the best epoch: 26.\n",
            "38/38 [==============================] - 307s 8s/step - loss: 0.9361 - f1_score: 0.4355 - val_loss: 1.1863 - val_f1_score: 0.2823\n",
            "Epoch 00036: early stopping\n",
            "Done in 11677.658s.\n"
          ]
        }
      ]
    },
    {
      "cell_type": "code",
      "source": [
        "acc = model_history.history['f1_score']\n",
        "val_acc = model_history.history['val_f1_score']\n",
        "\n",
        "loss = model_history.history['loss']\n",
        "val_loss = model_history.history['val_loss']\n",
        "\n",
        "plt.figure(figsize=(8, 8))\n",
        "plt.subplot(2, 1, 1)\n",
        "plt.plot(acc, label='Training Accuracy')\n",
        "plt.plot(val_acc, label='Validation Accuracy')\n",
        "plt.legend(loc='upper right')\n",
        "plt.ylabel('Accuracy')\n",
        "plt.ylim([min(plt.ylim()),1])\n",
        "plt.title('Training and Validation Accuracy')\n",
        "\n",
        "plt.subplot(2, 1, 2)\n",
        "plt.plot(loss, label='Training Loss')\n",
        "plt.plot(val_loss, label='Validation Loss')\n",
        "plt.legend(loc='lower right')\n",
        "plt.ylabel('Cross Entropy')\n",
        "plt.ylim([0,2.0])\n",
        "plt.title('Training and Validation Loss')\n",
        "plt.xlabel('epoch')\n",
        "plt.show()"
      ],
      "metadata": {
        "colab": {
          "base_uri": "https://localhost:8080/",
          "height": 513
        },
        "id": "JzCWh3Nj19vI",
        "outputId": "2f624af2-0356-403f-adfd-e36601940eb6"
      },
      "execution_count": null,
      "outputs": [
        {
          "output_type": "display_data",
          "data": {
            "image/png": "[encoded data removed]",
            "text/plain": [
              "<Figure size 576x576 with 2 Axes>"
            ]
          },
          "metadata": {
            "needs_background": "light"
          }
        }
      ]
    },
    {
      "cell_type": "markdown",
      "source": [
        "#Evaluation performance"
      ],
      "metadata": {
        "id": "9EzWr9k93B6T"
      }
    },
    {
      "cell_type": "markdown",
      "source": [
        "##InceptionV3"
      ],
      "metadata": {
        "id": "4vste0cJ3ky2"
      }
    },
    {
      "cell_type": "code",
      "source": [
        "model.load_weights(\"/content/drive/MyDrive/ P8_kaggle_competition/Best_model_inceptionV3.h5\")\n",
        "loss, accuracy = model.evaluate(val_ds)\n",
        "print('Valid accuracy :', round(accuracy, 3))\n",
        "print('Valid loss :', round(loss, 3))"
      ],
      "metadata": {
        "id": "WCNVjH8U3pqP",
        "colab": {
          "base_uri": "https://localhost:8080/"
        },
        "outputId": "397da0ab-2e61-4414-bb0d-596e3172e924"
      },
      "execution_count": null,
      "outputs": [
        {
          "output_type": "stream",
          "name": "stdout",
          "text": [
            "39/39 [==============================] - 682s 18s/step - loss: 1.0929 - f1_score: 0.3265\n",
            "Valid accuracy : 0.327\n",
            "Valid loss : 1.093\n"
          ]
        }
      ]
    }
  ],
  "metadata": {
    "accelerator": "GPU",
    "colab": {
      "name": "P8_01_documentation.ipynb",
      "provenance": [],
      "collapsed_sections": [],
      "toc_visible": true
    },
    "kernelspec": {
      "display_name": "Python 3",
      "name": "python3"
    },
    "language_info": {
      "name": "python"
    }
  },
  "nbformat": 4,
  "nbformat_minor": 0
}